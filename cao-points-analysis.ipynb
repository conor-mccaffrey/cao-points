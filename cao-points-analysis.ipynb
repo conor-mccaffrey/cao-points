{
 "cells": [
  {
   "cell_type": "markdown",
   "id": "3a06bab6-a7c8-4d16-b304-5578e1a4203f",
   "metadata": {},
   "source": [
    "# <center> CAO Points Analysis </center>\n",
    "### Conor McCaffrey\n",
    "\n",
    "***\n",
    "\n",
    "![cao picture](Images/cao.png)\n",
    "\n",
    "<i><sub> Picture adapted from Reference 1 </sub></i>\n",
    "<br>\n"
   ]
  },
  {
   "cell_type": "markdown",
   "id": "9324f387",
   "metadata": {},
   "source": [
    "Please click the following link to go to the CAO website:\n",
    "[CAO Website](https://www.cao.ie)\n",
    "\n",
    "This notebook has two dual purposes: \n",
    "* To compare and contrast the CAO points in 2019,2020 and 2021 using the functionality of <i>Pandas</i>.\n",
    "* To display knowledge gained throughout the duration of the course, in this case displayed through the use of plots and other visualisations of the above data.\n",
    "\n",
    "***\n",
    "\n"
   ]
  },
  {
   "cell_type": "markdown",
   "id": "9875ed78",
   "metadata": {},
   "source": [
    "### Table of Contents\n",
    "\n",
    "#### Loading of Datasets\n",
    "* Loading [2021 Points](#2021_Points) Dataset\n",
    "* Loading [2020 Points](#2020_Points) Dataset \n",
    "* Loading [2019 Points](#2019_Points) Dataset \n",
    "\n",
    "#### Analysis of Datasets\n",
    "* [Analysis of CAO Level 8,7,6 Points](#Analysis_of_CAO_Level_8,7,6_Points)\n",
    "*\n",
    "*\n",
    "\n",
    "\n",
    "\n",
    "         \n"
   ]
  },
  {
   "cell_type": "markdown",
   "id": "f900a814",
   "metadata": {},
   "source": [
    "### Let's import our packages"
   ]
  },
  {
   "cell_type": "code",
   "execution_count": 1,
   "id": "76b3f43b",
   "metadata": {
    "scrolled": false
   },
   "outputs": [],
   "source": [
    "# Convenient HTTP requests.\n",
    "import requests as rq\n",
    "\n",
    "# Regular expressions.\n",
    "import re\n",
    "\n",
    "# Dates and times.\n",
    "import datetime as dt\n",
    "\n",
    "# Data frames. (dataframes is another way to say spreadsheets)\n",
    "import pandas as pd\n",
    "\n",
    "# For downloading.\n",
    "import urllib.request as urlrq\n",
    "\n",
    "# For plotting\n",
    "import seaborn as sns\n",
    "\n",
    "# For plotting\n",
    "import matplotlib.pyplot as plt\n",
    "\n",
    "# Enhanced Plotting\n",
    "from plotly.subplots import make_subplots\n",
    "import plotly.graph_objects as go\n"
   ]
  },
  {
   "cell_type": "markdown",
   "id": "3eaf274c",
   "metadata": {},
   "source": [
    "<a id='2021_Points'></a>\n",
    "<br>\n",
    "\n",
    "## 2021 Points\n",
    "\n",
    "#### Please click below for 2021 courses\n",
    "http://www.cao.ie/index.php?page=points&p=2021\n",
    "\n",
    "\n"
   ]
  },
  {
   "cell_type": "markdown",
   "id": "4e3c2ecf",
   "metadata": {},
   "source": [
    "Give overview here of response function (concise)"
   ]
  },
  {
   "cell_type": "markdown",
   "id": "59d32aaa",
   "metadata": {},
   "source": [
    "##### Steps to re-produce loading of Data in Pandas Dataframe\n",
    "\n",
    "1. Use Requests library [3] to make HTTP request to Python.\n",
    "2. Using DateTime package to get current date and time [4], create a filepath for data.\n",
    "3. Rectify encoding error on dataset by setting to 'cp1252'.\n",
    "4. Re-save Word Document for editing.\n",
    "5. Save this rectifed HTML dataset.\n",
    "6. Using regular expressions [5], select the information we require from HTML file.\n",
    "7. Loop through this file, using regular expression and save as a .csv file.\n",
    "8. Read this .csv file into a Pandas dataframe\n",
    "9. Call a method on the dataframe to ensure it is loaded correctly\n",
    "\n"
   ]
  },
  {
   "cell_type": "markdown",
   "id": "582286ad",
   "metadata": {},
   "source": [
    "##### Let's gather the Level 8 courses"
   ]
  },
  {
   "cell_type": "code",
   "execution_count": 2,
   "id": "5ca4f3ff-5a2c-4fe7-a78a-01481d1dab81",
   "metadata": {
    "scrolled": false
   },
   "outputs": [
    {
     "data": {
      "text/plain": [
       "<Response [200]>"
      ]
     },
     "execution_count": 2,
     "metadata": {},
     "output_type": "execute_result"
    }
   ],
   "source": [
    "# Fetch the CAO Level 8 points URL.  (based on Lecture Notes)\n",
    "resp8 = rq.get('http://www2.cao.ie/points/l8.php')\n",
    "# Have a quick look to ensure all is okay\n",
    "resp8       # Response 200 means all is okay. 404 means not found"
   ]
  },
  {
   "cell_type": "markdown",
   "id": "b994b959",
   "metadata": {},
   "source": [
    "##### Let's gather the Level 7/6 courses"
   ]
  },
  {
   "cell_type": "code",
   "execution_count": 3,
   "id": "2ef8a00e",
   "metadata": {
    "scrolled": false
   },
   "outputs": [
    {
     "data": {
      "text/plain": [
       "<Response [200]>"
      ]
     },
     "execution_count": 3,
     "metadata": {},
     "output_type": "execute_result"
    }
   ],
   "source": [
    "# Fetch the CAO Level 7/6 points URL (adapted from Lecture Notes)\n",
    "resp7 = rq.get('http://www2.cao.ie/points/l76.php')\n",
    "# Have a quick look to ensure all is okay\n",
    "resp7      # Response 200 means all is okay. 404 means not found"
   ]
  },
  {
   "cell_type": "markdown",
   "id": "17328470",
   "metadata": {},
   "source": [
    "<br>\n",
    "\n",
    "## Save original dataset"
   ]
  },
  {
   "cell_type": "code",
   "execution_count": 4,
   "id": "210cfd9a",
   "metadata": {
    "scrolled": false
   },
   "outputs": [],
   "source": [
    "# Get current date and time using Datetime Package [4]\n",
    "now = dt.datetime.now()\n",
    "\n",
    "# Format as a string.\n",
    "nowstr = now.strftime('%Y%m%d_%H%M%S')"
   ]
  },
  {
   "cell_type": "code",
   "execution_count": 5,
   "id": "36804d21",
   "metadata": {
    "scrolled": false
   },
   "outputs": [],
   "source": [
    "# Create a filepath for original Level 8 data (Based on reference 6)\n",
    "path_HTML8 = 'data/cao2021_Lvl8_' +  nowstr + '.html'\n",
    "# Create a filepath for original Level 7/6 data\n",
    "path_HTML7 = 'data/cao2021_Lvl76_' +  nowstr + '.html'"
   ]
  },
  {
   "cell_type": "markdown",
   "id": "04ae8e5c",
   "metadata": {},
   "source": [
    "<br>\n",
    "\n",
    "## Charset error on CAO server\n",
    "\n",
    "***\n",
    "\n",
    "Technically the server says we should decode as iso-8859:\n",
    "\n",
    "```\n",
    "Content-Type: text/html; charset=iso-8859-1\n",
    "\n",
    "```\n",
    "\n",
    "However, one line uses \\x96 which isnt defined in iso-8859-1. <br>\n",
    "Therefore, we use the similar decoding standard cp1252 which is similar but also includes \\x96."
   ]
  },
  {
   "cell_type": "code",
   "execution_count": 6,
   "id": "733715e6",
   "metadata": {
    "scrolled": false
   },
   "outputs": [],
   "source": [
    "## Level 8\n",
    "# Accounting for the error on the server\n",
    "original_encoding = resp8.encoding\n",
    "# Change it to cp1252\n",
    "resp8.encoding = 'cp1252'"
   ]
  },
  {
   "cell_type": "code",
   "execution_count": 7,
   "id": "d79a9a56",
   "metadata": {
    "scrolled": false
   },
   "outputs": [],
   "source": [
    "# Save the original HTML file\n",
    "with open(path_HTML8, 'w') as f:\n",
    "    f.write(resp8.text)"
   ]
  },
  {
   "cell_type": "code",
   "execution_count": 8,
   "id": "40838829",
   "metadata": {
    "scrolled": false
   },
   "outputs": [],
   "source": [
    "## Level 7/6\n",
    "# Accounting for the error on the server for Level 7/6 data\n",
    "original_encoding = resp7.encoding\n",
    "# Change it to cp1252\n",
    "resp7.encoding = 'cp1252'"
   ]
  },
  {
   "cell_type": "code",
   "execution_count": 9,
   "id": "e1cc31f5",
   "metadata": {
    "scrolled": false
   },
   "outputs": [],
   "source": [
    "# Save the original HTML file\n",
    "with open(path_HTML7, 'w') as f:\n",
    "    f.write(resp7.text)"
   ]
  },
  {
   "cell_type": "markdown",
   "id": "6fcba58f",
   "metadata": {},
   "source": [
    "# Use regular expressions to select lines we want\n",
    "\n",
    "***"
   ]
  },
  {
   "cell_type": "code",
   "execution_count": 10,
   "id": "79b2d55c-2d27-46b6-b6fc-52bf3d19bd96",
   "metadata": {
    "scrolled": false
   },
   "outputs": [],
   "source": [
    "# Compile the regular expression for matching lines. [5]\n",
    "re_course = re.compile(r'([A-Z]{2}[0-9]{3})(.*)') \n"
   ]
  },
  {
   "cell_type": "markdown",
   "id": "28c3a090",
   "metadata": {},
   "source": [
    "### Loop through the lines of the response and save result as a dataframe\n",
    "\n",
    "***"
   ]
  },
  {
   "cell_type": "code",
   "execution_count": 11,
   "id": "26176435",
   "metadata": {
    "scrolled": false
   },
   "outputs": [],
   "source": [
    "#The filepath for the csv file. Level 8\n",
    "path2021_8 = 'data/cao2021_Lvl8_' +  nowstr + '.csv'\n",
    "\n"
   ]
  },
  {
   "cell_type": "code",
   "execution_count": 12,
   "id": "664c1ea5-e5ba-47f3-8731-c10475a15a25",
   "metadata": {
    "scrolled": false,
    "tags": []
   },
   "outputs": [
    {
     "name": "stdout",
     "output_type": "stream",
     "text": [
      "Process has been successful. Total number of lines is 949.\n"
     ]
    }
   ],
   "source": [
    "# keep track of how many courses we process  COMMENT THIS\n",
    "no_lines = 0\n",
    "\n",
    "# Open the csv file for writing.\n",
    "try:\n",
    "    with open (path2021_8, 'w') as f:\n",
    "        # Write a header row.\n",
    "        f.write(','.join(['Code', 'Title', 'PointsR1', 'PointsR2']) + '\\n')\n",
    "        # Loop through the lines of the response.\n",
    "        for line in resp8.iter_lines(): # took from google stack overflow.\n",
    "        # Decode line, using the wrong encoding!\n",
    "            dline = line.decode('cp1252')\n",
    "        # match only the lines we want - the ones representing courses.\n",
    "        # getting set up for regular expression. 'pattern is the regular expression itself'\n",
    "            if re_course.fullmatch(dline):   \n",
    "            # Add one to the lines counter\n",
    "                no_lines = no_lines + 1\n",
    "            # The course code\n",
    "                course_code = dline[:5]\n",
    "            # The course title\n",
    "                course_title = dline[7:57].strip() # Remove whitespace\n",
    "            # Round 1 points\n",
    "                course_points = re.split(' +', dline[60:])\n",
    "                if len(course_points) != 2:\n",
    "                    course_points = course_points[:2]\n",
    "            # Join the fields using a comma.\n",
    "            # make final two elements into arrays with 3 things.\n",
    "                linesplit = [course_code, course_title, course_points[0], course_points[1]] \n",
    "            # rejoin the substrings with commas in between.\n",
    "                f.write(','.join(linesplit) + '\\n')\n",
    "except BaseException as err:\n",
    "    print('This has caused an error')\n",
    "else:\n",
    "    print('Process has been successful.',f'Total number of lines is {no_lines}.')          \n",
    "\n",
    "\n"
   ]
  },
  {
   "cell_type": "markdown",
   "id": "d9c0a0a9",
   "metadata": {},
   "source": [
    "<br>\n",
    "\n",
    "<b> ** N.B ** </b> It was verified as of 08/11/2021 there were 949 courses exactly in the CAO 2021 Points List.\n",
    "\n",
    "***"
   ]
  },
  {
   "cell_type": "code",
   "execution_count": 13,
   "id": "1de3c3b5",
   "metadata": {
    "scrolled": false
   },
   "outputs": [],
   "source": [
    "# Saving our result in a dataframe [7]\n",
    "df2021_8 = pd.read_csv(path2021_8, encoding='cp1252') \n",
    "\n",
    "# consider making a table listing University and the letters for it"
   ]
  },
  {
   "cell_type": "code",
   "execution_count": 14,
   "id": "92cc1e48",
   "metadata": {
    "scrolled": false
   },
   "outputs": [
    {
     "data": {
      "text/html": [
       "<div>\n",
       "<style scoped>\n",
       "    .dataframe tbody tr th:only-of-type {\n",
       "        vertical-align: middle;\n",
       "    }\n",
       "\n",
       "    .dataframe tbody tr th {\n",
       "        vertical-align: top;\n",
       "    }\n",
       "\n",
       "    .dataframe thead th {\n",
       "        text-align: right;\n",
       "    }\n",
       "</style>\n",
       "<table border=\"1\" class=\"dataframe\">\n",
       "  <thead>\n",
       "    <tr style=\"text-align: right;\">\n",
       "      <th></th>\n",
       "      <th>Code</th>\n",
       "      <th>Title</th>\n",
       "      <th>PointsR1</th>\n",
       "      <th>PointsR2</th>\n",
       "    </tr>\n",
       "  </thead>\n",
       "  <tbody>\n",
       "    <tr>\n",
       "      <th>0</th>\n",
       "      <td>AL801</td>\n",
       "      <td>Software Design for Virtual Reality and Gaming</td>\n",
       "      <td>300</td>\n",
       "      <td>NaN</td>\n",
       "    </tr>\n",
       "    <tr>\n",
       "      <th>1</th>\n",
       "      <td>AL802</td>\n",
       "      <td>Software Design in Artificial Intelligence for...</td>\n",
       "      <td>313</td>\n",
       "      <td>NaN</td>\n",
       "    </tr>\n",
       "    <tr>\n",
       "      <th>2</th>\n",
       "      <td>AL803</td>\n",
       "      <td>Software Design for Mobile Apps and Connected ...</td>\n",
       "      <td>350</td>\n",
       "      <td>NaN</td>\n",
       "    </tr>\n",
       "    <tr>\n",
       "      <th>3</th>\n",
       "      <td>AL805</td>\n",
       "      <td>Computer Engineering for Network Infrastructure</td>\n",
       "      <td>321</td>\n",
       "      <td>NaN</td>\n",
       "    </tr>\n",
       "    <tr>\n",
       "      <th>4</th>\n",
       "      <td>AL810</td>\n",
       "      <td>Quantity Surveying</td>\n",
       "      <td>328</td>\n",
       "      <td>NaN</td>\n",
       "    </tr>\n",
       "    <tr>\n",
       "      <th>...</th>\n",
       "      <td>...</td>\n",
       "      <td>...</td>\n",
       "      <td>...</td>\n",
       "      <td>...</td>\n",
       "    </tr>\n",
       "    <tr>\n",
       "      <th>944</th>\n",
       "      <td>WD211</td>\n",
       "      <td>Creative Computing</td>\n",
       "      <td>270</td>\n",
       "      <td>NaN</td>\n",
       "    </tr>\n",
       "    <tr>\n",
       "      <th>945</th>\n",
       "      <td>WD212</td>\n",
       "      <td>Recreation and Sport Management</td>\n",
       "      <td>262</td>\n",
       "      <td>NaN</td>\n",
       "    </tr>\n",
       "    <tr>\n",
       "      <th>946</th>\n",
       "      <td>WD230</td>\n",
       "      <td>Mechanical and Manufacturing Engineering</td>\n",
       "      <td>230</td>\n",
       "      <td>230</td>\n",
       "    </tr>\n",
       "    <tr>\n",
       "      <th>947</th>\n",
       "      <td>WD231</td>\n",
       "      <td>Early Childhood Care and Education</td>\n",
       "      <td>266</td>\n",
       "      <td>NaN</td>\n",
       "    </tr>\n",
       "    <tr>\n",
       "      <th>948</th>\n",
       "      <td>WD232</td>\n",
       "      <td>Business Information Systems</td>\n",
       "      <td>261</td>\n",
       "      <td>261</td>\n",
       "    </tr>\n",
       "  </tbody>\n",
       "</table>\n",
       "<p>949 rows × 4 columns</p>\n",
       "</div>"
      ],
      "text/plain": [
       "      Code                                              Title PointsR1  \\\n",
       "0    AL801     Software Design for Virtual Reality and Gaming      300   \n",
       "1    AL802  Software Design in Artificial Intelligence for...      313   \n",
       "2    AL803  Software Design for Mobile Apps and Connected ...      350   \n",
       "3    AL805    Computer Engineering for Network Infrastructure      321   \n",
       "4    AL810                                 Quantity Surveying      328   \n",
       "..     ...                                                ...      ...   \n",
       "944  WD211                                 Creative Computing      270   \n",
       "945  WD212                    Recreation and Sport Management      262   \n",
       "946  WD230           Mechanical and Manufacturing Engineering      230   \n",
       "947  WD231                 Early Childhood Care and Education      266   \n",
       "948  WD232                       Business Information Systems      261   \n",
       "\n",
       "    PointsR2  \n",
       "0        NaN  \n",
       "1        NaN  \n",
       "2        NaN  \n",
       "3        NaN  \n",
       "4        NaN  \n",
       "..       ...  \n",
       "944      NaN  \n",
       "945      NaN  \n",
       "946      230  \n",
       "947      NaN  \n",
       "948      261  \n",
       "\n",
       "[949 rows x 4 columns]"
      ]
     },
     "execution_count": 14,
     "metadata": {},
     "output_type": "execute_result"
    }
   ],
   "source": [
    "# Calling variable to test\n",
    "df2021_8"
   ]
  },
  {
   "cell_type": "markdown",
   "id": "2be9c49c",
   "metadata": {},
   "source": [
    "***\n",
    "## <u> Now let's complete the same for Level 7/6 Data </u>\n",
    " <br>\n",
    " \n",
    " ### Loop through the lines of the response and save result as a dataframe\n"
   ]
  },
  {
   "cell_type": "code",
   "execution_count": 15,
   "id": "c71b20ea",
   "metadata": {
    "scrolled": false
   },
   "outputs": [
    {
     "name": "stdout",
     "output_type": "stream",
     "text": [
      "Process has been successful. Total number of lines is 416.\n"
     ]
    }
   ],
   "source": [
    "#The filepath for the csv file.\n",
    "\n",
    "path2021_7 = 'data/cao2021_Lvl76_' +  nowstr + '.csv'\n",
    "# keep track of how many courses we process\n",
    "no_lines = 0\n",
    "\n",
    "# Open the csv file for writing.\n",
    "try:\n",
    "    with open (path2021_7, 'w') as f:\n",
    "        # Write a header row.\n",
    "        f.write(','.join(['Code', 'Title', 'PointsR1', 'PointsR2']) + '\\n')\n",
    "        # Loop through the lines of the response.\n",
    "        for line in resp7.iter_lines(): # took from google stack overflow.\n",
    "            # Decode line, using the wrong encoding!\n",
    "            dline = line.decode('cp1252')\n",
    "            # match only the lines we want - the ones representing courses.\n",
    "            if re_course.fullmatch(dline):   \n",
    "                # Add one to the lines counter\n",
    "                no_lines = no_lines + 1\n",
    "        \n",
    "                # The course code\n",
    "                course_code = dline[:5]\n",
    "                # The course title\n",
    "                course_title = dline[7:57].strip()\n",
    "                # Round 1 points\n",
    "                course_points = re.split(' +', dline[60:])\n",
    "                if len(course_points) != 2:\n",
    "                    course_points = course_points[:2]\n",
    "                # Join the fields using a comma.\n",
    "                # make last two things into arrays with 3 things.\n",
    "                linesplit = [course_code, course_title, course_points[0], course_points[1]] \n",
    "                # rejoin the substrings with commas in between.\n",
    "                f.write(','.join(linesplit) + '\\n')\n",
    "except BaseException as err:\n",
    "    print('This has caused an error')\n",
    "else:\n",
    "    print('Process has been successful.',f'Total number of lines is {no_lines}.')    \n"
   ]
  },
  {
   "cell_type": "markdown",
   "id": "96e9b1de",
   "metadata": {},
   "source": [
    "<br>\n",
    "\n",
    "<b> ** N.B ** </b> It was verified as of 23/11/2021 there were 416 courses exactly in the CAO 2021 Points List for Level 7/6.\n",
    "\n",
    "***"
   ]
  },
  {
   "cell_type": "code",
   "execution_count": 16,
   "id": "6c45cb86",
   "metadata": {
    "scrolled": false
   },
   "outputs": [],
   "source": [
    "# Saving our result in a dataframe [7]\n",
    "\n",
    "df2021_7 = pd.read_csv(path2021_7, encoding='cp1252') "
   ]
  },
  {
   "cell_type": "code",
   "execution_count": 17,
   "id": "871b72fb",
   "metadata": {
    "scrolled": false
   },
   "outputs": [
    {
     "data": {
      "text/html": [
       "<div>\n",
       "<style scoped>\n",
       "    .dataframe tbody tr th:only-of-type {\n",
       "        vertical-align: middle;\n",
       "    }\n",
       "\n",
       "    .dataframe tbody tr th {\n",
       "        vertical-align: top;\n",
       "    }\n",
       "\n",
       "    .dataframe thead th {\n",
       "        text-align: right;\n",
       "    }\n",
       "</style>\n",
       "<table border=\"1\" class=\"dataframe\">\n",
       "  <thead>\n",
       "    <tr style=\"text-align: right;\">\n",
       "      <th></th>\n",
       "      <th>Code</th>\n",
       "      <th>Title</th>\n",
       "      <th>PointsR1</th>\n",
       "      <th>PointsR2</th>\n",
       "    </tr>\n",
       "  </thead>\n",
       "  <tbody>\n",
       "    <tr>\n",
       "      <th>0</th>\n",
       "      <td>AL605</td>\n",
       "      <td>Music and Instrument Technology</td>\n",
       "      <td>211</td>\n",
       "      <td>NaN</td>\n",
       "    </tr>\n",
       "    <tr>\n",
       "      <th>1</th>\n",
       "      <td>AL630</td>\n",
       "      <td>Pharmacy Technician</td>\n",
       "      <td>308</td>\n",
       "      <td>NaN</td>\n",
       "    </tr>\n",
       "    <tr>\n",
       "      <th>2</th>\n",
       "      <td>AL631</td>\n",
       "      <td>Dental Nursing</td>\n",
       "      <td>311</td>\n",
       "      <td>NaN</td>\n",
       "    </tr>\n",
       "    <tr>\n",
       "      <th>3</th>\n",
       "      <td>AL632</td>\n",
       "      <td>Applied Science</td>\n",
       "      <td>297</td>\n",
       "      <td>NaN</td>\n",
       "    </tr>\n",
       "    <tr>\n",
       "      <th>4</th>\n",
       "      <td>AL650</td>\n",
       "      <td>Business</td>\n",
       "      <td>AQA</td>\n",
       "      <td>AQA</td>\n",
       "    </tr>\n",
       "    <tr>\n",
       "      <th>...</th>\n",
       "      <td>...</td>\n",
       "      <td>...</td>\n",
       "      <td>...</td>\n",
       "      <td>...</td>\n",
       "    </tr>\n",
       "    <tr>\n",
       "      <th>411</th>\n",
       "      <td>WD188</td>\n",
       "      <td>Applied Health Care</td>\n",
       "      <td>220</td>\n",
       "      <td>NaN</td>\n",
       "    </tr>\n",
       "    <tr>\n",
       "      <th>412</th>\n",
       "      <td>WD205</td>\n",
       "      <td>Molecular Biology with Biopharmaceutical Science</td>\n",
       "      <td>AQA</td>\n",
       "      <td>262v</td>\n",
       "    </tr>\n",
       "    <tr>\n",
       "      <th>413</th>\n",
       "      <td>WD206</td>\n",
       "      <td>Electronic Engineering</td>\n",
       "      <td>180</td>\n",
       "      <td>NaN</td>\n",
       "    </tr>\n",
       "    <tr>\n",
       "      <th>414</th>\n",
       "      <td>WD207</td>\n",
       "      <td>Mechanical Engineering</td>\n",
       "      <td>172</td>\n",
       "      <td>NaN</td>\n",
       "    </tr>\n",
       "    <tr>\n",
       "      <th>415</th>\n",
       "      <td>WD208</td>\n",
       "      <td>Manufacturing Engineering</td>\n",
       "      <td>317</td>\n",
       "      <td>NaN</td>\n",
       "    </tr>\n",
       "  </tbody>\n",
       "</table>\n",
       "<p>416 rows × 4 columns</p>\n",
       "</div>"
      ],
      "text/plain": [
       "      Code                                             Title PointsR1 PointsR2\n",
       "0    AL605                   Music and Instrument Technology      211      NaN\n",
       "1    AL630                               Pharmacy Technician      308      NaN\n",
       "2    AL631                                    Dental Nursing      311      NaN\n",
       "3    AL632                                   Applied Science      297      NaN\n",
       "4    AL650                                          Business      AQA      AQA\n",
       "..     ...                                               ...      ...      ...\n",
       "411  WD188                               Applied Health Care      220      NaN\n",
       "412  WD205  Molecular Biology with Biopharmaceutical Science      AQA     262v\n",
       "413  WD206                            Electronic Engineering      180      NaN\n",
       "414  WD207                            Mechanical Engineering      172      NaN\n",
       "415  WD208                         Manufacturing Engineering      317      NaN\n",
       "\n",
       "[416 rows x 4 columns]"
      ]
     },
     "execution_count": 17,
     "metadata": {},
     "output_type": "execute_result"
    }
   ],
   "source": [
    "# lets ensure it calls out correctly\n",
    "df2021_7"
   ]
  },
  {
   "cell_type": "markdown",
   "id": "2ba16d38",
   "metadata": {},
   "source": [
    "<br>\n",
    "<a id='2020_Points'></a>\n",
    "\n",
    "## 2020 Points\n",
    "\n",
    "#### Please click below for 2020 courses\n",
    "http://www.cao.ie/index.php?page=points&p=2020\n",
    "\n",
    "\n",
    "\n"
   ]
  },
  {
   "cell_type": "markdown",
   "id": "5b225ee1",
   "metadata": {},
   "source": [
    "***"
   ]
  },
  {
   "cell_type": "code",
   "execution_count": 18,
   "id": "691782e1",
   "metadata": {
    "scrolled": false
   },
   "outputs": [],
   "source": [
    "\n",
    "# Saving URL for 2020 points to the variable url2020\n",
    "url2020 = 'http://www2.cao.ie/points/CAOPointsCharts2020.xlsx'"
   ]
  },
  {
   "cell_type": "markdown",
   "id": "bc36bbe7",
   "metadata": {},
   "source": [
    "##### Steps to re-produce loading of Data in Pandas Dataframe\n",
    "\n",
    "1. Using DateTime package, create filepath for data in excel format.\n",
    "2. Save this file to disk using 'path' variable and url requests (https://docs.python.org/3/library/urllib.request.html).\n",
    "3. Read data into Pandas Dataframe [7], using skiprows to remove unecessary data.\n",
    "4. Spot check the data to ensure it has all transferred correctly.\n",
    "5. Creat filepath for dataframe in excel .csv format.\n",
    "6. Save Pandas dataframe to disk.\n"
   ]
  },
  {
   "cell_type": "markdown",
   "id": "ad21be66",
   "metadata": {},
   "source": [
    "<br>\n",
    "\n",
    "### Save Original Dataset\n",
    "\n",
    "***"
   ]
  },
  {
   "cell_type": "markdown",
   "id": "11620f4c",
   "metadata": {},
   "source": [
    "#### Let's gather the Data"
   ]
  },
  {
   "cell_type": "code",
   "execution_count": 19,
   "id": "a1e0f41d",
   "metadata": {
    "scrolled": false
   },
   "outputs": [],
   "source": [
    "# Create a filepath for original data. \n",
    "path2020 = 'data/cao2020_' +  nowstr + '.xlsx'"
   ]
  },
  {
   "cell_type": "code",
   "execution_count": 20,
   "id": "32cd3f70",
   "metadata": {
    "scrolled": false
   },
   "outputs": [
    {
     "data": {
      "text/plain": [
       "('data/cao2020_20211127_151746.xlsx',\n",
       " <http.client.HTTPMessage at 0x28dedd12610>)"
      ]
     },
     "execution_count": 20,
     "metadata": {},
     "output_type": "execute_result"
    }
   ],
   "source": [
    "# Save original file to disk. [8]\n",
    "urlrq.urlretrieve(url2020, path2020) "
   ]
  },
  {
   "cell_type": "markdown",
   "id": "b48e469d",
   "metadata": {},
   "source": [
    "<br>\n",
    "\n",
    "#### Load Spreadsheet using Pandas\n",
    "\n",
    "***"
   ]
  },
  {
   "cell_type": "code",
   "execution_count": 21,
   "id": "0aa71fd2",
   "metadata": {
    "scrolled": false
   },
   "outputs": [],
   "source": [
    "# Download and parse the excel spreadsheet\n",
    "# Read excel function turns it into a dataframe in memory so we are now dealing with pandas df from here\n",
    "df2020 = pd.read_excel(url2020, skiprows = 10) # pandas dataframe"
   ]
  },
  {
   "cell_type": "code",
   "execution_count": 22,
   "id": "d198ae5b",
   "metadata": {
    "scrolled": false
   },
   "outputs": [
    {
     "data": {
      "text/html": [
       "<div>\n",
       "<style scoped>\n",
       "    .dataframe tbody tr th:only-of-type {\n",
       "        vertical-align: middle;\n",
       "    }\n",
       "\n",
       "    .dataframe tbody tr th {\n",
       "        vertical-align: top;\n",
       "    }\n",
       "\n",
       "    .dataframe thead th {\n",
       "        text-align: right;\n",
       "    }\n",
       "</style>\n",
       "<table border=\"1\" class=\"dataframe\">\n",
       "  <thead>\n",
       "    <tr style=\"text-align: right;\">\n",
       "      <th></th>\n",
       "      <th>CATEGORY (i.e.ISCED description)</th>\n",
       "      <th>COURSE TITLE</th>\n",
       "      <th>COURSE CODE2</th>\n",
       "      <th>R1 POINTS</th>\n",
       "      <th>R1 Random *</th>\n",
       "      <th>R2 POINTS</th>\n",
       "      <th>R2 Random*</th>\n",
       "      <th>EOS</th>\n",
       "      <th>EOS Random *</th>\n",
       "      <th>EOS Mid-point</th>\n",
       "      <th>...</th>\n",
       "      <th>avp</th>\n",
       "      <th>v</th>\n",
       "      <th>Column1</th>\n",
       "      <th>Column2</th>\n",
       "      <th>Column3</th>\n",
       "      <th>Column4</th>\n",
       "      <th>Column5</th>\n",
       "      <th>Column6</th>\n",
       "      <th>Column7</th>\n",
       "      <th>Column8</th>\n",
       "    </tr>\n",
       "  </thead>\n",
       "  <tbody>\n",
       "    <tr>\n",
       "      <th>0</th>\n",
       "      <td>Business and administration</td>\n",
       "      <td>International Business</td>\n",
       "      <td>AC120</td>\n",
       "      <td>209</td>\n",
       "      <td>NaN</td>\n",
       "      <td>NaN</td>\n",
       "      <td>NaN</td>\n",
       "      <td>209</td>\n",
       "      <td>NaN</td>\n",
       "      <td>280</td>\n",
       "      <td>...</td>\n",
       "      <td>NaN</td>\n",
       "      <td>NaN</td>\n",
       "      <td>NaN</td>\n",
       "      <td>NaN</td>\n",
       "      <td>NaN</td>\n",
       "      <td>NaN</td>\n",
       "      <td>NaN</td>\n",
       "      <td>NaN</td>\n",
       "      <td>NaN</td>\n",
       "      <td>NaN</td>\n",
       "    </tr>\n",
       "    <tr>\n",
       "      <th>1</th>\n",
       "      <td>Humanities (except languages)</td>\n",
       "      <td>Liberal Arts</td>\n",
       "      <td>AC137</td>\n",
       "      <td>252</td>\n",
       "      <td>NaN</td>\n",
       "      <td>NaN</td>\n",
       "      <td>NaN</td>\n",
       "      <td>252</td>\n",
       "      <td>NaN</td>\n",
       "      <td>270</td>\n",
       "      <td>...</td>\n",
       "      <td>NaN</td>\n",
       "      <td>NaN</td>\n",
       "      <td>NaN</td>\n",
       "      <td>NaN</td>\n",
       "      <td>NaN</td>\n",
       "      <td>NaN</td>\n",
       "      <td>NaN</td>\n",
       "      <td>NaN</td>\n",
       "      <td>NaN</td>\n",
       "      <td>NaN</td>\n",
       "    </tr>\n",
       "    <tr>\n",
       "      <th>2</th>\n",
       "      <td>Arts</td>\n",
       "      <td>First Year Art &amp; Design (Common Entry,portfolio)</td>\n",
       "      <td>AD101</td>\n",
       "      <td>#+matric</td>\n",
       "      <td>NaN</td>\n",
       "      <td>NaN</td>\n",
       "      <td>NaN</td>\n",
       "      <td>#+matric</td>\n",
       "      <td>NaN</td>\n",
       "      <td>#+matric</td>\n",
       "      <td>...</td>\n",
       "      <td>NaN</td>\n",
       "      <td>NaN</td>\n",
       "      <td>NaN</td>\n",
       "      <td>NaN</td>\n",
       "      <td>NaN</td>\n",
       "      <td>NaN</td>\n",
       "      <td>NaN</td>\n",
       "      <td>NaN</td>\n",
       "      <td>NaN</td>\n",
       "      <td>NaN</td>\n",
       "    </tr>\n",
       "    <tr>\n",
       "      <th>3</th>\n",
       "      <td>Arts</td>\n",
       "      <td>Graphic Design and Moving Image Design (portfo...</td>\n",
       "      <td>AD102</td>\n",
       "      <td>#+matric</td>\n",
       "      <td>NaN</td>\n",
       "      <td>NaN</td>\n",
       "      <td>NaN</td>\n",
       "      <td>#+matric</td>\n",
       "      <td>NaN</td>\n",
       "      <td>#+matric</td>\n",
       "      <td>...</td>\n",
       "      <td>NaN</td>\n",
       "      <td>NaN</td>\n",
       "      <td>NaN</td>\n",
       "      <td>NaN</td>\n",
       "      <td>NaN</td>\n",
       "      <td>NaN</td>\n",
       "      <td>NaN</td>\n",
       "      <td>NaN</td>\n",
       "      <td>NaN</td>\n",
       "      <td>NaN</td>\n",
       "    </tr>\n",
       "    <tr>\n",
       "      <th>4</th>\n",
       "      <td>Arts</td>\n",
       "      <td>Textile &amp; Surface Design and Jewellery &amp; Objec...</td>\n",
       "      <td>AD103</td>\n",
       "      <td>#+matric</td>\n",
       "      <td>NaN</td>\n",
       "      <td>NaN</td>\n",
       "      <td>NaN</td>\n",
       "      <td>#+matric</td>\n",
       "      <td>NaN</td>\n",
       "      <td>#+matric</td>\n",
       "      <td>...</td>\n",
       "      <td>NaN</td>\n",
       "      <td>NaN</td>\n",
       "      <td>NaN</td>\n",
       "      <td>NaN</td>\n",
       "      <td>NaN</td>\n",
       "      <td>NaN</td>\n",
       "      <td>NaN</td>\n",
       "      <td>NaN</td>\n",
       "      <td>NaN</td>\n",
       "      <td>NaN</td>\n",
       "    </tr>\n",
       "    <tr>\n",
       "      <th>...</th>\n",
       "      <td>...</td>\n",
       "      <td>...</td>\n",
       "      <td>...</td>\n",
       "      <td>...</td>\n",
       "      <td>...</td>\n",
       "      <td>...</td>\n",
       "      <td>...</td>\n",
       "      <td>...</td>\n",
       "      <td>...</td>\n",
       "      <td>...</td>\n",
       "      <td>...</td>\n",
       "      <td>...</td>\n",
       "      <td>...</td>\n",
       "      <td>...</td>\n",
       "      <td>...</td>\n",
       "      <td>...</td>\n",
       "      <td>...</td>\n",
       "      <td>...</td>\n",
       "      <td>...</td>\n",
       "      <td>...</td>\n",
       "      <td>...</td>\n",
       "    </tr>\n",
       "    <tr>\n",
       "      <th>1459</th>\n",
       "      <td>Manufacturing and processing</td>\n",
       "      <td>Manufacturing Engineering</td>\n",
       "      <td>WD208</td>\n",
       "      <td>188</td>\n",
       "      <td>NaN</td>\n",
       "      <td>NaN</td>\n",
       "      <td>NaN</td>\n",
       "      <td>188</td>\n",
       "      <td>NaN</td>\n",
       "      <td>339</td>\n",
       "      <td>...</td>\n",
       "      <td>NaN</td>\n",
       "      <td>NaN</td>\n",
       "      <td>NaN</td>\n",
       "      <td>NaN</td>\n",
       "      <td>NaN</td>\n",
       "      <td>NaN</td>\n",
       "      <td>NaN</td>\n",
       "      <td>NaN</td>\n",
       "      <td>NaN</td>\n",
       "      <td>NaN</td>\n",
       "    </tr>\n",
       "    <tr>\n",
       "      <th>1460</th>\n",
       "      <td>Information and Communication Technologies (ICTs)</td>\n",
       "      <td>Software Systems Development</td>\n",
       "      <td>WD210</td>\n",
       "      <td>279</td>\n",
       "      <td>NaN</td>\n",
       "      <td>NaN</td>\n",
       "      <td>NaN</td>\n",
       "      <td>279</td>\n",
       "      <td>NaN</td>\n",
       "      <td>337</td>\n",
       "      <td>...</td>\n",
       "      <td>NaN</td>\n",
       "      <td>NaN</td>\n",
       "      <td>NaN</td>\n",
       "      <td>NaN</td>\n",
       "      <td>NaN</td>\n",
       "      <td>NaN</td>\n",
       "      <td>NaN</td>\n",
       "      <td>NaN</td>\n",
       "      <td>NaN</td>\n",
       "      <td>NaN</td>\n",
       "    </tr>\n",
       "    <tr>\n",
       "      <th>1461</th>\n",
       "      <td>Information and Communication Technologies (ICTs)</td>\n",
       "      <td>Creative Computing</td>\n",
       "      <td>WD211</td>\n",
       "      <td>271</td>\n",
       "      <td>NaN</td>\n",
       "      <td>NaN</td>\n",
       "      <td>NaN</td>\n",
       "      <td>271</td>\n",
       "      <td>NaN</td>\n",
       "      <td>318</td>\n",
       "      <td>...</td>\n",
       "      <td>NaN</td>\n",
       "      <td>NaN</td>\n",
       "      <td>NaN</td>\n",
       "      <td>NaN</td>\n",
       "      <td>NaN</td>\n",
       "      <td>NaN</td>\n",
       "      <td>NaN</td>\n",
       "      <td>NaN</td>\n",
       "      <td>NaN</td>\n",
       "      <td>NaN</td>\n",
       "    </tr>\n",
       "    <tr>\n",
       "      <th>1462</th>\n",
       "      <td>Personal services</td>\n",
       "      <td>Recreation and Sport Management</td>\n",
       "      <td>WD212</td>\n",
       "      <td>270</td>\n",
       "      <td>NaN</td>\n",
       "      <td>NaN</td>\n",
       "      <td>NaN</td>\n",
       "      <td>270</td>\n",
       "      <td>NaN</td>\n",
       "      <td>349</td>\n",
       "      <td>...</td>\n",
       "      <td>NaN</td>\n",
       "      <td>NaN</td>\n",
       "      <td>NaN</td>\n",
       "      <td>NaN</td>\n",
       "      <td>NaN</td>\n",
       "      <td>NaN</td>\n",
       "      <td>NaN</td>\n",
       "      <td>NaN</td>\n",
       "      <td>NaN</td>\n",
       "      <td>NaN</td>\n",
       "    </tr>\n",
       "    <tr>\n",
       "      <th>1463</th>\n",
       "      <td>Engineering and engineering trades</td>\n",
       "      <td>Mechanical and Manufacturing Engineering</td>\n",
       "      <td>WD230</td>\n",
       "      <td>253</td>\n",
       "      <td>NaN</td>\n",
       "      <td>NaN</td>\n",
       "      <td>NaN</td>\n",
       "      <td>253</td>\n",
       "      <td>NaN</td>\n",
       "      <td>369</td>\n",
       "      <td>...</td>\n",
       "      <td>NaN</td>\n",
       "      <td>NaN</td>\n",
       "      <td>NaN</td>\n",
       "      <td>NaN</td>\n",
       "      <td>NaN</td>\n",
       "      <td>NaN</td>\n",
       "      <td>NaN</td>\n",
       "      <td>NaN</td>\n",
       "      <td>NaN</td>\n",
       "      <td>NaN</td>\n",
       "    </tr>\n",
       "  </tbody>\n",
       "</table>\n",
       "<p>1464 rows × 23 columns</p>\n",
       "</div>"
      ],
      "text/plain": [
       "                       CATEGORY (i.e.ISCED description)  \\\n",
       "0                           Business and administration   \n",
       "1                         Humanities (except languages)   \n",
       "2                                                  Arts   \n",
       "3                                                  Arts   \n",
       "4                                                  Arts   \n",
       "...                                                 ...   \n",
       "1459                       Manufacturing and processing   \n",
       "1460  Information and Communication Technologies (ICTs)   \n",
       "1461  Information and Communication Technologies (ICTs)   \n",
       "1462                                  Personal services   \n",
       "1463                 Engineering and engineering trades   \n",
       "\n",
       "                                           COURSE TITLE COURSE CODE2  \\\n",
       "0                                International Business        AC120   \n",
       "1                                          Liberal Arts        AC137   \n",
       "2      First Year Art & Design (Common Entry,portfolio)        AD101   \n",
       "3     Graphic Design and Moving Image Design (portfo...        AD102   \n",
       "4     Textile & Surface Design and Jewellery & Objec...        AD103   \n",
       "...                                                 ...          ...   \n",
       "1459                          Manufacturing Engineering        WD208   \n",
       "1460                       Software Systems Development        WD210   \n",
       "1461                                 Creative Computing        WD211   \n",
       "1462                    Recreation and Sport Management        WD212   \n",
       "1463           Mechanical and Manufacturing Engineering        WD230   \n",
       "\n",
       "     R1 POINTS R1 Random * R2 POINTS R2 Random*       EOS EOS Random *  \\\n",
       "0          209         NaN       NaN        NaN       209          NaN   \n",
       "1          252         NaN       NaN        NaN       252          NaN   \n",
       "2     #+matric         NaN       NaN        NaN  #+matric          NaN   \n",
       "3     #+matric         NaN       NaN        NaN  #+matric          NaN   \n",
       "4     #+matric         NaN       NaN        NaN  #+matric          NaN   \n",
       "...        ...         ...       ...        ...       ...          ...   \n",
       "1459       188         NaN       NaN        NaN       188          NaN   \n",
       "1460       279         NaN       NaN        NaN       279          NaN   \n",
       "1461       271         NaN       NaN        NaN       271          NaN   \n",
       "1462       270         NaN       NaN        NaN       270          NaN   \n",
       "1463       253         NaN       NaN        NaN       253          NaN   \n",
       "\n",
       "     EOS Mid-point  ...  avp    v Column1 Column2 Column3  Column4  Column5  \\\n",
       "0              280  ...  NaN  NaN     NaN     NaN     NaN      NaN      NaN   \n",
       "1              270  ...  NaN  NaN     NaN     NaN     NaN      NaN      NaN   \n",
       "2         #+matric  ...  NaN  NaN     NaN     NaN     NaN      NaN      NaN   \n",
       "3         #+matric  ...  NaN  NaN     NaN     NaN     NaN      NaN      NaN   \n",
       "4         #+matric  ...  NaN  NaN     NaN     NaN     NaN      NaN      NaN   \n",
       "...            ...  ...  ...  ...     ...     ...     ...      ...      ...   \n",
       "1459           339  ...  NaN  NaN     NaN     NaN     NaN      NaN      NaN   \n",
       "1460           337  ...  NaN  NaN     NaN     NaN     NaN      NaN      NaN   \n",
       "1461           318  ...  NaN  NaN     NaN     NaN     NaN      NaN      NaN   \n",
       "1462           349  ...  NaN  NaN     NaN     NaN     NaN      NaN      NaN   \n",
       "1463           369  ...  NaN  NaN     NaN     NaN     NaN      NaN      NaN   \n",
       "\n",
       "      Column6  Column7  Column8  \n",
       "0         NaN      NaN      NaN  \n",
       "1         NaN      NaN      NaN  \n",
       "2         NaN      NaN      NaN  \n",
       "3         NaN      NaN      NaN  \n",
       "4         NaN      NaN      NaN  \n",
       "...       ...      ...      ...  \n",
       "1459      NaN      NaN      NaN  \n",
       "1460      NaN      NaN      NaN  \n",
       "1461      NaN      NaN      NaN  \n",
       "1462      NaN      NaN      NaN  \n",
       "1463      NaN      NaN      NaN  \n",
       "\n",
       "[1464 rows x 23 columns]"
      ]
     },
     "execution_count": 22,
     "metadata": {},
     "output_type": "execute_result"
    }
   ],
   "source": [
    "# Calling the variable to test\n",
    "df2020"
   ]
  },
  {
   "cell_type": "markdown",
   "id": "ff1ee712",
   "metadata": {},
   "source": [
    "<br>\n",
    "\n",
    "<b> ** N.B ** </b> It was verified as of 23/11/2021 there were 1464 courses exactly in the CAO 2020 Points List.\n",
    "\n",
    "***"
   ]
  },
  {
   "cell_type": "code",
   "execution_count": 23,
   "id": "f2b284ec",
   "metadata": {
    "scrolled": false
   },
   "outputs": [
    {
     "data": {
      "text/plain": [
       "CATEGORY (i.e.ISCED description)          Engineering and engineering trades\n",
       "COURSE TITLE                        Road Transport Technology and Management\n",
       "COURSE CODE2                                                           LC286\n",
       "R1 POINTS                                                                264\n",
       "R1 Random *                                                              NaN\n",
       "R2 POINTS                                                                NaN\n",
       "R2 Random*                                                               NaN\n",
       "EOS                                                                      264\n",
       "EOS Random *                                                             NaN\n",
       "EOS Mid-point                                                            360\n",
       "LEVEL                                                                      7\n",
       "HEI                                         Limerick Institute of Technology\n",
       "Test/Interview #                                                         NaN\n",
       "avp                                                                      NaN\n",
       "v                                                                        NaN\n",
       "Column1                                                                  NaN\n",
       "Column2                                                                  NaN\n",
       "Column3                                                                  NaN\n",
       "Column4                                                                  NaN\n",
       "Column5                                                                  NaN\n",
       "Column6                                                                  NaN\n",
       "Column7                                                                  NaN\n",
       "Column8                                                                  NaN\n",
       "Name: 753, dtype: object"
      ]
     },
     "execution_count": 23,
     "metadata": {},
     "output_type": "execute_result"
    }
   ],
   "source": [
    "# Testing our dataframe. iloc retrieves row location [9]\n",
    "df2020.iloc[753]"
   ]
  },
  {
   "cell_type": "code",
   "execution_count": 24,
   "id": "9a8ffd12",
   "metadata": {
    "scrolled": false
   },
   "outputs": [
    {
     "data": {
      "text/plain": [
       "CATEGORY (i.e.ISCED description)          Engineering and engineering trades\n",
       "COURSE TITLE                        Mechanical and Manufacturing Engineering\n",
       "COURSE CODE2                                                           WD230\n",
       "R1 POINTS                                                                253\n",
       "R1 Random *                                                              NaN\n",
       "R2 POINTS                                                                NaN\n",
       "R2 Random*                                                               NaN\n",
       "EOS                                                                      253\n",
       "EOS Random *                                                             NaN\n",
       "EOS Mid-point                                                            369\n",
       "LEVEL                                                                      8\n",
       "HEI                                        Waterford Institute of Technology\n",
       "Test/Interview #                                                         NaN\n",
       "avp                                                                      NaN\n",
       "v                                                                        NaN\n",
       "Column1                                                                  NaN\n",
       "Column2                                                                  NaN\n",
       "Column3                                                                  NaN\n",
       "Column4                                                                  NaN\n",
       "Column5                                                                  NaN\n",
       "Column6                                                                  NaN\n",
       "Column7                                                                  NaN\n",
       "Column8                                                                  NaN\n",
       "Name: 1463, dtype: object"
      ]
     },
     "execution_count": 24,
     "metadata": {},
     "output_type": "execute_result"
    }
   ],
   "source": [
    "# Testing final row\n",
    "df2020.iloc[1463]  # spot checks"
   ]
  },
  {
   "cell_type": "code",
   "execution_count": 25,
   "id": "e92ed637",
   "metadata": {
    "scrolled": false
   },
   "outputs": [],
   "source": [
    "# Create a filepath for the Pandas data\n",
    "path = 'data/cao2020_' +  nowstr + '.csv'"
   ]
  },
  {
   "cell_type": "code",
   "execution_count": 26,
   "id": "db4cbbec",
   "metadata": {
    "scrolled": false
   },
   "outputs": [],
   "source": [
    "# Save Pandas dataframe to disk. Look up to_csv to get rid of row index\n",
    "df2020.to_csv(path)"
   ]
  },
  {
   "cell_type": "markdown",
   "id": "bea12d29",
   "metadata": {},
   "source": [
    "***\n",
    "<br>\n",
    "<a id='2019_Points'></a>\n",
    "\n",
    "\n",
    "## 2019 Points\n",
    "\n",
    "<i> Please [Click Here](http://www.cao.ie/index.php?page=points&p=2019 \"click Here\") for 2019 points </i>\n",
    "\n"
   ]
  },
  {
   "cell_type": "markdown",
   "id": "16742f5e",
   "metadata": {},
   "source": [
    "##### Steps to re-produce this work\n",
    "\n",
    "1. Download original PDF file.\n",
    "2. Open original PDF file in Microsoft Word.\n",
    "3. Save Microsoft Word's converted PDF in docx format.\n",
    "4. Re-save Word Document for editing.\n",
    "5. Delete Headers and Footers.\n",
    "6. Delete preamble on Page 1.\n",
    "7. Select all and copy.\n",
    "8. Paste into Notepad ++.\n",
    "9. Remove HEI name headings and paste onto each course line.\n",
    "10. Delete blank lines.\n",
    "11. Replace double tab characters with a single tab character (6 occurences)\n",
    "12. Deleted tab characters at end of lines\n",
    "13. Change backticks to apostrophes"
   ]
  },
  {
   "cell_type": "markdown",
   "id": "613058fd",
   "metadata": {},
   "source": [
    "## Lets prepare our Level 8 Data"
   ]
  },
  {
   "cell_type": "code",
   "execution_count": 27,
   "id": "9c0e7977-a607-4e92-a861-273b7c446bcb",
   "metadata": {
    "scrolled": false
   },
   "outputs": [
    {
     "data": {
      "text/html": [
       "<div>\n",
       "<style scoped>\n",
       "    .dataframe tbody tr th:only-of-type {\n",
       "        vertical-align: middle;\n",
       "    }\n",
       "\n",
       "    .dataframe tbody tr th {\n",
       "        vertical-align: top;\n",
       "    }\n",
       "\n",
       "    .dataframe thead th {\n",
       "        text-align: right;\n",
       "    }\n",
       "</style>\n",
       "<table border=\"1\" class=\"dataframe\">\n",
       "  <thead>\n",
       "    <tr style=\"text-align: right;\">\n",
       "      <th></th>\n",
       "      <th>Course Code</th>\n",
       "      <th>Course</th>\n",
       "      <th>EOS</th>\n",
       "      <th>Mid</th>\n",
       "    </tr>\n",
       "  </thead>\n",
       "  <tbody>\n",
       "    <tr>\n",
       "      <th>0</th>\n",
       "      <td>AL801</td>\n",
       "      <td>Software Design with Virtual Reality and Gaming</td>\n",
       "      <td>304</td>\n",
       "      <td>328.0</td>\n",
       "    </tr>\n",
       "    <tr>\n",
       "      <th>1</th>\n",
       "      <td>AL802</td>\n",
       "      <td>Software Design with Cloud Computing</td>\n",
       "      <td>301</td>\n",
       "      <td>306.0</td>\n",
       "    </tr>\n",
       "    <tr>\n",
       "      <th>2</th>\n",
       "      <td>AL803</td>\n",
       "      <td>Software Design with Mobile Apps and Connected...</td>\n",
       "      <td>309</td>\n",
       "      <td>337.0</td>\n",
       "    </tr>\n",
       "    <tr>\n",
       "      <th>3</th>\n",
       "      <td>AL805</td>\n",
       "      <td>Network Management and Cloud Infrastructure</td>\n",
       "      <td>329</td>\n",
       "      <td>442.0</td>\n",
       "    </tr>\n",
       "    <tr>\n",
       "      <th>4</th>\n",
       "      <td>AL810</td>\n",
       "      <td>Quantity Surveying</td>\n",
       "      <td>307</td>\n",
       "      <td>349.0</td>\n",
       "    </tr>\n",
       "    <tr>\n",
       "      <th>...</th>\n",
       "      <td>...</td>\n",
       "      <td>...</td>\n",
       "      <td>...</td>\n",
       "      <td>...</td>\n",
       "    </tr>\n",
       "    <tr>\n",
       "      <th>925</th>\n",
       "      <td>WD200</td>\n",
       "      <td>Arts (options)</td>\n",
       "      <td>221</td>\n",
       "      <td>296.0</td>\n",
       "    </tr>\n",
       "    <tr>\n",
       "      <th>926</th>\n",
       "      <td>WD210</td>\n",
       "      <td>Software Systems Development</td>\n",
       "      <td>271</td>\n",
       "      <td>329.0</td>\n",
       "    </tr>\n",
       "    <tr>\n",
       "      <th>927</th>\n",
       "      <td>WD211</td>\n",
       "      <td>Creative Computing</td>\n",
       "      <td>275</td>\n",
       "      <td>322.0</td>\n",
       "    </tr>\n",
       "    <tr>\n",
       "      <th>928</th>\n",
       "      <td>WD212</td>\n",
       "      <td>Recreation and Sport Management</td>\n",
       "      <td>274</td>\n",
       "      <td>311.0</td>\n",
       "    </tr>\n",
       "    <tr>\n",
       "      <th>929</th>\n",
       "      <td>WD230</td>\n",
       "      <td>Mechanical and Manufacturing Engineering</td>\n",
       "      <td>273</td>\n",
       "      <td>348.0</td>\n",
       "    </tr>\n",
       "  </tbody>\n",
       "</table>\n",
       "<p>930 rows × 4 columns</p>\n",
       "</div>"
      ],
      "text/plain": [
       "    Course Code                                             Course  EOS    Mid\n",
       "0         AL801    Software Design with Virtual Reality and Gaming  304  328.0\n",
       "1         AL802               Software Design with Cloud Computing  301  306.0\n",
       "2         AL803  Software Design with Mobile Apps and Connected...  309  337.0\n",
       "3         AL805        Network Management and Cloud Infrastructure  329  442.0\n",
       "4         AL810                                 Quantity Surveying  307  349.0\n",
       "..          ...                                                ...  ...    ...\n",
       "925       WD200                                     Arts (options)  221  296.0\n",
       "926       WD210                       Software Systems Development  271  329.0\n",
       "927       WD211                                 Creative Computing  275  322.0\n",
       "928       WD212                    Recreation and Sport Management  274  311.0\n",
       "929       WD230           Mechanical and Manufacturing Engineering  273  348.0\n",
       "\n",
       "[930 rows x 4 columns]"
      ]
     },
     "execution_count": 27,
     "metadata": {},
     "output_type": "execute_result"
    }
   ],
   "source": [
    "# Constructing our dataframe\n",
    "df2019 = pd.read_csv('data/cao2019_20211108_223304.csv', sep = '\\t') # separate on tabs\n",
    "# Call our new variable\n",
    "df2019"
   ]
  },
  {
   "cell_type": "markdown",
   "id": "1f681a6c",
   "metadata": {},
   "source": [
    "<br>\n",
    "\n",
    "<b> ** N.B ** </b> It was verified as of 23/11/2021 there were 930 courses exactly in the CAO 2019 Points List for Level 8.\n",
    "\n",
    "***"
   ]
  },
  {
   "cell_type": "code",
   "execution_count": 28,
   "id": "e32e02bf-7a8a-4657-ad76-8e2b741a0b28",
   "metadata": {
    "scrolled": false
   },
   "outputs": [
    {
     "data": {
      "text/html": [
       "<div>\n",
       "<style scoped>\n",
       "    .dataframe tbody tr th:only-of-type {\n",
       "        vertical-align: middle;\n",
       "    }\n",
       "\n",
       "    .dataframe tbody tr th {\n",
       "        vertical-align: top;\n",
       "    }\n",
       "\n",
       "    .dataframe thead th {\n",
       "        text-align: right;\n",
       "    }\n",
       "</style>\n",
       "<table border=\"1\" class=\"dataframe\">\n",
       "  <thead>\n",
       "    <tr style=\"text-align: right;\">\n",
       "      <th></th>\n",
       "      <th>Course Code</th>\n",
       "      <th>Course</th>\n",
       "      <th>EOS</th>\n",
       "      <th>Mid</th>\n",
       "    </tr>\n",
       "  </thead>\n",
       "  <tbody>\n",
       "    <tr>\n",
       "      <th>900</th>\n",
       "      <td>WD048</td>\n",
       "      <td>Business (options)</td>\n",
       "      <td>278</td>\n",
       "      <td>357.0</td>\n",
       "    </tr>\n",
       "    <tr>\n",
       "      <th>901</th>\n",
       "      <td>WD084</td>\n",
       "      <td>Accounting</td>\n",
       "      <td>307</td>\n",
       "      <td>403.0</td>\n",
       "    </tr>\n",
       "    <tr>\n",
       "      <th>902</th>\n",
       "      <td>WD091</td>\n",
       "      <td>Hospitality Management</td>\n",
       "      <td>210</td>\n",
       "      <td>281.0</td>\n",
       "    </tr>\n",
       "    <tr>\n",
       "      <th>903</th>\n",
       "      <td>WD116</td>\n",
       "      <td>General Nursing</td>\n",
       "      <td>413</td>\n",
       "      <td>430.0</td>\n",
       "    </tr>\n",
       "    <tr>\n",
       "      <th>904</th>\n",
       "      <td>WD117</td>\n",
       "      <td>Psychiatric Nursing</td>\n",
       "      <td>361</td>\n",
       "      <td>382.0</td>\n",
       "    </tr>\n",
       "    <tr>\n",
       "      <th>905</th>\n",
       "      <td>WD120</td>\n",
       "      <td>Intellectual Disability Nursing</td>\n",
       "      <td>338</td>\n",
       "      <td>359.0</td>\n",
       "    </tr>\n",
       "    <tr>\n",
       "      <th>906</th>\n",
       "      <td>WD134</td>\n",
       "      <td>International Business</td>\n",
       "      <td>289</td>\n",
       "      <td>350.0</td>\n",
       "    </tr>\n",
       "    <tr>\n",
       "      <th>907</th>\n",
       "      <td>WD137</td>\n",
       "      <td>Design (Visual Communications)</td>\n",
       "      <td>253</td>\n",
       "      <td>373.0</td>\n",
       "    </tr>\n",
       "    <tr>\n",
       "      <th>908</th>\n",
       "      <td>WD140</td>\n",
       "      <td>Laws</td>\n",
       "      <td>290</td>\n",
       "      <td>352.0</td>\n",
       "    </tr>\n",
       "    <tr>\n",
       "      <th>909</th>\n",
       "      <td>WD144</td>\n",
       "      <td>Architecture</td>\n",
       "      <td>283</td>\n",
       "      <td>385.0</td>\n",
       "    </tr>\n",
       "    <tr>\n",
       "      <th>910</th>\n",
       "      <td>WD147</td>\n",
       "      <td>Pharmaceutical Science</td>\n",
       "      <td>298</td>\n",
       "      <td>363.0</td>\n",
       "    </tr>\n",
       "    <tr>\n",
       "      <th>911</th>\n",
       "      <td>WD148</td>\n",
       "      <td>Tourism Marketing</td>\n",
       "      <td>269</td>\n",
       "      <td>338.0</td>\n",
       "    </tr>\n",
       "    <tr>\n",
       "      <th>912</th>\n",
       "      <td>WD149</td>\n",
       "      <td>Early Childhood Studies</td>\n",
       "      <td>288</td>\n",
       "      <td>336.0</td>\n",
       "    </tr>\n",
       "    <tr>\n",
       "      <th>913</th>\n",
       "      <td>WD150</td>\n",
       "      <td>Criminal Justice Studies</td>\n",
       "      <td>271</td>\n",
       "      <td>311.0</td>\n",
       "    </tr>\n",
       "    <tr>\n",
       "      <th>914</th>\n",
       "      <td>WD152</td>\n",
       "      <td>Visual Art</td>\n",
       "      <td>253</td>\n",
       "      <td>323.0</td>\n",
       "    </tr>\n",
       "    <tr>\n",
       "      <th>915</th>\n",
       "      <td>WD161</td>\n",
       "      <td>Computer Forensics and Security</td>\n",
       "      <td>262</td>\n",
       "      <td>401.0</td>\n",
       "    </tr>\n",
       "    <tr>\n",
       "      <th>916</th>\n",
       "      <td>WD162</td>\n",
       "      <td>Quantity Surveying</td>\n",
       "      <td>260</td>\n",
       "      <td>320.0</td>\n",
       "    </tr>\n",
       "    <tr>\n",
       "      <th>917</th>\n",
       "      <td>WD163</td>\n",
       "      <td>Psychology</td>\n",
       "      <td>390</td>\n",
       "      <td>429.0</td>\n",
       "    </tr>\n",
       "    <tr>\n",
       "      <th>918</th>\n",
       "      <td>WD186</td>\n",
       "      <td>Sports Coaching and Performance</td>\n",
       "      <td>276</td>\n",
       "      <td>327.0</td>\n",
       "    </tr>\n",
       "    <tr>\n",
       "      <th>919</th>\n",
       "      <td>WD187</td>\n",
       "      <td>Social Science</td>\n",
       "      <td>271</td>\n",
       "      <td>321.0</td>\n",
       "    </tr>\n",
       "    <tr>\n",
       "      <th>920</th>\n",
       "      <td>WD191</td>\n",
       "      <td>Agricultural Science</td>\n",
       "      <td>378</td>\n",
       "      <td>421.0</td>\n",
       "    </tr>\n",
       "    <tr>\n",
       "      <th>921</th>\n",
       "      <td>WD192</td>\n",
       "      <td>Social Care Practice</td>\n",
       "      <td>279</td>\n",
       "      <td>323.0</td>\n",
       "    </tr>\n",
       "    <tr>\n",
       "      <th>922</th>\n",
       "      <td>WD193</td>\n",
       "      <td>Marketing and Digital Media</td>\n",
       "      <td>290</td>\n",
       "      <td>358.0</td>\n",
       "    </tr>\n",
       "    <tr>\n",
       "      <th>923</th>\n",
       "      <td>WD194</td>\n",
       "      <td>Culinary Arts</td>\n",
       "      <td>235</td>\n",
       "      <td>331.0</td>\n",
       "    </tr>\n",
       "    <tr>\n",
       "      <th>924</th>\n",
       "      <td>WD195</td>\n",
       "      <td>Architectural and Building Information Modelli...</td>\n",
       "      <td>266</td>\n",
       "      <td>305.0</td>\n",
       "    </tr>\n",
       "    <tr>\n",
       "      <th>925</th>\n",
       "      <td>WD200</td>\n",
       "      <td>Arts (options)</td>\n",
       "      <td>221</td>\n",
       "      <td>296.0</td>\n",
       "    </tr>\n",
       "  </tbody>\n",
       "</table>\n",
       "</div>"
      ],
      "text/plain": [
       "    Course Code                                             Course  EOS    Mid\n",
       "900       WD048                                 Business (options)  278  357.0\n",
       "901       WD084                                         Accounting  307  403.0\n",
       "902       WD091                             Hospitality Management  210  281.0\n",
       "903       WD116                                    General Nursing  413  430.0\n",
       "904       WD117                                Psychiatric Nursing  361  382.0\n",
       "905       WD120                    Intellectual Disability Nursing  338  359.0\n",
       "906       WD134                             International Business  289  350.0\n",
       "907       WD137                     Design (Visual Communications)  253  373.0\n",
       "908       WD140                                               Laws  290  352.0\n",
       "909       WD144                                       Architecture  283  385.0\n",
       "910       WD147                             Pharmaceutical Science  298  363.0\n",
       "911       WD148                                  Tourism Marketing  269  338.0\n",
       "912       WD149                            Early Childhood Studies  288  336.0\n",
       "913       WD150                           Criminal Justice Studies  271  311.0\n",
       "914       WD152                                         Visual Art  253  323.0\n",
       "915       WD161                    Computer Forensics and Security  262  401.0\n",
       "916       WD162                                 Quantity Surveying  260  320.0\n",
       "917       WD163                                         Psychology  390  429.0\n",
       "918       WD186                    Sports Coaching and Performance  276  327.0\n",
       "919       WD187                                     Social Science  271  321.0\n",
       "920       WD191                               Agricultural Science  378  421.0\n",
       "921       WD192                               Social Care Practice  279  323.0\n",
       "922       WD193                        Marketing and Digital Media  290  358.0\n",
       "923       WD194                                      Culinary Arts  235  331.0\n",
       "924       WD195  Architectural and Building Information Modelli...  266  305.0\n",
       "925       WD200                                     Arts (options)  221  296.0"
      ]
     },
     "execution_count": 28,
     "metadata": {},
     "output_type": "execute_result"
    }
   ],
   "source": [
    "# Spot checks\n",
    "df2019.iloc[900:926]"
   ]
  },
  {
   "cell_type": "markdown",
   "id": "289d6960",
   "metadata": {},
   "source": [
    "## Lets prepare our Level 7/6 Data"
   ]
  },
  {
   "cell_type": "code",
   "execution_count": 29,
   "id": "f7df9385-6fa3-4392-a044-83ec28d8147e",
   "metadata": {
    "scrolled": false
   },
   "outputs": [],
   "source": [
    "# Reading in our csv file\n",
    "df2019_l7 = pd.read_csv('data/cao2019_20211101_221930_edited.CSV', sep = '\\t')"
   ]
  },
  {
   "cell_type": "code",
   "execution_count": 30,
   "id": "1f7c85bb",
   "metadata": {
    "scrolled": false
   },
   "outputs": [
    {
     "data": {
      "text/html": [
       "<div>\n",
       "<style scoped>\n",
       "    .dataframe tbody tr th:only-of-type {\n",
       "        vertical-align: middle;\n",
       "    }\n",
       "\n",
       "    .dataframe tbody tr th {\n",
       "        vertical-align: top;\n",
       "    }\n",
       "\n",
       "    .dataframe thead th {\n",
       "        text-align: right;\n",
       "    }\n",
       "</style>\n",
       "<table border=\"1\" class=\"dataframe\">\n",
       "  <thead>\n",
       "    <tr style=\"text-align: right;\">\n",
       "      <th></th>\n",
       "      <th>Course Code</th>\n",
       "      <th>Course</th>\n",
       "      <th>EOS</th>\n",
       "      <th>Mid</th>\n",
       "    </tr>\n",
       "  </thead>\n",
       "  <tbody>\n",
       "    <tr>\n",
       "      <th>900</th>\n",
       "      <td>WD048</td>\n",
       "      <td>Business (options)</td>\n",
       "      <td>278</td>\n",
       "      <td>357.0</td>\n",
       "    </tr>\n",
       "    <tr>\n",
       "      <th>901</th>\n",
       "      <td>WD084</td>\n",
       "      <td>Accounting</td>\n",
       "      <td>307</td>\n",
       "      <td>403.0</td>\n",
       "    </tr>\n",
       "    <tr>\n",
       "      <th>902</th>\n",
       "      <td>WD091</td>\n",
       "      <td>Hospitality Management</td>\n",
       "      <td>210</td>\n",
       "      <td>281.0</td>\n",
       "    </tr>\n",
       "    <tr>\n",
       "      <th>903</th>\n",
       "      <td>WD116</td>\n",
       "      <td>General Nursing</td>\n",
       "      <td>413</td>\n",
       "      <td>430.0</td>\n",
       "    </tr>\n",
       "    <tr>\n",
       "      <th>904</th>\n",
       "      <td>WD117</td>\n",
       "      <td>Psychiatric Nursing</td>\n",
       "      <td>361</td>\n",
       "      <td>382.0</td>\n",
       "    </tr>\n",
       "    <tr>\n",
       "      <th>905</th>\n",
       "      <td>WD120</td>\n",
       "      <td>Intellectual Disability Nursing</td>\n",
       "      <td>338</td>\n",
       "      <td>359.0</td>\n",
       "    </tr>\n",
       "    <tr>\n",
       "      <th>906</th>\n",
       "      <td>WD134</td>\n",
       "      <td>International Business</td>\n",
       "      <td>289</td>\n",
       "      <td>350.0</td>\n",
       "    </tr>\n",
       "    <tr>\n",
       "      <th>907</th>\n",
       "      <td>WD137</td>\n",
       "      <td>Design (Visual Communications)</td>\n",
       "      <td>253</td>\n",
       "      <td>373.0</td>\n",
       "    </tr>\n",
       "    <tr>\n",
       "      <th>908</th>\n",
       "      <td>WD140</td>\n",
       "      <td>Laws</td>\n",
       "      <td>290</td>\n",
       "      <td>352.0</td>\n",
       "    </tr>\n",
       "    <tr>\n",
       "      <th>909</th>\n",
       "      <td>WD144</td>\n",
       "      <td>Architecture</td>\n",
       "      <td>283</td>\n",
       "      <td>385.0</td>\n",
       "    </tr>\n",
       "    <tr>\n",
       "      <th>910</th>\n",
       "      <td>WD147</td>\n",
       "      <td>Pharmaceutical Science</td>\n",
       "      <td>298</td>\n",
       "      <td>363.0</td>\n",
       "    </tr>\n",
       "    <tr>\n",
       "      <th>911</th>\n",
       "      <td>WD148</td>\n",
       "      <td>Tourism Marketing</td>\n",
       "      <td>269</td>\n",
       "      <td>338.0</td>\n",
       "    </tr>\n",
       "    <tr>\n",
       "      <th>912</th>\n",
       "      <td>WD149</td>\n",
       "      <td>Early Childhood Studies</td>\n",
       "      <td>288</td>\n",
       "      <td>336.0</td>\n",
       "    </tr>\n",
       "    <tr>\n",
       "      <th>913</th>\n",
       "      <td>WD150</td>\n",
       "      <td>Criminal Justice Studies</td>\n",
       "      <td>271</td>\n",
       "      <td>311.0</td>\n",
       "    </tr>\n",
       "    <tr>\n",
       "      <th>914</th>\n",
       "      <td>WD152</td>\n",
       "      <td>Visual Art</td>\n",
       "      <td>253</td>\n",
       "      <td>323.0</td>\n",
       "    </tr>\n",
       "    <tr>\n",
       "      <th>915</th>\n",
       "      <td>WD161</td>\n",
       "      <td>Computer Forensics and Security</td>\n",
       "      <td>262</td>\n",
       "      <td>401.0</td>\n",
       "    </tr>\n",
       "    <tr>\n",
       "      <th>916</th>\n",
       "      <td>WD162</td>\n",
       "      <td>Quantity Surveying</td>\n",
       "      <td>260</td>\n",
       "      <td>320.0</td>\n",
       "    </tr>\n",
       "    <tr>\n",
       "      <th>917</th>\n",
       "      <td>WD163</td>\n",
       "      <td>Psychology</td>\n",
       "      <td>390</td>\n",
       "      <td>429.0</td>\n",
       "    </tr>\n",
       "    <tr>\n",
       "      <th>918</th>\n",
       "      <td>WD186</td>\n",
       "      <td>Sports Coaching and Performance</td>\n",
       "      <td>276</td>\n",
       "      <td>327.0</td>\n",
       "    </tr>\n",
       "    <tr>\n",
       "      <th>919</th>\n",
       "      <td>WD187</td>\n",
       "      <td>Social Science</td>\n",
       "      <td>271</td>\n",
       "      <td>321.0</td>\n",
       "    </tr>\n",
       "    <tr>\n",
       "      <th>920</th>\n",
       "      <td>WD191</td>\n",
       "      <td>Agricultural Science</td>\n",
       "      <td>378</td>\n",
       "      <td>421.0</td>\n",
       "    </tr>\n",
       "    <tr>\n",
       "      <th>921</th>\n",
       "      <td>WD192</td>\n",
       "      <td>Social Care Practice</td>\n",
       "      <td>279</td>\n",
       "      <td>323.0</td>\n",
       "    </tr>\n",
       "    <tr>\n",
       "      <th>922</th>\n",
       "      <td>WD193</td>\n",
       "      <td>Marketing and Digital Media</td>\n",
       "      <td>290</td>\n",
       "      <td>358.0</td>\n",
       "    </tr>\n",
       "    <tr>\n",
       "      <th>923</th>\n",
       "      <td>WD194</td>\n",
       "      <td>Culinary Arts</td>\n",
       "      <td>235</td>\n",
       "      <td>331.0</td>\n",
       "    </tr>\n",
       "    <tr>\n",
       "      <th>924</th>\n",
       "      <td>WD195</td>\n",
       "      <td>Architectural and Building Information Modelli...</td>\n",
       "      <td>266</td>\n",
       "      <td>305.0</td>\n",
       "    </tr>\n",
       "    <tr>\n",
       "      <th>925</th>\n",
       "      <td>WD200</td>\n",
       "      <td>Arts (options)</td>\n",
       "      <td>221</td>\n",
       "      <td>296.0</td>\n",
       "    </tr>\n",
       "  </tbody>\n",
       "</table>\n",
       "</div>"
      ],
      "text/plain": [
       "    Course Code                                             Course  EOS    Mid\n",
       "900       WD048                                 Business (options)  278  357.0\n",
       "901       WD084                                         Accounting  307  403.0\n",
       "902       WD091                             Hospitality Management  210  281.0\n",
       "903       WD116                                    General Nursing  413  430.0\n",
       "904       WD117                                Psychiatric Nursing  361  382.0\n",
       "905       WD120                    Intellectual Disability Nursing  338  359.0\n",
       "906       WD134                             International Business  289  350.0\n",
       "907       WD137                     Design (Visual Communications)  253  373.0\n",
       "908       WD140                                               Laws  290  352.0\n",
       "909       WD144                                       Architecture  283  385.0\n",
       "910       WD147                             Pharmaceutical Science  298  363.0\n",
       "911       WD148                                  Tourism Marketing  269  338.0\n",
       "912       WD149                            Early Childhood Studies  288  336.0\n",
       "913       WD150                           Criminal Justice Studies  271  311.0\n",
       "914       WD152                                         Visual Art  253  323.0\n",
       "915       WD161                    Computer Forensics and Security  262  401.0\n",
       "916       WD162                                 Quantity Surveying  260  320.0\n",
       "917       WD163                                         Psychology  390  429.0\n",
       "918       WD186                    Sports Coaching and Performance  276  327.0\n",
       "919       WD187                                     Social Science  271  321.0\n",
       "920       WD191                               Agricultural Science  378  421.0\n",
       "921       WD192                               Social Care Practice  279  323.0\n",
       "922       WD193                        Marketing and Digital Media  290  358.0\n",
       "923       WD194                                      Culinary Arts  235  331.0\n",
       "924       WD195  Architectural and Building Information Modelli...  266  305.0\n",
       "925       WD200                                     Arts (options)  221  296.0"
      ]
     },
     "execution_count": 30,
     "metadata": {},
     "output_type": "execute_result"
    }
   ],
   "source": [
    "# Spot checks\n",
    "df2019.iloc[900:926]"
   ]
  },
  {
   "cell_type": "code",
   "execution_count": 31,
   "id": "4d6ae8d6-6f08-421e-9e1b-2d23dea5641b",
   "metadata": {
    "scrolled": false
   },
   "outputs": [
    {
     "data": {
      "text/html": [
       "<div>\n",
       "<style scoped>\n",
       "    .dataframe tbody tr th:only-of-type {\n",
       "        vertical-align: middle;\n",
       "    }\n",
       "\n",
       "    .dataframe tbody tr th {\n",
       "        vertical-align: top;\n",
       "    }\n",
       "\n",
       "    .dataframe thead th {\n",
       "        text-align: right;\n",
       "    }\n",
       "</style>\n",
       "<table border=\"1\" class=\"dataframe\">\n",
       "  <thead>\n",
       "    <tr style=\"text-align: right;\">\n",
       "      <th></th>\n",
       "      <th>Course Code</th>\n",
       "      <th>Course</th>\n",
       "      <th>EOS</th>\n",
       "      <th>Mid</th>\n",
       "    </tr>\n",
       "  </thead>\n",
       "  <tbody>\n",
       "    <tr>\n",
       "      <th>0</th>\n",
       "      <td>AL600</td>\n",
       "      <td>Software Design</td>\n",
       "      <td>205</td>\n",
       "      <td>306.0</td>\n",
       "    </tr>\n",
       "    <tr>\n",
       "      <th>1</th>\n",
       "      <td>AL601</td>\n",
       "      <td>Computer Engineering</td>\n",
       "      <td>196</td>\n",
       "      <td>272.0</td>\n",
       "    </tr>\n",
       "    <tr>\n",
       "      <th>2</th>\n",
       "      <td>AL602</td>\n",
       "      <td>Mechanical Engineering</td>\n",
       "      <td>258</td>\n",
       "      <td>424.0</td>\n",
       "    </tr>\n",
       "    <tr>\n",
       "      <th>3</th>\n",
       "      <td>AL604</td>\n",
       "      <td>Civil Engineering</td>\n",
       "      <td>252</td>\n",
       "      <td>360.0</td>\n",
       "    </tr>\n",
       "    <tr>\n",
       "      <th>4</th>\n",
       "      <td>AL630</td>\n",
       "      <td>Pharmacy Technician</td>\n",
       "      <td>306</td>\n",
       "      <td>366.0</td>\n",
       "    </tr>\n",
       "    <tr>\n",
       "      <th>...</th>\n",
       "      <td>...</td>\n",
       "      <td>...</td>\n",
       "      <td>...</td>\n",
       "      <td>...</td>\n",
       "    </tr>\n",
       "    <tr>\n",
       "      <th>456</th>\n",
       "      <td>WD188</td>\n",
       "      <td>Applied Health Care</td>\n",
       "      <td>206</td>\n",
       "      <td>339.0</td>\n",
       "    </tr>\n",
       "    <tr>\n",
       "      <th>457</th>\n",
       "      <td>WD205</td>\n",
       "      <td>Molecular Biology with Biopharmaceutical Science</td>\n",
       "      <td>208</td>\n",
       "      <td>441.0</td>\n",
       "    </tr>\n",
       "    <tr>\n",
       "      <th>458</th>\n",
       "      <td>WD206</td>\n",
       "      <td>Electronic Engineering</td>\n",
       "      <td>191</td>\n",
       "      <td>322.0</td>\n",
       "    </tr>\n",
       "    <tr>\n",
       "      <th>459</th>\n",
       "      <td>WD207</td>\n",
       "      <td>Mechanical Engineering</td>\n",
       "      <td>179</td>\n",
       "      <td>330.0</td>\n",
       "    </tr>\n",
       "    <tr>\n",
       "      <th>460</th>\n",
       "      <td>WD208</td>\n",
       "      <td>Manufacturing Engineering</td>\n",
       "      <td>195</td>\n",
       "      <td>330.0</td>\n",
       "    </tr>\n",
       "  </tbody>\n",
       "</table>\n",
       "<p>461 rows × 4 columns</p>\n",
       "</div>"
      ],
      "text/plain": [
       "    Course Code                                            Course  EOS    Mid\n",
       "0         AL600                                   Software Design  205  306.0\n",
       "1         AL601                              Computer Engineering  196  272.0\n",
       "2         AL602                            Mechanical Engineering  258  424.0\n",
       "3         AL604                                 Civil Engineering  252  360.0\n",
       "4         AL630                               Pharmacy Technician  306  366.0\n",
       "..          ...                                               ...  ...    ...\n",
       "456       WD188                               Applied Health Care  206  339.0\n",
       "457       WD205  Molecular Biology with Biopharmaceutical Science  208  441.0\n",
       "458       WD206                            Electronic Engineering  191  322.0\n",
       "459       WD207                            Mechanical Engineering  179  330.0\n",
       "460       WD208                         Manufacturing Engineering  195  330.0\n",
       "\n",
       "[461 rows x 4 columns]"
      ]
     },
     "execution_count": 31,
     "metadata": {},
     "output_type": "execute_result"
    }
   ],
   "source": [
    "# Sorting the values\n",
    "df2019_l7.sort_values('Course Code')"
   ]
  },
  {
   "cell_type": "markdown",
   "id": "a604af96",
   "metadata": {},
   "source": [
    "<br>\n",
    "\n",
    "<b> ** N.B ** </b> It was verified as of 23/11/2021 there were 461 courses exactly in the CAO 2019 Points List for Level 7/6.\n",
    "\n",
    "***"
   ]
  },
  {
   "cell_type": "markdown",
   "id": "a55c0493",
   "metadata": {},
   "source": [
    "<a id='Analysis_of_CAO_Level_8,7,6_Points'></a>\n",
    "\n",
    "## <u> Analysis of CAO Level 8,7,6 Points </u>\n"
   ]
  },
  {
   "cell_type": "markdown",
   "id": "91c2c1fc",
   "metadata": {},
   "source": [
    "<br>\n",
    "\n",
    "## Lets join our imported Datasets for Level 8 data and 2020 data"
   ]
  },
  {
   "cell_type": "code",
   "execution_count": 32,
   "id": "f071ab71",
   "metadata": {
    "scrolled": false
   },
   "outputs": [],
   "source": [
    "# Lets concatenate all Round 1 points from 2021-2019\n",
    "courses2021_8 = df2021_8[['Code', 'Title']] # Access columns we are interested in\n",
    "\n",
    "# Lets repeat the above work for 2020\n",
    "courses2020 = df2020[['COURSE CODE2','COURSE TITLE']]\n",
    "courses2020.columns = ['Code','Title']\n",
    "courses2020.sort_values('Code')  # Display values, sorting on 'Code'\n",
    "\n",
    "\n",
    "# Lets gather our Round 1 courses for 2019\n",
    "courses2019_8 = df2019[['Course Code','Course']]\n",
    "courses2019_8.columns = ['Code','Title']\n",
    "courses2019_8.sort_values('Code')  # Display values, sorting on 'Code'\n",
    "\n",
    "\n",
    "# Lets concatenate our results [10]\n",
    "allcourses_L8 = pd.concat([courses2021_8, courses2020, courses2019_8], ignore_index=True) # Based on Lecture Notes\n",
    "\n",
    "\n",
    "# Some manipulation of result, display result sorting on 'Code'\n",
    "allcourses_L8.sort_values('Code')\n",
    "\n",
    "\n",
    "# Finds all extra copies of duplicated rows\n",
    "allcourses_L8[allcourses_L8.duplicated()]\n",
    "\n",
    "# Returns a copy of the data frame with duplicates removed.\n",
    "allcourses_L8.drop_duplicates()\n",
    "\n",
    "\n",
    "# Finds all extra copies of duplicated rows\n",
    "allcourses_L8[allcourses_L8.duplicated(subset =['Code'])]\n",
    "\n",
    "\n",
    "\n",
    "# Returns a copy of the data frame with duplicates removed = based only on code [11]\n",
    "allcourses_L8.drop_duplicates(subset = ['Code'], inplace = True, ignore_index = True)"
   ]
  },
  {
   "cell_type": "markdown",
   "id": "cf8e8fd7",
   "metadata": {},
   "source": [
    "\n",
    "### Pandas Join [13]\n",
    "\n",
    "\n",
    "***"
   ]
  },
  {
   "cell_type": "code",
   "execution_count": 33,
   "id": "ac8024cf",
   "metadata": {
    "scrolled": false
   },
   "outputs": [
    {
     "data": {
      "text/html": [
       "<div>\n",
       "<style scoped>\n",
       "    .dataframe tbody tr th:only-of-type {\n",
       "        vertical-align: middle;\n",
       "    }\n",
       "\n",
       "    .dataframe tbody tr th {\n",
       "        vertical-align: top;\n",
       "    }\n",
       "\n",
       "    .dataframe thead th {\n",
       "        text-align: right;\n",
       "    }\n",
       "</style>\n",
       "<table border=\"1\" class=\"dataframe\">\n",
       "  <thead>\n",
       "    <tr style=\"text-align: right;\">\n",
       "      <th></th>\n",
       "      <th>Code</th>\n",
       "      <th>Title</th>\n",
       "      <th>PointsR1</th>\n",
       "      <th>PointsR2</th>\n",
       "    </tr>\n",
       "  </thead>\n",
       "  <tbody>\n",
       "    <tr>\n",
       "      <th>0</th>\n",
       "      <td>AL801</td>\n",
       "      <td>Software Design for Virtual Reality and Gaming</td>\n",
       "      <td>300</td>\n",
       "      <td>NaN</td>\n",
       "    </tr>\n",
       "    <tr>\n",
       "      <th>1</th>\n",
       "      <td>AL802</td>\n",
       "      <td>Software Design in Artificial Intelligence for...</td>\n",
       "      <td>313</td>\n",
       "      <td>NaN</td>\n",
       "    </tr>\n",
       "    <tr>\n",
       "      <th>2</th>\n",
       "      <td>AL803</td>\n",
       "      <td>Software Design for Mobile Apps and Connected ...</td>\n",
       "      <td>350</td>\n",
       "      <td>NaN</td>\n",
       "    </tr>\n",
       "    <tr>\n",
       "      <th>3</th>\n",
       "      <td>AL805</td>\n",
       "      <td>Computer Engineering for Network Infrastructure</td>\n",
       "      <td>321</td>\n",
       "      <td>NaN</td>\n",
       "    </tr>\n",
       "    <tr>\n",
       "      <th>4</th>\n",
       "      <td>AL810</td>\n",
       "      <td>Quantity Surveying</td>\n",
       "      <td>328</td>\n",
       "      <td>NaN</td>\n",
       "    </tr>\n",
       "    <tr>\n",
       "      <th>...</th>\n",
       "      <td>...</td>\n",
       "      <td>...</td>\n",
       "      <td>...</td>\n",
       "      <td>...</td>\n",
       "    </tr>\n",
       "    <tr>\n",
       "      <th>944</th>\n",
       "      <td>WD211</td>\n",
       "      <td>Creative Computing</td>\n",
       "      <td>270</td>\n",
       "      <td>NaN</td>\n",
       "    </tr>\n",
       "    <tr>\n",
       "      <th>945</th>\n",
       "      <td>WD212</td>\n",
       "      <td>Recreation and Sport Management</td>\n",
       "      <td>262</td>\n",
       "      <td>NaN</td>\n",
       "    </tr>\n",
       "    <tr>\n",
       "      <th>946</th>\n",
       "      <td>WD230</td>\n",
       "      <td>Mechanical and Manufacturing Engineering</td>\n",
       "      <td>230</td>\n",
       "      <td>230</td>\n",
       "    </tr>\n",
       "    <tr>\n",
       "      <th>947</th>\n",
       "      <td>WD231</td>\n",
       "      <td>Early Childhood Care and Education</td>\n",
       "      <td>266</td>\n",
       "      <td>NaN</td>\n",
       "    </tr>\n",
       "    <tr>\n",
       "      <th>948</th>\n",
       "      <td>WD232</td>\n",
       "      <td>Business Information Systems</td>\n",
       "      <td>261</td>\n",
       "      <td>261</td>\n",
       "    </tr>\n",
       "  </tbody>\n",
       "</table>\n",
       "<p>949 rows × 4 columns</p>\n",
       "</div>"
      ],
      "text/plain": [
       "      Code                                              Title PointsR1  \\\n",
       "0    AL801     Software Design for Virtual Reality and Gaming      300   \n",
       "1    AL802  Software Design in Artificial Intelligence for...      313   \n",
       "2    AL803  Software Design for Mobile Apps and Connected ...      350   \n",
       "3    AL805    Computer Engineering for Network Infrastructure      321   \n",
       "4    AL810                                 Quantity Surveying      328   \n",
       "..     ...                                                ...      ...   \n",
       "944  WD211                                 Creative Computing      270   \n",
       "945  WD212                    Recreation and Sport Management      262   \n",
       "946  WD230           Mechanical and Manufacturing Engineering      230   \n",
       "947  WD231                 Early Childhood Care and Education      266   \n",
       "948  WD232                       Business Information Systems      261   \n",
       "\n",
       "    PointsR2  \n",
       "0        NaN  \n",
       "1        NaN  \n",
       "2        NaN  \n",
       "3        NaN  \n",
       "4        NaN  \n",
       "..       ...  \n",
       "944      NaN  \n",
       "945      NaN  \n",
       "946      230  \n",
       "947      NaN  \n",
       "948      261  \n",
       "\n",
       "[949 rows x 4 columns]"
      ]
     },
     "execution_count": 33,
     "metadata": {},
     "output_type": "execute_result"
    }
   ],
   "source": [
    "# Lets access 2021 Level 8 Data\n",
    "df2021_8"
   ]
  },
  {
   "cell_type": "code",
   "execution_count": 34,
   "id": "0dca68a0",
   "metadata": {
    "scrolled": false
   },
   "outputs": [
    {
     "data": {
      "text/html": [
       "<div>\n",
       "<style scoped>\n",
       "    .dataframe tbody tr th:only-of-type {\n",
       "        vertical-align: middle;\n",
       "    }\n",
       "\n",
       "    .dataframe tbody tr th {\n",
       "        vertical-align: top;\n",
       "    }\n",
       "\n",
       "    .dataframe thead th {\n",
       "        text-align: right;\n",
       "    }\n",
       "</style>\n",
       "<table border=\"1\" class=\"dataframe\">\n",
       "  <thead>\n",
       "    <tr style=\"text-align: right;\">\n",
       "      <th></th>\n",
       "      <th>Title</th>\n",
       "      <th>Points_R1_2021</th>\n",
       "      <th>Points_R2_2021</th>\n",
       "    </tr>\n",
       "    <tr>\n",
       "      <th>Code</th>\n",
       "      <th></th>\n",
       "      <th></th>\n",
       "      <th></th>\n",
       "    </tr>\n",
       "  </thead>\n",
       "  <tbody>\n",
       "    <tr>\n",
       "      <th>AL801</th>\n",
       "      <td>Software Design for Virtual Reality and Gaming</td>\n",
       "      <td>300</td>\n",
       "      <td>NaN</td>\n",
       "    </tr>\n",
       "    <tr>\n",
       "      <th>AL802</th>\n",
       "      <td>Software Design in Artificial Intelligence for...</td>\n",
       "      <td>313</td>\n",
       "      <td>NaN</td>\n",
       "    </tr>\n",
       "    <tr>\n",
       "      <th>AL803</th>\n",
       "      <td>Software Design for Mobile Apps and Connected ...</td>\n",
       "      <td>350</td>\n",
       "      <td>NaN</td>\n",
       "    </tr>\n",
       "    <tr>\n",
       "      <th>AL805</th>\n",
       "      <td>Computer Engineering for Network Infrastructure</td>\n",
       "      <td>321</td>\n",
       "      <td>NaN</td>\n",
       "    </tr>\n",
       "    <tr>\n",
       "      <th>AL810</th>\n",
       "      <td>Quantity Surveying</td>\n",
       "      <td>328</td>\n",
       "      <td>NaN</td>\n",
       "    </tr>\n",
       "    <tr>\n",
       "      <th>...</th>\n",
       "      <td>...</td>\n",
       "      <td>...</td>\n",
       "      <td>...</td>\n",
       "    </tr>\n",
       "    <tr>\n",
       "      <th>WD211</th>\n",
       "      <td>Creative Computing</td>\n",
       "      <td>270</td>\n",
       "      <td>NaN</td>\n",
       "    </tr>\n",
       "    <tr>\n",
       "      <th>WD212</th>\n",
       "      <td>Recreation and Sport Management</td>\n",
       "      <td>262</td>\n",
       "      <td>NaN</td>\n",
       "    </tr>\n",
       "    <tr>\n",
       "      <th>WD230</th>\n",
       "      <td>Mechanical and Manufacturing Engineering</td>\n",
       "      <td>230</td>\n",
       "      <td>230</td>\n",
       "    </tr>\n",
       "    <tr>\n",
       "      <th>WD231</th>\n",
       "      <td>Early Childhood Care and Education</td>\n",
       "      <td>266</td>\n",
       "      <td>NaN</td>\n",
       "    </tr>\n",
       "    <tr>\n",
       "      <th>WD232</th>\n",
       "      <td>Business Information Systems</td>\n",
       "      <td>261</td>\n",
       "      <td>261</td>\n",
       "    </tr>\n",
       "  </tbody>\n",
       "</table>\n",
       "<p>949 rows × 3 columns</p>\n",
       "</div>"
      ],
      "text/plain": [
       "                                                   Title Points_R1_2021  \\\n",
       "Code                                                                      \n",
       "AL801     Software Design for Virtual Reality and Gaming            300   \n",
       "AL802  Software Design in Artificial Intelligence for...            313   \n",
       "AL803  Software Design for Mobile Apps and Connected ...            350   \n",
       "AL805    Computer Engineering for Network Infrastructure            321   \n",
       "AL810                                 Quantity Surveying            328   \n",
       "...                                                  ...            ...   \n",
       "WD211                                 Creative Computing            270   \n",
       "WD212                    Recreation and Sport Management            262   \n",
       "WD230           Mechanical and Manufacturing Engineering            230   \n",
       "WD231                 Early Childhood Care and Education            266   \n",
       "WD232                       Business Information Systems            261   \n",
       "\n",
       "      Points_R2_2021  \n",
       "Code                  \n",
       "AL801            NaN  \n",
       "AL802            NaN  \n",
       "AL803            NaN  \n",
       "AL805            NaN  \n",
       "AL810            NaN  \n",
       "...              ...  \n",
       "WD211            NaN  \n",
       "WD212            NaN  \n",
       "WD230            230  \n",
       "WD231            NaN  \n",
       "WD232            261  \n",
       "\n",
       "[949 rows x 3 columns]"
      ]
     },
     "execution_count": 34,
     "metadata": {},
     "output_type": "execute_result"
    }
   ],
   "source": [
    "# Set the index to the code column\n",
    "df2021_8.set_index('Code', inplace = True)\n",
    "df2021_8.columns = ['Title','Points_R1_2021', 'Points_R2_2021']\n",
    "df2021_8"
   ]
  },
  {
   "cell_type": "code",
   "execution_count": 35,
   "id": "b09f1990",
   "metadata": {
    "scrolled": false
   },
   "outputs": [
    {
     "data": {
      "text/html": [
       "<div>\n",
       "<style scoped>\n",
       "    .dataframe tbody tr th:only-of-type {\n",
       "        vertical-align: middle;\n",
       "    }\n",
       "\n",
       "    .dataframe tbody tr th {\n",
       "        vertical-align: top;\n",
       "    }\n",
       "\n",
       "    .dataframe thead th {\n",
       "        text-align: right;\n",
       "    }\n",
       "</style>\n",
       "<table border=\"1\" class=\"dataframe\">\n",
       "  <thead>\n",
       "    <tr style=\"text-align: right;\">\n",
       "      <th></th>\n",
       "      <th>Title</th>\n",
       "      <th>Points_R1_2021</th>\n",
       "    </tr>\n",
       "    <tr>\n",
       "      <th>Code</th>\n",
       "      <th></th>\n",
       "      <th></th>\n",
       "    </tr>\n",
       "  </thead>\n",
       "  <tbody>\n",
       "    <tr>\n",
       "      <th>AL801</th>\n",
       "      <td>Software Design for Virtual Reality and Gaming</td>\n",
       "      <td>300</td>\n",
       "    </tr>\n",
       "    <tr>\n",
       "      <th>AL802</th>\n",
       "      <td>Software Design in Artificial Intelligence for...</td>\n",
       "      <td>313</td>\n",
       "    </tr>\n",
       "    <tr>\n",
       "      <th>AL803</th>\n",
       "      <td>Software Design for Mobile Apps and Connected ...</td>\n",
       "      <td>350</td>\n",
       "    </tr>\n",
       "    <tr>\n",
       "      <th>AL805</th>\n",
       "      <td>Computer Engineering for Network Infrastructure</td>\n",
       "      <td>321</td>\n",
       "    </tr>\n",
       "    <tr>\n",
       "      <th>AL810</th>\n",
       "      <td>Quantity Surveying</td>\n",
       "      <td>328</td>\n",
       "    </tr>\n",
       "    <tr>\n",
       "      <th>...</th>\n",
       "      <td>...</td>\n",
       "      <td>...</td>\n",
       "    </tr>\n",
       "    <tr>\n",
       "      <th>SG441</th>\n",
       "      <td>Environmental Science</td>\n",
       "      <td>NaN</td>\n",
       "    </tr>\n",
       "    <tr>\n",
       "      <th>SG446</th>\n",
       "      <td>Applied Archaeology</td>\n",
       "      <td>NaN</td>\n",
       "    </tr>\n",
       "    <tr>\n",
       "      <th>TL803</th>\n",
       "      <td>Music Technology</td>\n",
       "      <td>NaN</td>\n",
       "    </tr>\n",
       "    <tr>\n",
       "      <th>TL812</th>\n",
       "      <td>Computing with Digital Media</td>\n",
       "      <td>NaN</td>\n",
       "    </tr>\n",
       "    <tr>\n",
       "      <th>WD148</th>\n",
       "      <td>Tourism Marketing</td>\n",
       "      <td>NaN</td>\n",
       "    </tr>\n",
       "  </tbody>\n",
       "</table>\n",
       "<p>1651 rows × 2 columns</p>\n",
       "</div>"
      ],
      "text/plain": [
       "                                                   Title Points_R1_2021\n",
       "Code                                                                   \n",
       "AL801     Software Design for Virtual Reality and Gaming            300\n",
       "AL802  Software Design in Artificial Intelligence for...            313\n",
       "AL803  Software Design for Mobile Apps and Connected ...            350\n",
       "AL805    Computer Engineering for Network Infrastructure            321\n",
       "AL810                                 Quantity Surveying            328\n",
       "...                                                  ...            ...\n",
       "SG441                              Environmental Science            NaN\n",
       "SG446                                Applied Archaeology            NaN\n",
       "TL803                                   Music Technology            NaN\n",
       "TL812                       Computing with Digital Media            NaN\n",
       "WD148                                  Tourism Marketing            NaN\n",
       "\n",
       "[1651 rows x 2 columns]"
      ]
     },
     "execution_count": 35,
     "metadata": {},
     "output_type": "execute_result"
    }
   ],
   "source": [
    "# Set the index to the code column and for Round 1 Data\n",
    "allcourses_L8.set_index('Code', inplace = True)\n",
    "allcourses_L8 = allcourses_L8.join(df2021_8[[ 'Points_R1_2021']])\n",
    "allcourses_L8"
   ]
  },
  {
   "cell_type": "code",
   "execution_count": 36,
   "id": "3802a119",
   "metadata": {
    "scrolled": false
   },
   "outputs": [
    {
     "data": {
      "text/html": [
       "<div>\n",
       "<style scoped>\n",
       "    .dataframe tbody tr th:only-of-type {\n",
       "        vertical-align: middle;\n",
       "    }\n",
       "\n",
       "    .dataframe tbody tr th {\n",
       "        vertical-align: top;\n",
       "    }\n",
       "\n",
       "    .dataframe thead th {\n",
       "        text-align: right;\n",
       "    }\n",
       "</style>\n",
       "<table border=\"1\" class=\"dataframe\">\n",
       "  <thead>\n",
       "    <tr style=\"text-align: right;\">\n",
       "      <th></th>\n",
       "      <th>CATEGORY (i.e.ISCED description)</th>\n",
       "      <th>COURSE TITLE</th>\n",
       "      <th>COURSE CODE2</th>\n",
       "      <th>R1 POINTS</th>\n",
       "      <th>R1 Random *</th>\n",
       "      <th>R2 POINTS</th>\n",
       "      <th>R2 Random*</th>\n",
       "      <th>EOS</th>\n",
       "      <th>EOS Random *</th>\n",
       "      <th>EOS Mid-point</th>\n",
       "      <th>...</th>\n",
       "      <th>avp</th>\n",
       "      <th>v</th>\n",
       "      <th>Column1</th>\n",
       "      <th>Column2</th>\n",
       "      <th>Column3</th>\n",
       "      <th>Column4</th>\n",
       "      <th>Column5</th>\n",
       "      <th>Column6</th>\n",
       "      <th>Column7</th>\n",
       "      <th>Column8</th>\n",
       "    </tr>\n",
       "  </thead>\n",
       "  <tbody>\n",
       "    <tr>\n",
       "      <th>0</th>\n",
       "      <td>Business and administration</td>\n",
       "      <td>International Business</td>\n",
       "      <td>AC120</td>\n",
       "      <td>209</td>\n",
       "      <td>NaN</td>\n",
       "      <td>NaN</td>\n",
       "      <td>NaN</td>\n",
       "      <td>209</td>\n",
       "      <td>NaN</td>\n",
       "      <td>280</td>\n",
       "      <td>...</td>\n",
       "      <td>NaN</td>\n",
       "      <td>NaN</td>\n",
       "      <td>NaN</td>\n",
       "      <td>NaN</td>\n",
       "      <td>NaN</td>\n",
       "      <td>NaN</td>\n",
       "      <td>NaN</td>\n",
       "      <td>NaN</td>\n",
       "      <td>NaN</td>\n",
       "      <td>NaN</td>\n",
       "    </tr>\n",
       "    <tr>\n",
       "      <th>1</th>\n",
       "      <td>Humanities (except languages)</td>\n",
       "      <td>Liberal Arts</td>\n",
       "      <td>AC137</td>\n",
       "      <td>252</td>\n",
       "      <td>NaN</td>\n",
       "      <td>NaN</td>\n",
       "      <td>NaN</td>\n",
       "      <td>252</td>\n",
       "      <td>NaN</td>\n",
       "      <td>270</td>\n",
       "      <td>...</td>\n",
       "      <td>NaN</td>\n",
       "      <td>NaN</td>\n",
       "      <td>NaN</td>\n",
       "      <td>NaN</td>\n",
       "      <td>NaN</td>\n",
       "      <td>NaN</td>\n",
       "      <td>NaN</td>\n",
       "      <td>NaN</td>\n",
       "      <td>NaN</td>\n",
       "      <td>NaN</td>\n",
       "    </tr>\n",
       "    <tr>\n",
       "      <th>2</th>\n",
       "      <td>Arts</td>\n",
       "      <td>First Year Art &amp; Design (Common Entry,portfolio)</td>\n",
       "      <td>AD101</td>\n",
       "      <td>#+matric</td>\n",
       "      <td>NaN</td>\n",
       "      <td>NaN</td>\n",
       "      <td>NaN</td>\n",
       "      <td>#+matric</td>\n",
       "      <td>NaN</td>\n",
       "      <td>#+matric</td>\n",
       "      <td>...</td>\n",
       "      <td>NaN</td>\n",
       "      <td>NaN</td>\n",
       "      <td>NaN</td>\n",
       "      <td>NaN</td>\n",
       "      <td>NaN</td>\n",
       "      <td>NaN</td>\n",
       "      <td>NaN</td>\n",
       "      <td>NaN</td>\n",
       "      <td>NaN</td>\n",
       "      <td>NaN</td>\n",
       "    </tr>\n",
       "    <tr>\n",
       "      <th>3</th>\n",
       "      <td>Arts</td>\n",
       "      <td>Graphic Design and Moving Image Design (portfo...</td>\n",
       "      <td>AD102</td>\n",
       "      <td>#+matric</td>\n",
       "      <td>NaN</td>\n",
       "      <td>NaN</td>\n",
       "      <td>NaN</td>\n",
       "      <td>#+matric</td>\n",
       "      <td>NaN</td>\n",
       "      <td>#+matric</td>\n",
       "      <td>...</td>\n",
       "      <td>NaN</td>\n",
       "      <td>NaN</td>\n",
       "      <td>NaN</td>\n",
       "      <td>NaN</td>\n",
       "      <td>NaN</td>\n",
       "      <td>NaN</td>\n",
       "      <td>NaN</td>\n",
       "      <td>NaN</td>\n",
       "      <td>NaN</td>\n",
       "      <td>NaN</td>\n",
       "    </tr>\n",
       "    <tr>\n",
       "      <th>4</th>\n",
       "      <td>Arts</td>\n",
       "      <td>Textile &amp; Surface Design and Jewellery &amp; Objec...</td>\n",
       "      <td>AD103</td>\n",
       "      <td>#+matric</td>\n",
       "      <td>NaN</td>\n",
       "      <td>NaN</td>\n",
       "      <td>NaN</td>\n",
       "      <td>#+matric</td>\n",
       "      <td>NaN</td>\n",
       "      <td>#+matric</td>\n",
       "      <td>...</td>\n",
       "      <td>NaN</td>\n",
       "      <td>NaN</td>\n",
       "      <td>NaN</td>\n",
       "      <td>NaN</td>\n",
       "      <td>NaN</td>\n",
       "      <td>NaN</td>\n",
       "      <td>NaN</td>\n",
       "      <td>NaN</td>\n",
       "      <td>NaN</td>\n",
       "      <td>NaN</td>\n",
       "    </tr>\n",
       "    <tr>\n",
       "      <th>...</th>\n",
       "      <td>...</td>\n",
       "      <td>...</td>\n",
       "      <td>...</td>\n",
       "      <td>...</td>\n",
       "      <td>...</td>\n",
       "      <td>...</td>\n",
       "      <td>...</td>\n",
       "      <td>...</td>\n",
       "      <td>...</td>\n",
       "      <td>...</td>\n",
       "      <td>...</td>\n",
       "      <td>...</td>\n",
       "      <td>...</td>\n",
       "      <td>...</td>\n",
       "      <td>...</td>\n",
       "      <td>...</td>\n",
       "      <td>...</td>\n",
       "      <td>...</td>\n",
       "      <td>...</td>\n",
       "      <td>...</td>\n",
       "      <td>...</td>\n",
       "    </tr>\n",
       "    <tr>\n",
       "      <th>1459</th>\n",
       "      <td>Manufacturing and processing</td>\n",
       "      <td>Manufacturing Engineering</td>\n",
       "      <td>WD208</td>\n",
       "      <td>188</td>\n",
       "      <td>NaN</td>\n",
       "      <td>NaN</td>\n",
       "      <td>NaN</td>\n",
       "      <td>188</td>\n",
       "      <td>NaN</td>\n",
       "      <td>339</td>\n",
       "      <td>...</td>\n",
       "      <td>NaN</td>\n",
       "      <td>NaN</td>\n",
       "      <td>NaN</td>\n",
       "      <td>NaN</td>\n",
       "      <td>NaN</td>\n",
       "      <td>NaN</td>\n",
       "      <td>NaN</td>\n",
       "      <td>NaN</td>\n",
       "      <td>NaN</td>\n",
       "      <td>NaN</td>\n",
       "    </tr>\n",
       "    <tr>\n",
       "      <th>1460</th>\n",
       "      <td>Information and Communication Technologies (ICTs)</td>\n",
       "      <td>Software Systems Development</td>\n",
       "      <td>WD210</td>\n",
       "      <td>279</td>\n",
       "      <td>NaN</td>\n",
       "      <td>NaN</td>\n",
       "      <td>NaN</td>\n",
       "      <td>279</td>\n",
       "      <td>NaN</td>\n",
       "      <td>337</td>\n",
       "      <td>...</td>\n",
       "      <td>NaN</td>\n",
       "      <td>NaN</td>\n",
       "      <td>NaN</td>\n",
       "      <td>NaN</td>\n",
       "      <td>NaN</td>\n",
       "      <td>NaN</td>\n",
       "      <td>NaN</td>\n",
       "      <td>NaN</td>\n",
       "      <td>NaN</td>\n",
       "      <td>NaN</td>\n",
       "    </tr>\n",
       "    <tr>\n",
       "      <th>1461</th>\n",
       "      <td>Information and Communication Technologies (ICTs)</td>\n",
       "      <td>Creative Computing</td>\n",
       "      <td>WD211</td>\n",
       "      <td>271</td>\n",
       "      <td>NaN</td>\n",
       "      <td>NaN</td>\n",
       "      <td>NaN</td>\n",
       "      <td>271</td>\n",
       "      <td>NaN</td>\n",
       "      <td>318</td>\n",
       "      <td>...</td>\n",
       "      <td>NaN</td>\n",
       "      <td>NaN</td>\n",
       "      <td>NaN</td>\n",
       "      <td>NaN</td>\n",
       "      <td>NaN</td>\n",
       "      <td>NaN</td>\n",
       "      <td>NaN</td>\n",
       "      <td>NaN</td>\n",
       "      <td>NaN</td>\n",
       "      <td>NaN</td>\n",
       "    </tr>\n",
       "    <tr>\n",
       "      <th>1462</th>\n",
       "      <td>Personal services</td>\n",
       "      <td>Recreation and Sport Management</td>\n",
       "      <td>WD212</td>\n",
       "      <td>270</td>\n",
       "      <td>NaN</td>\n",
       "      <td>NaN</td>\n",
       "      <td>NaN</td>\n",
       "      <td>270</td>\n",
       "      <td>NaN</td>\n",
       "      <td>349</td>\n",
       "      <td>...</td>\n",
       "      <td>NaN</td>\n",
       "      <td>NaN</td>\n",
       "      <td>NaN</td>\n",
       "      <td>NaN</td>\n",
       "      <td>NaN</td>\n",
       "      <td>NaN</td>\n",
       "      <td>NaN</td>\n",
       "      <td>NaN</td>\n",
       "      <td>NaN</td>\n",
       "      <td>NaN</td>\n",
       "    </tr>\n",
       "    <tr>\n",
       "      <th>1463</th>\n",
       "      <td>Engineering and engineering trades</td>\n",
       "      <td>Mechanical and Manufacturing Engineering</td>\n",
       "      <td>WD230</td>\n",
       "      <td>253</td>\n",
       "      <td>NaN</td>\n",
       "      <td>NaN</td>\n",
       "      <td>NaN</td>\n",
       "      <td>253</td>\n",
       "      <td>NaN</td>\n",
       "      <td>369</td>\n",
       "      <td>...</td>\n",
       "      <td>NaN</td>\n",
       "      <td>NaN</td>\n",
       "      <td>NaN</td>\n",
       "      <td>NaN</td>\n",
       "      <td>NaN</td>\n",
       "      <td>NaN</td>\n",
       "      <td>NaN</td>\n",
       "      <td>NaN</td>\n",
       "      <td>NaN</td>\n",
       "      <td>NaN</td>\n",
       "    </tr>\n",
       "  </tbody>\n",
       "</table>\n",
       "<p>1464 rows × 23 columns</p>\n",
       "</div>"
      ],
      "text/plain": [
       "                       CATEGORY (i.e.ISCED description)  \\\n",
       "0                           Business and administration   \n",
       "1                         Humanities (except languages)   \n",
       "2                                                  Arts   \n",
       "3                                                  Arts   \n",
       "4                                                  Arts   \n",
       "...                                                 ...   \n",
       "1459                       Manufacturing and processing   \n",
       "1460  Information and Communication Technologies (ICTs)   \n",
       "1461  Information and Communication Technologies (ICTs)   \n",
       "1462                                  Personal services   \n",
       "1463                 Engineering and engineering trades   \n",
       "\n",
       "                                           COURSE TITLE COURSE CODE2  \\\n",
       "0                                International Business        AC120   \n",
       "1                                          Liberal Arts        AC137   \n",
       "2      First Year Art & Design (Common Entry,portfolio)        AD101   \n",
       "3     Graphic Design and Moving Image Design (portfo...        AD102   \n",
       "4     Textile & Surface Design and Jewellery & Objec...        AD103   \n",
       "...                                                 ...          ...   \n",
       "1459                          Manufacturing Engineering        WD208   \n",
       "1460                       Software Systems Development        WD210   \n",
       "1461                                 Creative Computing        WD211   \n",
       "1462                    Recreation and Sport Management        WD212   \n",
       "1463           Mechanical and Manufacturing Engineering        WD230   \n",
       "\n",
       "     R1 POINTS R1 Random * R2 POINTS R2 Random*       EOS EOS Random *  \\\n",
       "0          209         NaN       NaN        NaN       209          NaN   \n",
       "1          252         NaN       NaN        NaN       252          NaN   \n",
       "2     #+matric         NaN       NaN        NaN  #+matric          NaN   \n",
       "3     #+matric         NaN       NaN        NaN  #+matric          NaN   \n",
       "4     #+matric         NaN       NaN        NaN  #+matric          NaN   \n",
       "...        ...         ...       ...        ...       ...          ...   \n",
       "1459       188         NaN       NaN        NaN       188          NaN   \n",
       "1460       279         NaN       NaN        NaN       279          NaN   \n",
       "1461       271         NaN       NaN        NaN       271          NaN   \n",
       "1462       270         NaN       NaN        NaN       270          NaN   \n",
       "1463       253         NaN       NaN        NaN       253          NaN   \n",
       "\n",
       "     EOS Mid-point  ...  avp    v Column1 Column2 Column3  Column4  Column5  \\\n",
       "0              280  ...  NaN  NaN     NaN     NaN     NaN      NaN      NaN   \n",
       "1              270  ...  NaN  NaN     NaN     NaN     NaN      NaN      NaN   \n",
       "2         #+matric  ...  NaN  NaN     NaN     NaN     NaN      NaN      NaN   \n",
       "3         #+matric  ...  NaN  NaN     NaN     NaN     NaN      NaN      NaN   \n",
       "4         #+matric  ...  NaN  NaN     NaN     NaN     NaN      NaN      NaN   \n",
       "...            ...  ...  ...  ...     ...     ...     ...      ...      ...   \n",
       "1459           339  ...  NaN  NaN     NaN     NaN     NaN      NaN      NaN   \n",
       "1460           337  ...  NaN  NaN     NaN     NaN     NaN      NaN      NaN   \n",
       "1461           318  ...  NaN  NaN     NaN     NaN     NaN      NaN      NaN   \n",
       "1462           349  ...  NaN  NaN     NaN     NaN     NaN      NaN      NaN   \n",
       "1463           369  ...  NaN  NaN     NaN     NaN     NaN      NaN      NaN   \n",
       "\n",
       "      Column6  Column7  Column8  \n",
       "0         NaN      NaN      NaN  \n",
       "1         NaN      NaN      NaN  \n",
       "2         NaN      NaN      NaN  \n",
       "3         NaN      NaN      NaN  \n",
       "4         NaN      NaN      NaN  \n",
       "...       ...      ...      ...  \n",
       "1459      NaN      NaN      NaN  \n",
       "1460      NaN      NaN      NaN  \n",
       "1461      NaN      NaN      NaN  \n",
       "1462      NaN      NaN      NaN  \n",
       "1463      NaN      NaN      NaN  \n",
       "\n",
       "[1464 rows x 23 columns]"
      ]
     },
     "execution_count": 36,
     "metadata": {},
     "output_type": "execute_result"
    }
   ],
   "source": [
    "# Lets access 2020 Data\n",
    "df2020"
   ]
  },
  {
   "cell_type": "code",
   "execution_count": 37,
   "id": "e6b84e42",
   "metadata": {
    "scrolled": false
   },
   "outputs": [
    {
     "data": {
      "text/html": [
       "<div>\n",
       "<style scoped>\n",
       "    .dataframe tbody tr th:only-of-type {\n",
       "        vertical-align: middle;\n",
       "    }\n",
       "\n",
       "    .dataframe tbody tr th {\n",
       "        vertical-align: top;\n",
       "    }\n",
       "\n",
       "    .dataframe thead th {\n",
       "        text-align: right;\n",
       "    }\n",
       "</style>\n",
       "<table border=\"1\" class=\"dataframe\">\n",
       "  <thead>\n",
       "    <tr style=\"text-align: right;\">\n",
       "      <th></th>\n",
       "      <th>Points_R1_2020</th>\n",
       "    </tr>\n",
       "    <tr>\n",
       "      <th>Code</th>\n",
       "      <th></th>\n",
       "    </tr>\n",
       "  </thead>\n",
       "  <tbody>\n",
       "    <tr>\n",
       "      <th>AC120</th>\n",
       "      <td>209</td>\n",
       "    </tr>\n",
       "    <tr>\n",
       "      <th>AC137</th>\n",
       "      <td>252</td>\n",
       "    </tr>\n",
       "    <tr>\n",
       "      <th>AD101</th>\n",
       "      <td>#+matric</td>\n",
       "    </tr>\n",
       "    <tr>\n",
       "      <th>AD102</th>\n",
       "      <td>#+matric</td>\n",
       "    </tr>\n",
       "    <tr>\n",
       "      <th>AD103</th>\n",
       "      <td>#+matric</td>\n",
       "    </tr>\n",
       "    <tr>\n",
       "      <th>...</th>\n",
       "      <td>...</td>\n",
       "    </tr>\n",
       "    <tr>\n",
       "      <th>WD208</th>\n",
       "      <td>188</td>\n",
       "    </tr>\n",
       "    <tr>\n",
       "      <th>WD210</th>\n",
       "      <td>279</td>\n",
       "    </tr>\n",
       "    <tr>\n",
       "      <th>WD211</th>\n",
       "      <td>271</td>\n",
       "    </tr>\n",
       "    <tr>\n",
       "      <th>WD212</th>\n",
       "      <td>270</td>\n",
       "    </tr>\n",
       "    <tr>\n",
       "      <th>WD230</th>\n",
       "      <td>253</td>\n",
       "    </tr>\n",
       "  </tbody>\n",
       "</table>\n",
       "<p>1464 rows × 1 columns</p>\n",
       "</div>"
      ],
      "text/plain": [
       "      Points_R1_2020\n",
       "Code                \n",
       "AC120            209\n",
       "AC137            252\n",
       "AD101       #+matric\n",
       "AD102       #+matric\n",
       "AD103       #+matric\n",
       "...              ...\n",
       "WD208            188\n",
       "WD210            279\n",
       "WD211            271\n",
       "WD212            270\n",
       "WD230            253\n",
       "\n",
       "[1464 rows x 1 columns]"
      ]
     },
     "execution_count": 37,
     "metadata": {},
     "output_type": "execute_result"
    }
   ],
   "source": [
    "# Set the index to the code column and for Round 1 Data\n",
    "df2020_r1 = df2020[['COURSE CODE2', 'R1 POINTS']]\n",
    "df2020_r1.columns=['Code', 'Points_R1_2020']\n",
    "df2020_r1.set_index('Code', inplace = True)\n",
    "df2020_r1"
   ]
  },
  {
   "cell_type": "code",
   "execution_count": 38,
   "id": "26ea7e6c",
   "metadata": {
    "scrolled": false
   },
   "outputs": [
    {
     "data": {
      "text/html": [
       "<div>\n",
       "<style scoped>\n",
       "    .dataframe tbody tr th:only-of-type {\n",
       "        vertical-align: middle;\n",
       "    }\n",
       "\n",
       "    .dataframe tbody tr th {\n",
       "        vertical-align: top;\n",
       "    }\n",
       "\n",
       "    .dataframe thead th {\n",
       "        text-align: right;\n",
       "    }\n",
       "</style>\n",
       "<table border=\"1\" class=\"dataframe\">\n",
       "  <thead>\n",
       "    <tr style=\"text-align: right;\">\n",
       "      <th></th>\n",
       "      <th>Title</th>\n",
       "      <th>Points_R1_2021</th>\n",
       "      <th>Points_R1_2020</th>\n",
       "    </tr>\n",
       "    <tr>\n",
       "      <th>Code</th>\n",
       "      <th></th>\n",
       "      <th></th>\n",
       "      <th></th>\n",
       "    </tr>\n",
       "  </thead>\n",
       "  <tbody>\n",
       "    <tr>\n",
       "      <th>AL801</th>\n",
       "      <td>Software Design for Virtual Reality and Gaming</td>\n",
       "      <td>300</td>\n",
       "      <td>303</td>\n",
       "    </tr>\n",
       "    <tr>\n",
       "      <th>AL802</th>\n",
       "      <td>Software Design in Artificial Intelligence for...</td>\n",
       "      <td>313</td>\n",
       "      <td>332</td>\n",
       "    </tr>\n",
       "    <tr>\n",
       "      <th>AL803</th>\n",
       "      <td>Software Design for Mobile Apps and Connected ...</td>\n",
       "      <td>350</td>\n",
       "      <td>337</td>\n",
       "    </tr>\n",
       "    <tr>\n",
       "      <th>AL805</th>\n",
       "      <td>Computer Engineering for Network Infrastructure</td>\n",
       "      <td>321</td>\n",
       "      <td>333</td>\n",
       "    </tr>\n",
       "    <tr>\n",
       "      <th>AL810</th>\n",
       "      <td>Quantity Surveying</td>\n",
       "      <td>328</td>\n",
       "      <td>319</td>\n",
       "    </tr>\n",
       "    <tr>\n",
       "      <th>...</th>\n",
       "      <td>...</td>\n",
       "      <td>...</td>\n",
       "      <td>...</td>\n",
       "    </tr>\n",
       "    <tr>\n",
       "      <th>SG441</th>\n",
       "      <td>Environmental Science</td>\n",
       "      <td>NaN</td>\n",
       "      <td>NaN</td>\n",
       "    </tr>\n",
       "    <tr>\n",
       "      <th>SG446</th>\n",
       "      <td>Applied Archaeology</td>\n",
       "      <td>NaN</td>\n",
       "      <td>NaN</td>\n",
       "    </tr>\n",
       "    <tr>\n",
       "      <th>TL803</th>\n",
       "      <td>Music Technology</td>\n",
       "      <td>NaN</td>\n",
       "      <td>NaN</td>\n",
       "    </tr>\n",
       "    <tr>\n",
       "      <th>TL812</th>\n",
       "      <td>Computing with Digital Media</td>\n",
       "      <td>NaN</td>\n",
       "      <td>NaN</td>\n",
       "    </tr>\n",
       "    <tr>\n",
       "      <th>WD148</th>\n",
       "      <td>Tourism Marketing</td>\n",
       "      <td>NaN</td>\n",
       "      <td>NaN</td>\n",
       "    </tr>\n",
       "  </tbody>\n",
       "</table>\n",
       "<p>1651 rows × 3 columns</p>\n",
       "</div>"
      ],
      "text/plain": [
       "                                                   Title Points_R1_2021  \\\n",
       "Code                                                                      \n",
       "AL801     Software Design for Virtual Reality and Gaming            300   \n",
       "AL802  Software Design in Artificial Intelligence for...            313   \n",
       "AL803  Software Design for Mobile Apps and Connected ...            350   \n",
       "AL805    Computer Engineering for Network Infrastructure            321   \n",
       "AL810                                 Quantity Surveying            328   \n",
       "...                                                  ...            ...   \n",
       "SG441                              Environmental Science            NaN   \n",
       "SG446                                Applied Archaeology            NaN   \n",
       "TL803                                   Music Technology            NaN   \n",
       "TL812                       Computing with Digital Media            NaN   \n",
       "WD148                                  Tourism Marketing            NaN   \n",
       "\n",
       "      Points_R1_2020  \n",
       "Code                  \n",
       "AL801            303  \n",
       "AL802            332  \n",
       "AL803            337  \n",
       "AL805            333  \n",
       "AL810            319  \n",
       "...              ...  \n",
       "SG441            NaN  \n",
       "SG446            NaN  \n",
       "TL803            NaN  \n",
       "TL812            NaN  \n",
       "WD148            NaN  \n",
       "\n",
       "[1651 rows x 3 columns]"
      ]
     },
     "execution_count": 38,
     "metadata": {},
     "output_type": "execute_result"
    }
   ],
   "source": [
    "# Join 2020 points to allcourses_L8\n",
    "allcourses_L8 = allcourses_L8.join(df2020_r1)\n",
    "allcourses_L8"
   ]
  },
  {
   "cell_type": "markdown",
   "id": "f3a40aea",
   "metadata": {},
   "source": [
    "#### 2019 Join"
   ]
  },
  {
   "cell_type": "code",
   "execution_count": 39,
   "id": "e4f1f1bf",
   "metadata": {
    "scrolled": false
   },
   "outputs": [
    {
     "data": {
      "text/html": [
       "<div>\n",
       "<style scoped>\n",
       "    .dataframe tbody tr th:only-of-type {\n",
       "        vertical-align: middle;\n",
       "    }\n",
       "\n",
       "    .dataframe tbody tr th {\n",
       "        vertical-align: top;\n",
       "    }\n",
       "\n",
       "    .dataframe thead th {\n",
       "        text-align: right;\n",
       "    }\n",
       "</style>\n",
       "<table border=\"1\" class=\"dataframe\">\n",
       "  <thead>\n",
       "    <tr style=\"text-align: right;\">\n",
       "      <th></th>\n",
       "      <th>Points_R1_2019</th>\n",
       "    </tr>\n",
       "    <tr>\n",
       "      <th>Code</th>\n",
       "      <th></th>\n",
       "    </tr>\n",
       "  </thead>\n",
       "  <tbody>\n",
       "    <tr>\n",
       "      <th>AL801</th>\n",
       "      <td>328.0</td>\n",
       "    </tr>\n",
       "    <tr>\n",
       "      <th>AL802</th>\n",
       "      <td>306.0</td>\n",
       "    </tr>\n",
       "    <tr>\n",
       "      <th>AL803</th>\n",
       "      <td>337.0</td>\n",
       "    </tr>\n",
       "    <tr>\n",
       "      <th>AL805</th>\n",
       "      <td>442.0</td>\n",
       "    </tr>\n",
       "    <tr>\n",
       "      <th>AL810</th>\n",
       "      <td>349.0</td>\n",
       "    </tr>\n",
       "    <tr>\n",
       "      <th>...</th>\n",
       "      <td>...</td>\n",
       "    </tr>\n",
       "    <tr>\n",
       "      <th>WD200</th>\n",
       "      <td>296.0</td>\n",
       "    </tr>\n",
       "    <tr>\n",
       "      <th>WD210</th>\n",
       "      <td>329.0</td>\n",
       "    </tr>\n",
       "    <tr>\n",
       "      <th>WD211</th>\n",
       "      <td>322.0</td>\n",
       "    </tr>\n",
       "    <tr>\n",
       "      <th>WD212</th>\n",
       "      <td>311.0</td>\n",
       "    </tr>\n",
       "    <tr>\n",
       "      <th>WD230</th>\n",
       "      <td>348.0</td>\n",
       "    </tr>\n",
       "  </tbody>\n",
       "</table>\n",
       "<p>930 rows × 1 columns</p>\n",
       "</div>"
      ],
      "text/plain": [
       "       Points_R1_2019\n",
       "Code                 \n",
       "AL801           328.0\n",
       "AL802           306.0\n",
       "AL803           337.0\n",
       "AL805           442.0\n",
       "AL810           349.0\n",
       "...               ...\n",
       "WD200           296.0\n",
       "WD210           329.0\n",
       "WD211           322.0\n",
       "WD212           311.0\n",
       "WD230           348.0\n",
       "\n",
       "[930 rows x 1 columns]"
      ]
     },
     "execution_count": 39,
     "metadata": {},
     "output_type": "execute_result"
    }
   ],
   "source": [
    "# Set the index to the code column and for Round 1 Data\n",
    "df2019_r1 = df2019[['Course Code', 'Mid']]\n",
    "df2019_r1.columns = ['Code', 'Points_R1_2019']\n",
    "df2019_r1.set_index('Code', inplace = True)\n",
    "df2019_r1"
   ]
  },
  {
   "cell_type": "code",
   "execution_count": 40,
   "id": "159b1e18",
   "metadata": {
    "scrolled": false
   },
   "outputs": [
    {
     "data": {
      "text/html": [
       "<div>\n",
       "<style scoped>\n",
       "    .dataframe tbody tr th:only-of-type {\n",
       "        vertical-align: middle;\n",
       "    }\n",
       "\n",
       "    .dataframe tbody tr th {\n",
       "        vertical-align: top;\n",
       "    }\n",
       "\n",
       "    .dataframe thead th {\n",
       "        text-align: right;\n",
       "    }\n",
       "</style>\n",
       "<table border=\"1\" class=\"dataframe\">\n",
       "  <thead>\n",
       "    <tr style=\"text-align: right;\">\n",
       "      <th></th>\n",
       "      <th>Title</th>\n",
       "      <th>Points_R1_2021</th>\n",
       "      <th>Points_R1_2020</th>\n",
       "      <th>Points_R1_2019</th>\n",
       "    </tr>\n",
       "    <tr>\n",
       "      <th>Code</th>\n",
       "      <th></th>\n",
       "      <th></th>\n",
       "      <th></th>\n",
       "      <th></th>\n",
       "    </tr>\n",
       "  </thead>\n",
       "  <tbody>\n",
       "    <tr>\n",
       "      <th>AL801</th>\n",
       "      <td>Software Design for Virtual Reality and Gaming</td>\n",
       "      <td>300</td>\n",
       "      <td>303</td>\n",
       "      <td>328.0</td>\n",
       "    </tr>\n",
       "    <tr>\n",
       "      <th>AL802</th>\n",
       "      <td>Software Design in Artificial Intelligence for...</td>\n",
       "      <td>313</td>\n",
       "      <td>332</td>\n",
       "      <td>306.0</td>\n",
       "    </tr>\n",
       "    <tr>\n",
       "      <th>AL803</th>\n",
       "      <td>Software Design for Mobile Apps and Connected ...</td>\n",
       "      <td>350</td>\n",
       "      <td>337</td>\n",
       "      <td>337.0</td>\n",
       "    </tr>\n",
       "    <tr>\n",
       "      <th>AL805</th>\n",
       "      <td>Computer Engineering for Network Infrastructure</td>\n",
       "      <td>321</td>\n",
       "      <td>333</td>\n",
       "      <td>442.0</td>\n",
       "    </tr>\n",
       "    <tr>\n",
       "      <th>AL810</th>\n",
       "      <td>Quantity Surveying</td>\n",
       "      <td>328</td>\n",
       "      <td>319</td>\n",
       "      <td>349.0</td>\n",
       "    </tr>\n",
       "    <tr>\n",
       "      <th>...</th>\n",
       "      <td>...</td>\n",
       "      <td>...</td>\n",
       "      <td>...</td>\n",
       "      <td>...</td>\n",
       "    </tr>\n",
       "    <tr>\n",
       "      <th>SG441</th>\n",
       "      <td>Environmental Science</td>\n",
       "      <td>NaN</td>\n",
       "      <td>NaN</td>\n",
       "      <td>358.0</td>\n",
       "    </tr>\n",
       "    <tr>\n",
       "      <th>SG446</th>\n",
       "      <td>Applied Archaeology</td>\n",
       "      <td>NaN</td>\n",
       "      <td>NaN</td>\n",
       "      <td>290.0</td>\n",
       "    </tr>\n",
       "    <tr>\n",
       "      <th>TL803</th>\n",
       "      <td>Music Technology</td>\n",
       "      <td>NaN</td>\n",
       "      <td>NaN</td>\n",
       "      <td>288.0</td>\n",
       "    </tr>\n",
       "    <tr>\n",
       "      <th>TL812</th>\n",
       "      <td>Computing with Digital Media</td>\n",
       "      <td>NaN</td>\n",
       "      <td>NaN</td>\n",
       "      <td>369.0</td>\n",
       "    </tr>\n",
       "    <tr>\n",
       "      <th>WD148</th>\n",
       "      <td>Tourism Marketing</td>\n",
       "      <td>NaN</td>\n",
       "      <td>NaN</td>\n",
       "      <td>338.0</td>\n",
       "    </tr>\n",
       "  </tbody>\n",
       "</table>\n",
       "<p>1651 rows × 4 columns</p>\n",
       "</div>"
      ],
      "text/plain": [
       "                                                   Title Points_R1_2021  \\\n",
       "Code                                                                      \n",
       "AL801     Software Design for Virtual Reality and Gaming            300   \n",
       "AL802  Software Design in Artificial Intelligence for...            313   \n",
       "AL803  Software Design for Mobile Apps and Connected ...            350   \n",
       "AL805    Computer Engineering for Network Infrastructure            321   \n",
       "AL810                                 Quantity Surveying            328   \n",
       "...                                                  ...            ...   \n",
       "SG441                              Environmental Science            NaN   \n",
       "SG446                                Applied Archaeology            NaN   \n",
       "TL803                                   Music Technology            NaN   \n",
       "TL812                       Computing with Digital Media            NaN   \n",
       "WD148                                  Tourism Marketing            NaN   \n",
       "\n",
       "      Points_R1_2020  Points_R1_2019  \n",
       "Code                                  \n",
       "AL801            303           328.0  \n",
       "AL802            332           306.0  \n",
       "AL803            337           337.0  \n",
       "AL805            333           442.0  \n",
       "AL810            319           349.0  \n",
       "...              ...             ...  \n",
       "SG441            NaN           358.0  \n",
       "SG446            NaN           290.0  \n",
       "TL803            NaN           288.0  \n",
       "TL812            NaN           369.0  \n",
       "WD148            NaN           338.0  \n",
       "\n",
       "[1651 rows x 4 columns]"
      ]
     },
     "execution_count": 40,
     "metadata": {},
     "output_type": "execute_result"
    }
   ],
   "source": [
    "# Join 2019 points to allcourses_l8 and display the dataframe\n",
    "allcourses_L8 = allcourses_L8.join(df2019_r1)\n",
    "allcourses_L8"
   ]
  },
  {
   "cell_type": "markdown",
   "id": "56dc8d25",
   "metadata": {},
   "source": [
    "We now have a dataframe that contains all R1 points for CAO courses from 2021-2019."
   ]
  },
  {
   "cell_type": "markdown",
   "id": "7fedf02d",
   "metadata": {},
   "source": [
    "## Lets repeat this work for Level 7/6 Data for 2021 & 2019"
   ]
  },
  {
   "cell_type": "code",
   "execution_count": 41,
   "id": "b0e1303c",
   "metadata": {
    "scrolled": false
   },
   "outputs": [],
   "source": [
    "# Lets concatenate all Round 1 points from 2021 and 2019\n",
    "courses2021_7 = df2021_7[['Code', 'Title']] # Access columns we are interested in\n",
    "\n",
    "\n",
    "# Lets gather our Round 1 courses for 2019\n",
    "courses2019_7 = df2019_l7[['Course Code','Course']]\n",
    "courses2019_7.columns = ['Code','Title']\n",
    "courses2019_7.sort_values('Code')  # Display values, sorting on 'Code'\n",
    "\n",
    "\n",
    "# Lets concatenate our results [10]\n",
    "allcourses_L7 = pd.concat([courses2021_7, courses2019_7], ignore_index=True) # Based on Lecture Notes\n",
    "\n",
    "\n",
    "# Some manipulation of result, display result sorting on 'Code'\n",
    "allcourses_L7.sort_values('Code')\n",
    "\n",
    "\n",
    "# Finds all extra copies of duplicated rows\n",
    "allcourses_L7[allcourses_L7.duplicated()]\n",
    "\n",
    "# Returns a copy of the data frame with duplicates removed.\n",
    "allcourses_L7.drop_duplicates()\n",
    "\n",
    "\n",
    "# Finds all extra copies of duplicated rows\n",
    "allcourses_L7[allcourses_L7.duplicated(subset =['Code'])]\n",
    "\n",
    "\n",
    "\n",
    "# Returns a copy of the data frame with duplicates removed = based only on code [11]\n",
    "allcourses_L7.drop_duplicates(subset = ['Code'], inplace = True, ignore_index = True)"
   ]
  },
  {
   "cell_type": "code",
   "execution_count": 42,
   "id": "75dbebac",
   "metadata": {
    "scrolled": false
   },
   "outputs": [
    {
     "data": {
      "text/html": [
       "<div>\n",
       "<style scoped>\n",
       "    .dataframe tbody tr th:only-of-type {\n",
       "        vertical-align: middle;\n",
       "    }\n",
       "\n",
       "    .dataframe tbody tr th {\n",
       "        vertical-align: top;\n",
       "    }\n",
       "\n",
       "    .dataframe thead th {\n",
       "        text-align: right;\n",
       "    }\n",
       "</style>\n",
       "<table border=\"1\" class=\"dataframe\">\n",
       "  <thead>\n",
       "    <tr style=\"text-align: right;\">\n",
       "      <th></th>\n",
       "      <th>Code</th>\n",
       "      <th>Title</th>\n",
       "      <th>PointsR1</th>\n",
       "      <th>PointsR2</th>\n",
       "    </tr>\n",
       "  </thead>\n",
       "  <tbody>\n",
       "    <tr>\n",
       "      <th>0</th>\n",
       "      <td>AL605</td>\n",
       "      <td>Music and Instrument Technology</td>\n",
       "      <td>211</td>\n",
       "      <td>NaN</td>\n",
       "    </tr>\n",
       "    <tr>\n",
       "      <th>1</th>\n",
       "      <td>AL630</td>\n",
       "      <td>Pharmacy Technician</td>\n",
       "      <td>308</td>\n",
       "      <td>NaN</td>\n",
       "    </tr>\n",
       "    <tr>\n",
       "      <th>2</th>\n",
       "      <td>AL631</td>\n",
       "      <td>Dental Nursing</td>\n",
       "      <td>311</td>\n",
       "      <td>NaN</td>\n",
       "    </tr>\n",
       "    <tr>\n",
       "      <th>3</th>\n",
       "      <td>AL632</td>\n",
       "      <td>Applied Science</td>\n",
       "      <td>297</td>\n",
       "      <td>NaN</td>\n",
       "    </tr>\n",
       "    <tr>\n",
       "      <th>4</th>\n",
       "      <td>AL650</td>\n",
       "      <td>Business</td>\n",
       "      <td>AQA</td>\n",
       "      <td>AQA</td>\n",
       "    </tr>\n",
       "    <tr>\n",
       "      <th>...</th>\n",
       "      <td>...</td>\n",
       "      <td>...</td>\n",
       "      <td>...</td>\n",
       "      <td>...</td>\n",
       "    </tr>\n",
       "    <tr>\n",
       "      <th>411</th>\n",
       "      <td>WD188</td>\n",
       "      <td>Applied Health Care</td>\n",
       "      <td>220</td>\n",
       "      <td>NaN</td>\n",
       "    </tr>\n",
       "    <tr>\n",
       "      <th>412</th>\n",
       "      <td>WD205</td>\n",
       "      <td>Molecular Biology with Biopharmaceutical Science</td>\n",
       "      <td>AQA</td>\n",
       "      <td>262v</td>\n",
       "    </tr>\n",
       "    <tr>\n",
       "      <th>413</th>\n",
       "      <td>WD206</td>\n",
       "      <td>Electronic Engineering</td>\n",
       "      <td>180</td>\n",
       "      <td>NaN</td>\n",
       "    </tr>\n",
       "    <tr>\n",
       "      <th>414</th>\n",
       "      <td>WD207</td>\n",
       "      <td>Mechanical Engineering</td>\n",
       "      <td>172</td>\n",
       "      <td>NaN</td>\n",
       "    </tr>\n",
       "    <tr>\n",
       "      <th>415</th>\n",
       "      <td>WD208</td>\n",
       "      <td>Manufacturing Engineering</td>\n",
       "      <td>317</td>\n",
       "      <td>NaN</td>\n",
       "    </tr>\n",
       "  </tbody>\n",
       "</table>\n",
       "<p>416 rows × 4 columns</p>\n",
       "</div>"
      ],
      "text/plain": [
       "      Code                                             Title PointsR1 PointsR2\n",
       "0    AL605                   Music and Instrument Technology      211      NaN\n",
       "1    AL630                               Pharmacy Technician      308      NaN\n",
       "2    AL631                                    Dental Nursing      311      NaN\n",
       "3    AL632                                   Applied Science      297      NaN\n",
       "4    AL650                                          Business      AQA      AQA\n",
       "..     ...                                               ...      ...      ...\n",
       "411  WD188                               Applied Health Care      220      NaN\n",
       "412  WD205  Molecular Biology with Biopharmaceutical Science      AQA     262v\n",
       "413  WD206                            Electronic Engineering      180      NaN\n",
       "414  WD207                            Mechanical Engineering      172      NaN\n",
       "415  WD208                         Manufacturing Engineering      317      NaN\n",
       "\n",
       "[416 rows x 4 columns]"
      ]
     },
     "execution_count": 42,
     "metadata": {},
     "output_type": "execute_result"
    }
   ],
   "source": [
    "# Lets access 2021 Data\n",
    "df2021_7"
   ]
  },
  {
   "cell_type": "code",
   "execution_count": 43,
   "id": "ec1478b2",
   "metadata": {
    "scrolled": false
   },
   "outputs": [
    {
     "data": {
      "text/html": [
       "<div>\n",
       "<style scoped>\n",
       "    .dataframe tbody tr th:only-of-type {\n",
       "        vertical-align: middle;\n",
       "    }\n",
       "\n",
       "    .dataframe tbody tr th {\n",
       "        vertical-align: top;\n",
       "    }\n",
       "\n",
       "    .dataframe thead th {\n",
       "        text-align: right;\n",
       "    }\n",
       "</style>\n",
       "<table border=\"1\" class=\"dataframe\">\n",
       "  <thead>\n",
       "    <tr style=\"text-align: right;\">\n",
       "      <th></th>\n",
       "      <th>Title</th>\n",
       "      <th>Points_R1_2021</th>\n",
       "      <th>Points_R2_2021</th>\n",
       "    </tr>\n",
       "    <tr>\n",
       "      <th>Code</th>\n",
       "      <th></th>\n",
       "      <th></th>\n",
       "      <th></th>\n",
       "    </tr>\n",
       "  </thead>\n",
       "  <tbody>\n",
       "    <tr>\n",
       "      <th>AL605</th>\n",
       "      <td>Music and Instrument Technology</td>\n",
       "      <td>211</td>\n",
       "      <td>NaN</td>\n",
       "    </tr>\n",
       "    <tr>\n",
       "      <th>AL630</th>\n",
       "      <td>Pharmacy Technician</td>\n",
       "      <td>308</td>\n",
       "      <td>NaN</td>\n",
       "    </tr>\n",
       "    <tr>\n",
       "      <th>AL631</th>\n",
       "      <td>Dental Nursing</td>\n",
       "      <td>311</td>\n",
       "      <td>NaN</td>\n",
       "    </tr>\n",
       "    <tr>\n",
       "      <th>AL632</th>\n",
       "      <td>Applied Science</td>\n",
       "      <td>297</td>\n",
       "      <td>NaN</td>\n",
       "    </tr>\n",
       "    <tr>\n",
       "      <th>AL650</th>\n",
       "      <td>Business</td>\n",
       "      <td>AQA</td>\n",
       "      <td>AQA</td>\n",
       "    </tr>\n",
       "    <tr>\n",
       "      <th>...</th>\n",
       "      <td>...</td>\n",
       "      <td>...</td>\n",
       "      <td>...</td>\n",
       "    </tr>\n",
       "    <tr>\n",
       "      <th>WD188</th>\n",
       "      <td>Applied Health Care</td>\n",
       "      <td>220</td>\n",
       "      <td>NaN</td>\n",
       "    </tr>\n",
       "    <tr>\n",
       "      <th>WD205</th>\n",
       "      <td>Molecular Biology with Biopharmaceutical Science</td>\n",
       "      <td>AQA</td>\n",
       "      <td>262v</td>\n",
       "    </tr>\n",
       "    <tr>\n",
       "      <th>WD206</th>\n",
       "      <td>Electronic Engineering</td>\n",
       "      <td>180</td>\n",
       "      <td>NaN</td>\n",
       "    </tr>\n",
       "    <tr>\n",
       "      <th>WD207</th>\n",
       "      <td>Mechanical Engineering</td>\n",
       "      <td>172</td>\n",
       "      <td>NaN</td>\n",
       "    </tr>\n",
       "    <tr>\n",
       "      <th>WD208</th>\n",
       "      <td>Manufacturing Engineering</td>\n",
       "      <td>317</td>\n",
       "      <td>NaN</td>\n",
       "    </tr>\n",
       "  </tbody>\n",
       "</table>\n",
       "<p>416 rows × 3 columns</p>\n",
       "</div>"
      ],
      "text/plain": [
       "                                                  Title Points_R1_2021  \\\n",
       "Code                                                                     \n",
       "AL605                   Music and Instrument Technology            211   \n",
       "AL630                               Pharmacy Technician            308   \n",
       "AL631                                    Dental Nursing            311   \n",
       "AL632                                   Applied Science            297   \n",
       "AL650                                          Business            AQA   \n",
       "...                                                 ...            ...   \n",
       "WD188                               Applied Health Care            220   \n",
       "WD205  Molecular Biology with Biopharmaceutical Science            AQA   \n",
       "WD206                            Electronic Engineering            180   \n",
       "WD207                            Mechanical Engineering            172   \n",
       "WD208                         Manufacturing Engineering            317   \n",
       "\n",
       "      Points_R2_2021  \n",
       "Code                  \n",
       "AL605            NaN  \n",
       "AL630            NaN  \n",
       "AL631            NaN  \n",
       "AL632            NaN  \n",
       "AL650            AQA  \n",
       "...              ...  \n",
       "WD188            NaN  \n",
       "WD205           262v  \n",
       "WD206            NaN  \n",
       "WD207            NaN  \n",
       "WD208            NaN  \n",
       "\n",
       "[416 rows x 3 columns]"
      ]
     },
     "execution_count": 43,
     "metadata": {},
     "output_type": "execute_result"
    }
   ],
   "source": [
    "# Set the index to the code column and for Round 1 Data\n",
    "df2021_7.set_index('Code', inplace = True)\n",
    "df2021_7.columns = ['Title','Points_R1_2021', 'Points_R2_2021']\n",
    "df2021_7"
   ]
  },
  {
   "cell_type": "code",
   "execution_count": 44,
   "id": "9b024b59",
   "metadata": {
    "scrolled": false
   },
   "outputs": [
    {
     "data": {
      "text/html": [
       "<div>\n",
       "<style scoped>\n",
       "    .dataframe tbody tr th:only-of-type {\n",
       "        vertical-align: middle;\n",
       "    }\n",
       "\n",
       "    .dataframe tbody tr th {\n",
       "        vertical-align: top;\n",
       "    }\n",
       "\n",
       "    .dataframe thead th {\n",
       "        text-align: right;\n",
       "    }\n",
       "</style>\n",
       "<table border=\"1\" class=\"dataframe\">\n",
       "  <thead>\n",
       "    <tr style=\"text-align: right;\">\n",
       "      <th></th>\n",
       "      <th>Title</th>\n",
       "      <th>Points_R1_2021</th>\n",
       "    </tr>\n",
       "    <tr>\n",
       "      <th>Code</th>\n",
       "      <th></th>\n",
       "      <th></th>\n",
       "    </tr>\n",
       "  </thead>\n",
       "  <tbody>\n",
       "    <tr>\n",
       "      <th>AL605</th>\n",
       "      <td>Music and Instrument Technology</td>\n",
       "      <td>211</td>\n",
       "    </tr>\n",
       "    <tr>\n",
       "      <th>AL630</th>\n",
       "      <td>Pharmacy Technician</td>\n",
       "      <td>308</td>\n",
       "    </tr>\n",
       "    <tr>\n",
       "      <th>AL631</th>\n",
       "      <td>Dental Nursing</td>\n",
       "      <td>311</td>\n",
       "    </tr>\n",
       "    <tr>\n",
       "      <th>AL632</th>\n",
       "      <td>Applied Science</td>\n",
       "      <td>297</td>\n",
       "    </tr>\n",
       "    <tr>\n",
       "      <th>AL650</th>\n",
       "      <td>Business</td>\n",
       "      <td>AQA</td>\n",
       "    </tr>\n",
       "    <tr>\n",
       "      <th>...</th>\n",
       "      <td>...</td>\n",
       "      <td>...</td>\n",
       "    </tr>\n",
       "    <tr>\n",
       "      <th>TL620</th>\n",
       "      <td>Culinary Arts</td>\n",
       "      <td>NaN</td>\n",
       "    </tr>\n",
       "    <tr>\n",
       "      <th>TL712</th>\n",
       "      <td>Computing with Digital Media</td>\n",
       "      <td>NaN</td>\n",
       "    </tr>\n",
       "    <tr>\n",
       "      <th>TL719</th>\n",
       "      <td>Culinary Arts</td>\n",
       "      <td>NaN</td>\n",
       "    </tr>\n",
       "    <tr>\n",
       "      <th>TL746</th>\n",
       "      <td>Engineering in Mechatronics Engineering</td>\n",
       "      <td>NaN</td>\n",
       "    </tr>\n",
       "    <tr>\n",
       "      <th>WD139</th>\n",
       "      <td>Civil Engineering</td>\n",
       "      <td>NaN</td>\n",
       "    </tr>\n",
       "  </tbody>\n",
       "</table>\n",
       "<p>554 rows × 2 columns</p>\n",
       "</div>"
      ],
      "text/plain": [
       "                                         Title Points_R1_2021\n",
       "Code                                                         \n",
       "AL605          Music and Instrument Technology            211\n",
       "AL630                      Pharmacy Technician            308\n",
       "AL631                           Dental Nursing            311\n",
       "AL632                          Applied Science            297\n",
       "AL650                                 Business            AQA\n",
       "...                                        ...            ...\n",
       "TL620                            Culinary Arts            NaN\n",
       "TL712             Computing with Digital Media            NaN\n",
       "TL719                            Culinary Arts            NaN\n",
       "TL746  Engineering in Mechatronics Engineering            NaN\n",
       "WD139                        Civil Engineering            NaN\n",
       "\n",
       "[554 rows x 2 columns]"
      ]
     },
     "execution_count": 44,
     "metadata": {},
     "output_type": "execute_result"
    }
   ],
   "source": [
    "# Set the index to the code column and for Round 1 Data\n",
    "allcourses_L7.set_index('Code', inplace = True)\n",
    "allcourses_L7 = allcourses_L7.join(df2021_7[[ 'Points_R1_2021']])\n",
    "allcourses_L7"
   ]
  },
  {
   "cell_type": "code",
   "execution_count": 45,
   "id": "9017f7b7",
   "metadata": {
    "scrolled": false
   },
   "outputs": [
    {
     "data": {
      "text/html": [
       "<div>\n",
       "<style scoped>\n",
       "    .dataframe tbody tr th:only-of-type {\n",
       "        vertical-align: middle;\n",
       "    }\n",
       "\n",
       "    .dataframe tbody tr th {\n",
       "        vertical-align: top;\n",
       "    }\n",
       "\n",
       "    .dataframe thead th {\n",
       "        text-align: right;\n",
       "    }\n",
       "</style>\n",
       "<table border=\"1\" class=\"dataframe\">\n",
       "  <thead>\n",
       "    <tr style=\"text-align: right;\">\n",
       "      <th></th>\n",
       "      <th>Course Code</th>\n",
       "      <th>Course</th>\n",
       "      <th>EOS</th>\n",
       "      <th>Mid</th>\n",
       "    </tr>\n",
       "  </thead>\n",
       "  <tbody>\n",
       "    <tr>\n",
       "      <th>0</th>\n",
       "      <td>AL600</td>\n",
       "      <td>Software Design</td>\n",
       "      <td>205</td>\n",
       "      <td>306.0</td>\n",
       "    </tr>\n",
       "    <tr>\n",
       "      <th>1</th>\n",
       "      <td>AL601</td>\n",
       "      <td>Computer Engineering</td>\n",
       "      <td>196</td>\n",
       "      <td>272.0</td>\n",
       "    </tr>\n",
       "    <tr>\n",
       "      <th>2</th>\n",
       "      <td>AL602</td>\n",
       "      <td>Mechanical Engineering</td>\n",
       "      <td>258</td>\n",
       "      <td>424.0</td>\n",
       "    </tr>\n",
       "    <tr>\n",
       "      <th>3</th>\n",
       "      <td>AL604</td>\n",
       "      <td>Civil Engineering</td>\n",
       "      <td>252</td>\n",
       "      <td>360.0</td>\n",
       "    </tr>\n",
       "    <tr>\n",
       "      <th>4</th>\n",
       "      <td>AL630</td>\n",
       "      <td>Pharmacy Technician</td>\n",
       "      <td>306</td>\n",
       "      <td>366.0</td>\n",
       "    </tr>\n",
       "    <tr>\n",
       "      <th>...</th>\n",
       "      <td>...</td>\n",
       "      <td>...</td>\n",
       "      <td>...</td>\n",
       "      <td>...</td>\n",
       "    </tr>\n",
       "    <tr>\n",
       "      <th>456</th>\n",
       "      <td>WD188</td>\n",
       "      <td>Applied Health Care</td>\n",
       "      <td>206</td>\n",
       "      <td>339.0</td>\n",
       "    </tr>\n",
       "    <tr>\n",
       "      <th>457</th>\n",
       "      <td>WD205</td>\n",
       "      <td>Molecular Biology with Biopharmaceutical Science</td>\n",
       "      <td>208</td>\n",
       "      <td>441.0</td>\n",
       "    </tr>\n",
       "    <tr>\n",
       "      <th>458</th>\n",
       "      <td>WD206</td>\n",
       "      <td>Electronic Engineering</td>\n",
       "      <td>191</td>\n",
       "      <td>322.0</td>\n",
       "    </tr>\n",
       "    <tr>\n",
       "      <th>459</th>\n",
       "      <td>WD207</td>\n",
       "      <td>Mechanical Engineering</td>\n",
       "      <td>179</td>\n",
       "      <td>330.0</td>\n",
       "    </tr>\n",
       "    <tr>\n",
       "      <th>460</th>\n",
       "      <td>WD208</td>\n",
       "      <td>Manufacturing Engineering</td>\n",
       "      <td>195</td>\n",
       "      <td>330.0</td>\n",
       "    </tr>\n",
       "  </tbody>\n",
       "</table>\n",
       "<p>461 rows × 4 columns</p>\n",
       "</div>"
      ],
      "text/plain": [
       "    Course Code                                            Course  EOS    Mid\n",
       "0         AL600                                   Software Design  205  306.0\n",
       "1         AL601                              Computer Engineering  196  272.0\n",
       "2         AL602                            Mechanical Engineering  258  424.0\n",
       "3         AL604                                 Civil Engineering  252  360.0\n",
       "4         AL630                               Pharmacy Technician  306  366.0\n",
       "..          ...                                               ...  ...    ...\n",
       "456       WD188                               Applied Health Care  206  339.0\n",
       "457       WD205  Molecular Biology with Biopharmaceutical Science  208  441.0\n",
       "458       WD206                            Electronic Engineering  191  322.0\n",
       "459       WD207                            Mechanical Engineering  179  330.0\n",
       "460       WD208                         Manufacturing Engineering  195  330.0\n",
       "\n",
       "[461 rows x 4 columns]"
      ]
     },
     "execution_count": 45,
     "metadata": {},
     "output_type": "execute_result"
    }
   ],
   "source": [
    "# Lets access 2019 Data\n",
    "df2019_l7"
   ]
  },
  {
   "cell_type": "code",
   "execution_count": 46,
   "id": "27bbc41a",
   "metadata": {
    "scrolled": false
   },
   "outputs": [
    {
     "data": {
      "text/html": [
       "<div>\n",
       "<style scoped>\n",
       "    .dataframe tbody tr th:only-of-type {\n",
       "        vertical-align: middle;\n",
       "    }\n",
       "\n",
       "    .dataframe tbody tr th {\n",
       "        vertical-align: top;\n",
       "    }\n",
       "\n",
       "    .dataframe thead th {\n",
       "        text-align: right;\n",
       "    }\n",
       "</style>\n",
       "<table border=\"1\" class=\"dataframe\">\n",
       "  <thead>\n",
       "    <tr style=\"text-align: right;\">\n",
       "      <th></th>\n",
       "      <th>Points_Mid_2019</th>\n",
       "    </tr>\n",
       "    <tr>\n",
       "      <th>Code</th>\n",
       "      <th></th>\n",
       "    </tr>\n",
       "  </thead>\n",
       "  <tbody>\n",
       "    <tr>\n",
       "      <th>AL600</th>\n",
       "      <td>306.0</td>\n",
       "    </tr>\n",
       "    <tr>\n",
       "      <th>AL601</th>\n",
       "      <td>272.0</td>\n",
       "    </tr>\n",
       "    <tr>\n",
       "      <th>AL602</th>\n",
       "      <td>424.0</td>\n",
       "    </tr>\n",
       "    <tr>\n",
       "      <th>AL604</th>\n",
       "      <td>360.0</td>\n",
       "    </tr>\n",
       "    <tr>\n",
       "      <th>AL630</th>\n",
       "      <td>366.0</td>\n",
       "    </tr>\n",
       "    <tr>\n",
       "      <th>...</th>\n",
       "      <td>...</td>\n",
       "    </tr>\n",
       "    <tr>\n",
       "      <th>WD188</th>\n",
       "      <td>339.0</td>\n",
       "    </tr>\n",
       "    <tr>\n",
       "      <th>WD205</th>\n",
       "      <td>441.0</td>\n",
       "    </tr>\n",
       "    <tr>\n",
       "      <th>WD206</th>\n",
       "      <td>322.0</td>\n",
       "    </tr>\n",
       "    <tr>\n",
       "      <th>WD207</th>\n",
       "      <td>330.0</td>\n",
       "    </tr>\n",
       "    <tr>\n",
       "      <th>WD208</th>\n",
       "      <td>330.0</td>\n",
       "    </tr>\n",
       "  </tbody>\n",
       "</table>\n",
       "<p>461 rows × 1 columns</p>\n",
       "</div>"
      ],
      "text/plain": [
       "       Points_Mid_2019\n",
       "Code                  \n",
       "AL600            306.0\n",
       "AL601            272.0\n",
       "AL602            424.0\n",
       "AL604            360.0\n",
       "AL630            366.0\n",
       "...                ...\n",
       "WD188            339.0\n",
       "WD205            441.0\n",
       "WD206            322.0\n",
       "WD207            330.0\n",
       "WD208            330.0\n",
       "\n",
       "[461 rows x 1 columns]"
      ]
     },
     "execution_count": 46,
     "metadata": {},
     "output_type": "execute_result"
    }
   ],
   "source": [
    "# Set the index to the code column and for Round 1 Data\n",
    "df2019_l7 = df2019_l7[['Course Code', 'Mid']]\n",
    "df2019_l7.columns = ['Code', 'Points_Mid_2019']\n",
    "df2019_l7.set_index('Code', inplace = True)\n",
    "df2019_l7"
   ]
  },
  {
   "cell_type": "code",
   "execution_count": 47,
   "id": "60a6a5ce",
   "metadata": {
    "scrolled": false
   },
   "outputs": [
    {
     "data": {
      "text/html": [
       "<div>\n",
       "<style scoped>\n",
       "    .dataframe tbody tr th:only-of-type {\n",
       "        vertical-align: middle;\n",
       "    }\n",
       "\n",
       "    .dataframe tbody tr th {\n",
       "        vertical-align: top;\n",
       "    }\n",
       "\n",
       "    .dataframe thead th {\n",
       "        text-align: right;\n",
       "    }\n",
       "</style>\n",
       "<table border=\"1\" class=\"dataframe\">\n",
       "  <thead>\n",
       "    <tr style=\"text-align: right;\">\n",
       "      <th></th>\n",
       "      <th>Title</th>\n",
       "      <th>Points_R1_2021</th>\n",
       "      <th>Points_Mid_2019</th>\n",
       "    </tr>\n",
       "    <tr>\n",
       "      <th>Code</th>\n",
       "      <th></th>\n",
       "      <th></th>\n",
       "      <th></th>\n",
       "    </tr>\n",
       "  </thead>\n",
       "  <tbody>\n",
       "    <tr>\n",
       "      <th>AL605</th>\n",
       "      <td>Music and Instrument Technology</td>\n",
       "      <td>211</td>\n",
       "      <td>NaN</td>\n",
       "    </tr>\n",
       "    <tr>\n",
       "      <th>AL630</th>\n",
       "      <td>Pharmacy Technician</td>\n",
       "      <td>308</td>\n",
       "      <td>366.0</td>\n",
       "    </tr>\n",
       "    <tr>\n",
       "      <th>AL631</th>\n",
       "      <td>Dental Nursing</td>\n",
       "      <td>311</td>\n",
       "      <td>379.0</td>\n",
       "    </tr>\n",
       "    <tr>\n",
       "      <th>AL632</th>\n",
       "      <td>Applied Science</td>\n",
       "      <td>297</td>\n",
       "      <td>372.0</td>\n",
       "    </tr>\n",
       "    <tr>\n",
       "      <th>AL650</th>\n",
       "      <td>Business</td>\n",
       "      <td>AQA</td>\n",
       "      <td>317.0</td>\n",
       "    </tr>\n",
       "    <tr>\n",
       "      <th>...</th>\n",
       "      <td>...</td>\n",
       "      <td>...</td>\n",
       "      <td>...</td>\n",
       "    </tr>\n",
       "    <tr>\n",
       "      <th>TL620</th>\n",
       "      <td>Culinary Arts</td>\n",
       "      <td>NaN</td>\n",
       "      <td>234.0</td>\n",
       "    </tr>\n",
       "    <tr>\n",
       "      <th>TL712</th>\n",
       "      <td>Computing with Digital Media</td>\n",
       "      <td>NaN</td>\n",
       "      <td>352.0</td>\n",
       "    </tr>\n",
       "    <tr>\n",
       "      <th>TL719</th>\n",
       "      <td>Culinary Arts</td>\n",
       "      <td>NaN</td>\n",
       "      <td>368.0</td>\n",
       "    </tr>\n",
       "    <tr>\n",
       "      <th>TL746</th>\n",
       "      <td>Engineering in Mechatronics Engineering</td>\n",
       "      <td>NaN</td>\n",
       "      <td>NaN</td>\n",
       "    </tr>\n",
       "    <tr>\n",
       "      <th>WD139</th>\n",
       "      <td>Civil Engineering</td>\n",
       "      <td>NaN</td>\n",
       "      <td>364.0</td>\n",
       "    </tr>\n",
       "  </tbody>\n",
       "</table>\n",
       "<p>554 rows × 3 columns</p>\n",
       "</div>"
      ],
      "text/plain": [
       "                                         Title Points_R1_2021  Points_Mid_2019\n",
       "Code                                                                          \n",
       "AL605          Music and Instrument Technology            211              NaN\n",
       "AL630                      Pharmacy Technician            308            366.0\n",
       "AL631                           Dental Nursing            311            379.0\n",
       "AL632                          Applied Science            297            372.0\n",
       "AL650                                 Business            AQA            317.0\n",
       "...                                        ...            ...              ...\n",
       "TL620                            Culinary Arts            NaN            234.0\n",
       "TL712             Computing with Digital Media            NaN            352.0\n",
       "TL719                            Culinary Arts            NaN            368.0\n",
       "TL746  Engineering in Mechatronics Engineering            NaN              NaN\n",
       "WD139                        Civil Engineering            NaN            364.0\n",
       "\n",
       "[554 rows x 3 columns]"
      ]
     },
     "execution_count": 47,
     "metadata": {},
     "output_type": "execute_result"
    }
   ],
   "source": [
    "# Set the index to the code column and for Round 1 Data\n",
    "allcourses_L7 = allcourses_L7.join(df2019_l7[[ 'Points_Mid_2019']])\n",
    "allcourses_L7"
   ]
  },
  {
   "cell_type": "markdown",
   "id": "73db5e8f",
   "metadata": {},
   "source": [
    "We now have a dataframe that contains all R1 points for CAO courses for 2021 and 2019 Level 7/6. It was not feasible to include 2020 in this category as all raw data is contained on the same spreadsheet, which is a shame. "
   ]
  },
  {
   "cell_type": "markdown",
   "id": "7bca8013",
   "metadata": {},
   "source": [
    "## Descriptive Statistics on our newly-minted Dataframes"
   ]
  },
  {
   "cell_type": "code",
   "execution_count": 48,
   "id": "fa8a178e",
   "metadata": {
    "scrolled": false
   },
   "outputs": [
    {
     "data": {
      "text/html": [
       "<div>\n",
       "<style scoped>\n",
       "    .dataframe tbody tr th:only-of-type {\n",
       "        vertical-align: middle;\n",
       "    }\n",
       "\n",
       "    .dataframe tbody tr th {\n",
       "        vertical-align: top;\n",
       "    }\n",
       "\n",
       "    .dataframe thead th {\n",
       "        text-align: right;\n",
       "    }\n",
       "</style>\n",
       "<table border=\"1\" class=\"dataframe\">\n",
       "  <thead>\n",
       "    <tr style=\"text-align: right;\">\n",
       "      <th></th>\n",
       "      <th>Title</th>\n",
       "      <th>Points_R1_2021</th>\n",
       "      <th>Points_Mid_2019</th>\n",
       "    </tr>\n",
       "    <tr>\n",
       "      <th>Code</th>\n",
       "      <th></th>\n",
       "      <th></th>\n",
       "      <th></th>\n",
       "    </tr>\n",
       "  </thead>\n",
       "  <tbody>\n",
       "    <tr>\n",
       "      <th>AL605</th>\n",
       "      <td>Music and Instrument Technology</td>\n",
       "      <td>211</td>\n",
       "      <td>NaN</td>\n",
       "    </tr>\n",
       "    <tr>\n",
       "      <th>AL630</th>\n",
       "      <td>Pharmacy Technician</td>\n",
       "      <td>308</td>\n",
       "      <td>366.0</td>\n",
       "    </tr>\n",
       "    <tr>\n",
       "      <th>AL631</th>\n",
       "      <td>Dental Nursing</td>\n",
       "      <td>311</td>\n",
       "      <td>379.0</td>\n",
       "    </tr>\n",
       "    <tr>\n",
       "      <th>AL632</th>\n",
       "      <td>Applied Science</td>\n",
       "      <td>297</td>\n",
       "      <td>372.0</td>\n",
       "    </tr>\n",
       "    <tr>\n",
       "      <th>AL650</th>\n",
       "      <td>Business</td>\n",
       "      <td>AQA</td>\n",
       "      <td>317.0</td>\n",
       "    </tr>\n",
       "    <tr>\n",
       "      <th>...</th>\n",
       "      <td>...</td>\n",
       "      <td>...</td>\n",
       "      <td>...</td>\n",
       "    </tr>\n",
       "    <tr>\n",
       "      <th>TL620</th>\n",
       "      <td>Culinary Arts</td>\n",
       "      <td>NaN</td>\n",
       "      <td>234.0</td>\n",
       "    </tr>\n",
       "    <tr>\n",
       "      <th>TL712</th>\n",
       "      <td>Computing with Digital Media</td>\n",
       "      <td>NaN</td>\n",
       "      <td>352.0</td>\n",
       "    </tr>\n",
       "    <tr>\n",
       "      <th>TL719</th>\n",
       "      <td>Culinary Arts</td>\n",
       "      <td>NaN</td>\n",
       "      <td>368.0</td>\n",
       "    </tr>\n",
       "    <tr>\n",
       "      <th>TL746</th>\n",
       "      <td>Engineering in Mechatronics Engineering</td>\n",
       "      <td>NaN</td>\n",
       "      <td>NaN</td>\n",
       "    </tr>\n",
       "    <tr>\n",
       "      <th>WD139</th>\n",
       "      <td>Civil Engineering</td>\n",
       "      <td>NaN</td>\n",
       "      <td>364.0</td>\n",
       "    </tr>\n",
       "  </tbody>\n",
       "</table>\n",
       "<p>554 rows × 3 columns</p>\n",
       "</div>"
      ],
      "text/plain": [
       "                                         Title Points_R1_2021  Points_Mid_2019\n",
       "Code                                                                          \n",
       "AL605          Music and Instrument Technology            211              NaN\n",
       "AL630                      Pharmacy Technician            308            366.0\n",
       "AL631                           Dental Nursing            311            379.0\n",
       "AL632                          Applied Science            297            372.0\n",
       "AL650                                 Business            AQA            317.0\n",
       "...                                        ...            ...              ...\n",
       "TL620                            Culinary Arts            NaN            234.0\n",
       "TL712             Computing with Digital Media            NaN            352.0\n",
       "TL719                            Culinary Arts            NaN            368.0\n",
       "TL746  Engineering in Mechatronics Engineering            NaN              NaN\n",
       "WD139                        Civil Engineering            NaN            364.0\n",
       "\n",
       "[554 rows x 3 columns]"
      ]
     },
     "execution_count": 48,
     "metadata": {},
     "output_type": "execute_result"
    }
   ],
   "source": [
    "allcourses_L7"
   ]
  },
  {
   "cell_type": "code",
   "execution_count": 49,
   "id": "2fbe6e86",
   "metadata": {
    "scrolled": false
   },
   "outputs": [
    {
     "data": {
      "text/html": [
       "<div>\n",
       "<style scoped>\n",
       "    .dataframe tbody tr th:only-of-type {\n",
       "        vertical-align: middle;\n",
       "    }\n",
       "\n",
       "    .dataframe tbody tr th {\n",
       "        vertical-align: top;\n",
       "    }\n",
       "\n",
       "    .dataframe thead th {\n",
       "        text-align: right;\n",
       "    }\n",
       "</style>\n",
       "<table border=\"1\" class=\"dataframe\">\n",
       "  <thead>\n",
       "    <tr style=\"text-align: right;\">\n",
       "      <th></th>\n",
       "      <th>Title</th>\n",
       "      <th>Points_R1_2021</th>\n",
       "      <th>Points_R1_2020</th>\n",
       "      <th>Points_R1_2019</th>\n",
       "    </tr>\n",
       "    <tr>\n",
       "      <th>Code</th>\n",
       "      <th></th>\n",
       "      <th></th>\n",
       "      <th></th>\n",
       "      <th></th>\n",
       "    </tr>\n",
       "  </thead>\n",
       "  <tbody>\n",
       "    <tr>\n",
       "      <th>AL801</th>\n",
       "      <td>Software Design for Virtual Reality and Gaming</td>\n",
       "      <td>300</td>\n",
       "      <td>303</td>\n",
       "      <td>328.0</td>\n",
       "    </tr>\n",
       "    <tr>\n",
       "      <th>AL802</th>\n",
       "      <td>Software Design in Artificial Intelligence for...</td>\n",
       "      <td>313</td>\n",
       "      <td>332</td>\n",
       "      <td>306.0</td>\n",
       "    </tr>\n",
       "    <tr>\n",
       "      <th>AL803</th>\n",
       "      <td>Software Design for Mobile Apps and Connected ...</td>\n",
       "      <td>350</td>\n",
       "      <td>337</td>\n",
       "      <td>337.0</td>\n",
       "    </tr>\n",
       "    <tr>\n",
       "      <th>AL805</th>\n",
       "      <td>Computer Engineering for Network Infrastructure</td>\n",
       "      <td>321</td>\n",
       "      <td>333</td>\n",
       "      <td>442.0</td>\n",
       "    </tr>\n",
       "    <tr>\n",
       "      <th>AL810</th>\n",
       "      <td>Quantity Surveying</td>\n",
       "      <td>328</td>\n",
       "      <td>319</td>\n",
       "      <td>349.0</td>\n",
       "    </tr>\n",
       "    <tr>\n",
       "      <th>...</th>\n",
       "      <td>...</td>\n",
       "      <td>...</td>\n",
       "      <td>...</td>\n",
       "      <td>...</td>\n",
       "    </tr>\n",
       "    <tr>\n",
       "      <th>SG441</th>\n",
       "      <td>Environmental Science</td>\n",
       "      <td>NaN</td>\n",
       "      <td>NaN</td>\n",
       "      <td>358.0</td>\n",
       "    </tr>\n",
       "    <tr>\n",
       "      <th>SG446</th>\n",
       "      <td>Applied Archaeology</td>\n",
       "      <td>NaN</td>\n",
       "      <td>NaN</td>\n",
       "      <td>290.0</td>\n",
       "    </tr>\n",
       "    <tr>\n",
       "      <th>TL803</th>\n",
       "      <td>Music Technology</td>\n",
       "      <td>NaN</td>\n",
       "      <td>NaN</td>\n",
       "      <td>288.0</td>\n",
       "    </tr>\n",
       "    <tr>\n",
       "      <th>TL812</th>\n",
       "      <td>Computing with Digital Media</td>\n",
       "      <td>NaN</td>\n",
       "      <td>NaN</td>\n",
       "      <td>369.0</td>\n",
       "    </tr>\n",
       "    <tr>\n",
       "      <th>WD148</th>\n",
       "      <td>Tourism Marketing</td>\n",
       "      <td>NaN</td>\n",
       "      <td>NaN</td>\n",
       "      <td>338.0</td>\n",
       "    </tr>\n",
       "  </tbody>\n",
       "</table>\n",
       "<p>1651 rows × 4 columns</p>\n",
       "</div>"
      ],
      "text/plain": [
       "                                                   Title Points_R1_2021  \\\n",
       "Code                                                                      \n",
       "AL801     Software Design for Virtual Reality and Gaming            300   \n",
       "AL802  Software Design in Artificial Intelligence for...            313   \n",
       "AL803  Software Design for Mobile Apps and Connected ...            350   \n",
       "AL805    Computer Engineering for Network Infrastructure            321   \n",
       "AL810                                 Quantity Surveying            328   \n",
       "...                                                  ...            ...   \n",
       "SG441                              Environmental Science            NaN   \n",
       "SG446                                Applied Archaeology            NaN   \n",
       "TL803                                   Music Technology            NaN   \n",
       "TL812                       Computing with Digital Media            NaN   \n",
       "WD148                                  Tourism Marketing            NaN   \n",
       "\n",
       "      Points_R1_2020  Points_R1_2019  \n",
       "Code                                  \n",
       "AL801            303           328.0  \n",
       "AL802            332           306.0  \n",
       "AL803            337           337.0  \n",
       "AL805            333           442.0  \n",
       "AL810            319           349.0  \n",
       "...              ...             ...  \n",
       "SG441            NaN           358.0  \n",
       "SG446            NaN           290.0  \n",
       "TL803            NaN           288.0  \n",
       "TL812            NaN           369.0  \n",
       "WD148            NaN           338.0  \n",
       "\n",
       "[1651 rows x 4 columns]"
      ]
     },
     "execution_count": 49,
     "metadata": {},
     "output_type": "execute_result"
    }
   ],
   "source": [
    "allcourses_L8"
   ]
  },
  {
   "cell_type": "code",
   "execution_count": 50,
   "id": "c79382c4",
   "metadata": {
    "scrolled": false
   },
   "outputs": [
    {
     "name": "stdout",
     "output_type": "stream",
     "text": [
      "Data frame shape (1651, 4) rows,columns\n"
     ]
    },
    {
     "data": {
      "text/html": [
       "<div>\n",
       "<style scoped>\n",
       "    .dataframe tbody tr th:only-of-type {\n",
       "        vertical-align: middle;\n",
       "    }\n",
       "\n",
       "    .dataframe tbody tr th {\n",
       "        vertical-align: top;\n",
       "    }\n",
       "\n",
       "    .dataframe thead th {\n",
       "        text-align: right;\n",
       "    }\n",
       "</style>\n",
       "<table border=\"1\" class=\"dataframe\">\n",
       "  <thead>\n",
       "    <tr style=\"text-align: right;\">\n",
       "      <th></th>\n",
       "      <th>Title</th>\n",
       "      <th>Points_R1_2021</th>\n",
       "      <th>Points_R1_2020</th>\n",
       "      <th>Points_R1_2019</th>\n",
       "    </tr>\n",
       "    <tr>\n",
       "      <th>Code</th>\n",
       "      <th></th>\n",
       "      <th></th>\n",
       "      <th></th>\n",
       "      <th></th>\n",
       "    </tr>\n",
       "  </thead>\n",
       "  <tbody>\n",
       "    <tr>\n",
       "      <th>AL801</th>\n",
       "      <td>Software Design for Virtual Reality and Gaming</td>\n",
       "      <td>300</td>\n",
       "      <td>303</td>\n",
       "      <td>328.0</td>\n",
       "    </tr>\n",
       "    <tr>\n",
       "      <th>AL802</th>\n",
       "      <td>Software Design in Artificial Intelligence for...</td>\n",
       "      <td>313</td>\n",
       "      <td>332</td>\n",
       "      <td>306.0</td>\n",
       "    </tr>\n",
       "    <tr>\n",
       "      <th>AL803</th>\n",
       "      <td>Software Design for Mobile Apps and Connected ...</td>\n",
       "      <td>350</td>\n",
       "      <td>337</td>\n",
       "      <td>337.0</td>\n",
       "    </tr>\n",
       "    <tr>\n",
       "      <th>AL805</th>\n",
       "      <td>Computer Engineering for Network Infrastructure</td>\n",
       "      <td>321</td>\n",
       "      <td>333</td>\n",
       "      <td>442.0</td>\n",
       "    </tr>\n",
       "    <tr>\n",
       "      <th>AL810</th>\n",
       "      <td>Quantity Surveying</td>\n",
       "      <td>328</td>\n",
       "      <td>319</td>\n",
       "      <td>349.0</td>\n",
       "    </tr>\n",
       "    <tr>\n",
       "      <th>AL811</th>\n",
       "      <td>Civil Engineering</td>\n",
       "      <td>NaN</td>\n",
       "      <td>320</td>\n",
       "      <td>NaN</td>\n",
       "    </tr>\n",
       "    <tr>\n",
       "      <th>AL820</th>\n",
       "      <td>Mechanical and Polymer Engineering</td>\n",
       "      <td>327</td>\n",
       "      <td>308</td>\n",
       "      <td>358.0</td>\n",
       "    </tr>\n",
       "    <tr>\n",
       "      <th>AL830</th>\n",
       "      <td>General Nursing</td>\n",
       "      <td>451*</td>\n",
       "      <td>442</td>\n",
       "      <td>429.0</td>\n",
       "    </tr>\n",
       "    <tr>\n",
       "      <th>AL832</th>\n",
       "      <td>Mental Health Nursing</td>\n",
       "      <td>440*</td>\n",
       "      <td>387</td>\n",
       "      <td>403.0</td>\n",
       "    </tr>\n",
       "    <tr>\n",
       "      <th>AL835</th>\n",
       "      <td>Pharmacology</td>\n",
       "      <td>356</td>\n",
       "      <td>NaN</td>\n",
       "      <td>NaN</td>\n",
       "    </tr>\n",
       "  </tbody>\n",
       "</table>\n",
       "</div>"
      ],
      "text/plain": [
       "                                                   Title Points_R1_2021  \\\n",
       "Code                                                                      \n",
       "AL801     Software Design for Virtual Reality and Gaming            300   \n",
       "AL802  Software Design in Artificial Intelligence for...            313   \n",
       "AL803  Software Design for Mobile Apps and Connected ...            350   \n",
       "AL805    Computer Engineering for Network Infrastructure            321   \n",
       "AL810                                 Quantity Surveying            328   \n",
       "AL811                                  Civil Engineering            NaN   \n",
       "AL820                 Mechanical and Polymer Engineering            327   \n",
       "AL830                                    General Nursing           451*   \n",
       "AL832                              Mental Health Nursing           440*   \n",
       "AL835                                       Pharmacology            356   \n",
       "\n",
       "      Points_R1_2020  Points_R1_2019  \n",
       "Code                                  \n",
       "AL801            303           328.0  \n",
       "AL802            332           306.0  \n",
       "AL803            337           337.0  \n",
       "AL805            333           442.0  \n",
       "AL810            319           349.0  \n",
       "AL811            320             NaN  \n",
       "AL820            308           358.0  \n",
       "AL830            442           429.0  \n",
       "AL832            387           403.0  \n",
       "AL835            NaN             NaN  "
      ]
     },
     "execution_count": 50,
     "metadata": {},
     "output_type": "execute_result"
    }
   ],
   "source": [
    "# Size of our dataframe\n",
    "shape = allcourses_L8.shape\n",
    "print('Data frame shape', shape, 'rows,columns')\n",
    "\n",
    "# Print the first ten lines.\n",
    "allcourses_L8.head(10)"
   ]
  },
  {
   "cell_type": "code",
   "execution_count": 51,
   "id": "3f50f4f1",
   "metadata": {
    "scrolled": false
   },
   "outputs": [
    {
     "name": "stdout",
     "output_type": "stream",
     "text": [
      "Data frame shape (554, 3) rows,columns\n"
     ]
    },
    {
     "data": {
      "text/html": [
       "<div>\n",
       "<style scoped>\n",
       "    .dataframe tbody tr th:only-of-type {\n",
       "        vertical-align: middle;\n",
       "    }\n",
       "\n",
       "    .dataframe tbody tr th {\n",
       "        vertical-align: top;\n",
       "    }\n",
       "\n",
       "    .dataframe thead th {\n",
       "        text-align: right;\n",
       "    }\n",
       "</style>\n",
       "<table border=\"1\" class=\"dataframe\">\n",
       "  <thead>\n",
       "    <tr style=\"text-align: right;\">\n",
       "      <th></th>\n",
       "      <th>Title</th>\n",
       "      <th>Points_R1_2021</th>\n",
       "      <th>Points_Mid_2019</th>\n",
       "    </tr>\n",
       "    <tr>\n",
       "      <th>Code</th>\n",
       "      <th></th>\n",
       "      <th></th>\n",
       "      <th></th>\n",
       "    </tr>\n",
       "  </thead>\n",
       "  <tbody>\n",
       "    <tr>\n",
       "      <th>AL605</th>\n",
       "      <td>Music and Instrument Technology</td>\n",
       "      <td>211</td>\n",
       "      <td>NaN</td>\n",
       "    </tr>\n",
       "    <tr>\n",
       "      <th>AL630</th>\n",
       "      <td>Pharmacy Technician</td>\n",
       "      <td>308</td>\n",
       "      <td>366.0</td>\n",
       "    </tr>\n",
       "    <tr>\n",
       "      <th>AL631</th>\n",
       "      <td>Dental Nursing</td>\n",
       "      <td>311</td>\n",
       "      <td>379.0</td>\n",
       "    </tr>\n",
       "    <tr>\n",
       "      <th>AL632</th>\n",
       "      <td>Applied Science</td>\n",
       "      <td>297</td>\n",
       "      <td>372.0</td>\n",
       "    </tr>\n",
       "    <tr>\n",
       "      <th>AL650</th>\n",
       "      <td>Business</td>\n",
       "      <td>AQA</td>\n",
       "      <td>317.0</td>\n",
       "    </tr>\n",
       "  </tbody>\n",
       "</table>\n",
       "</div>"
      ],
      "text/plain": [
       "                                 Title Points_R1_2021  Points_Mid_2019\n",
       "Code                                                                  \n",
       "AL605  Music and Instrument Technology            211              NaN\n",
       "AL630              Pharmacy Technician            308            366.0\n",
       "AL631                   Dental Nursing            311            379.0\n",
       "AL632                  Applied Science            297            372.0\n",
       "AL650                         Business            AQA            317.0"
      ]
     },
     "execution_count": 51,
     "metadata": {},
     "output_type": "execute_result"
    }
   ],
   "source": [
    "# Size of our dataframe\n",
    "shape = allcourses_L7.shape\n",
    "print('Data frame shape', shape, 'rows,columns')\n",
    "\n",
    "# Print the first five lines.\n",
    "allcourses_L7.head()"
   ]
  },
  {
   "cell_type": "markdown",
   "id": "2ec9dd2d",
   "metadata": {},
   "source": [
    "Our dataframes have been constructed so that they are quite visually accessible. We have our Course Code (Code), our Course Title (Title), and our Round 1 points for each applicable year. The Level 8 data contains 1651 rows and our Level 7/6 data contains 554 rows. In our Level 7 dataframe for 2019, we have taken the median value (or mid-point average) of points for the given course."
   ]
  },
  {
   "cell_type": "code",
   "execution_count": 52,
   "id": "4bce96d1",
   "metadata": {
    "scrolled": false
   },
   "outputs": [
    {
     "name": "stdout",
     "output_type": "stream",
     "text": [
      "This is the information regarding Level 8 courses\n",
      "<class 'pandas.core.frame.DataFrame'>\n",
      "Index: 1651 entries, AL801 to WD148\n",
      "Data columns (total 4 columns):\n",
      " #   Column          Non-Null Count  Dtype  \n",
      "---  ------          --------------  -----  \n",
      " 0   Title           1651 non-null   object \n",
      " 1   Points_R1_2021  928 non-null    object \n",
      " 2   Points_R1_2020  1437 non-null   object \n",
      " 3   Points_R1_2019  915 non-null    float64\n",
      "dtypes: float64(1), object(3)\n",
      "memory usage: 129.0+ KB\n",
      "\n",
      "This is the information regarding Level 7 courses\n",
      "<class 'pandas.core.frame.DataFrame'>\n",
      "Index: 554 entries, AL605 to WD139\n",
      "Data columns (total 3 columns):\n",
      " #   Column           Non-Null Count  Dtype  \n",
      "---  ------           --------------  -----  \n",
      " 0   Title            554 non-null    object \n",
      " 1   Points_R1_2021   408 non-null    object \n",
      " 2   Points_Mid_2019  453 non-null    float64\n",
      "dtypes: float64(1), object(2)\n",
      "memory usage: 33.5+ KB\n"
     ]
    }
   ],
   "source": [
    "print('This is the information regarding Level 8 courses')\n",
    "info1 = allcourses_L8.info()\n",
    "print()\n",
    "print('This is the information regarding Level 7 courses')\n",
    "info2 = allcourses_L7.info()\n"
   ]
  },
  {
   "cell_type": "code",
   "execution_count": 53,
   "id": "db47c6ff",
   "metadata": {
    "scrolled": false
   },
   "outputs": [
    {
     "name": "stdout",
     "output_type": "stream",
     "text": [
      "True\n",
      "       Title  Points_R1_2021  Points_R1_2020  Points_R1_2019\n",
      "Code                                                        \n",
      "AL801  False           False           False           False\n",
      "AL802  False           False           False           False\n",
      "AL803  False           False           False           False\n",
      "AL805  False           False           False           False\n",
      "AL810  False           False           False           False\n",
      "...      ...             ...             ...             ...\n",
      "SG441  False            True            True           False\n",
      "SG446  False            True            True           False\n",
      "TL803  False            True            True           False\n",
      "TL812  False            True            True           False\n",
      "WD148  False            True            True           False\n",
      "\n",
      "[1651 rows x 4 columns]\n",
      "We have 1673 NaN values in our dataset\n"
     ]
    }
   ],
   "source": [
    "# It appears we have NaN values in our datasets, let's confirm this\n",
    "# Work adapted from reference 14\n",
    "check_NaN_in_df = allcourses_L8.isnull().values.any()\n",
    "print (check_NaN_in_df) # Boolean to determine presence of NaN values\n",
    "check_NaN_in_df = allcourses_L8.isnull()\n",
    "print (check_NaN_in_df) # Verifying this with a snapshot of data\n",
    "# Count of the NaN Values\n",
    "print('We have' ,allcourses_L8.isnull().sum().sum(), 'NaN values in our dataset' )"
   ]
  },
  {
   "cell_type": "code",
   "execution_count": 54,
   "id": "63975473",
   "metadata": {
    "scrolled": false
   },
   "outputs": [
    {
     "name": "stdout",
     "output_type": "stream",
     "text": [
      "True\n",
      "       Title  Points_R1_2021  Points_Mid_2019\n",
      "Code                                         \n",
      "AL605  False           False             True\n",
      "AL630  False           False            False\n",
      "AL631  False           False            False\n",
      "AL632  False           False            False\n",
      "AL650  False           False            False\n",
      "...      ...             ...              ...\n",
      "TL620  False            True            False\n",
      "TL712  False            True            False\n",
      "TL719  False            True            False\n",
      "TL746  False            True             True\n",
      "WD139  False            True            False\n",
      "\n",
      "[554 rows x 3 columns]\n",
      "We have 247 NaN values in our dataset\n"
     ]
    }
   ],
   "source": [
    "# It appears we have NaN values in our datasets, let's confirm this\n",
    "# Work adapted from reference 14\n",
    "check_NaN_in_df = allcourses_L7.isnull().values.any()\n",
    "print (check_NaN_in_df)\n",
    "check_NaN_in_df = allcourses_L7.isnull()\n",
    "print (check_NaN_in_df)\n",
    "# Count of the NaN Values\n",
    "print('We have' ,allcourses_L7.isnull().sum().sum(), 'NaN values in our dataset' )"
   ]
  },
  {
   "cell_type": "code",
   "execution_count": 55,
   "id": "bf39c40a",
   "metadata": {
    "scrolled": false
   },
   "outputs": [
    {
     "data": {
      "text/plain": [
       "Title              Engineering in Mechatronics Engineering\n",
       "Points_R1_2021                                         NaN\n",
       "Points_Mid_2019                                        NaN\n",
       "Name: TL746, dtype: object"
      ]
     },
     "execution_count": 55,
     "metadata": {},
     "output_type": "execute_result"
    }
   ],
   "source": [
    "# Investigating the two NaN values I've spotted for a course to confirm\n",
    "allcourses_L7.iloc[552]"
   ]
  },
  {
   "cell_type": "markdown",
   "id": "3bc63392",
   "metadata": {},
   "source": [
    "** <b>N.B</b> ** I have confirmed that result is indeed correct by verifying from raw data on 26/11/2021"
   ]
  },
  {
   "cell_type": "code",
   "execution_count": 56,
   "id": "873e5db4",
   "metadata": {
    "scrolled": false
   },
   "outputs": [
    {
     "data": {
      "text/html": [
       "<div>\n",
       "<style scoped>\n",
       "    .dataframe tbody tr th:only-of-type {\n",
       "        vertical-align: middle;\n",
       "    }\n",
       "\n",
       "    .dataframe tbody tr th {\n",
       "        vertical-align: top;\n",
       "    }\n",
       "\n",
       "    .dataframe thead th {\n",
       "        text-align: right;\n",
       "    }\n",
       "</style>\n",
       "<table border=\"1\" class=\"dataframe\">\n",
       "  <thead>\n",
       "    <tr style=\"text-align: right;\">\n",
       "      <th></th>\n",
       "      <th>Title</th>\n",
       "      <th>Points_R1_2021</th>\n",
       "      <th>Points_Mid_2019</th>\n",
       "    </tr>\n",
       "    <tr>\n",
       "      <th>Code</th>\n",
       "      <th></th>\n",
       "      <th></th>\n",
       "      <th></th>\n",
       "    </tr>\n",
       "  </thead>\n",
       "  <tbody>\n",
       "    <tr>\n",
       "      <th>AL605</th>\n",
       "      <td>Music and Instrument Technology</td>\n",
       "      <td>211</td>\n",
       "      <td>NaN</td>\n",
       "    </tr>\n",
       "    <tr>\n",
       "      <th>AL630</th>\n",
       "      <td>Pharmacy Technician</td>\n",
       "      <td>308</td>\n",
       "      <td>366.0</td>\n",
       "    </tr>\n",
       "    <tr>\n",
       "      <th>AL631</th>\n",
       "      <td>Dental Nursing</td>\n",
       "      <td>311</td>\n",
       "      <td>379.0</td>\n",
       "    </tr>\n",
       "    <tr>\n",
       "      <th>AL632</th>\n",
       "      <td>Applied Science</td>\n",
       "      <td>297</td>\n",
       "      <td>372.0</td>\n",
       "    </tr>\n",
       "    <tr>\n",
       "      <th>AL650</th>\n",
       "      <td>Business</td>\n",
       "      <td>AQA</td>\n",
       "      <td>317.0</td>\n",
       "    </tr>\n",
       "    <tr>\n",
       "      <th>...</th>\n",
       "      <td>...</td>\n",
       "      <td>...</td>\n",
       "      <td>...</td>\n",
       "    </tr>\n",
       "    <tr>\n",
       "      <th>SG537</th>\n",
       "      <td>Marketing and Sales</td>\n",
       "      <td>NaN</td>\n",
       "      <td>270.0</td>\n",
       "    </tr>\n",
       "    <tr>\n",
       "      <th>TL620</th>\n",
       "      <td>Culinary Arts</td>\n",
       "      <td>NaN</td>\n",
       "      <td>234.0</td>\n",
       "    </tr>\n",
       "    <tr>\n",
       "      <th>TL712</th>\n",
       "      <td>Computing with Digital Media</td>\n",
       "      <td>NaN</td>\n",
       "      <td>352.0</td>\n",
       "    </tr>\n",
       "    <tr>\n",
       "      <th>TL719</th>\n",
       "      <td>Culinary Arts</td>\n",
       "      <td>NaN</td>\n",
       "      <td>368.0</td>\n",
       "    </tr>\n",
       "    <tr>\n",
       "      <th>WD139</th>\n",
       "      <td>Civil Engineering</td>\n",
       "      <td>NaN</td>\n",
       "      <td>364.0</td>\n",
       "    </tr>\n",
       "  </tbody>\n",
       "</table>\n",
       "<p>543 rows × 3 columns</p>\n",
       "</div>"
      ],
      "text/plain": [
       "                                 Title Points_R1_2021  Points_Mid_2019\n",
       "Code                                                                  \n",
       "AL605  Music and Instrument Technology            211              NaN\n",
       "AL630              Pharmacy Technician            308            366.0\n",
       "AL631                   Dental Nursing            311            379.0\n",
       "AL632                  Applied Science            297            372.0\n",
       "AL650                         Business            AQA            317.0\n",
       "...                                ...            ...              ...\n",
       "SG537              Marketing and Sales            NaN            270.0\n",
       "TL620                    Culinary Arts            NaN            234.0\n",
       "TL712     Computing with Digital Media            NaN            352.0\n",
       "TL719                    Culinary Arts            NaN            368.0\n",
       "WD139                Civil Engineering            NaN            364.0\n",
       "\n",
       "[543 rows x 3 columns]"
      ]
     },
     "execution_count": 56,
     "metadata": {},
     "output_type": "execute_result"
    }
   ],
   "source": [
    "# Lets try get rid of rows that contain two NaN values in our L7/6 data - this is useless for comparison [15]\n",
    "allcourses_L7.dropna( subset = ['Points_R1_2021', 'Points_Mid_2019'], how = 'all', inplace = True)\n",
    "allcourses_L7"
   ]
  },
  {
   "cell_type": "code",
   "execution_count": 57,
   "id": "ce946281",
   "metadata": {
    "scrolled": true
   },
   "outputs": [
    {
     "data": {
      "text/html": [
       "<div>\n",
       "<style scoped>\n",
       "    .dataframe tbody tr th:only-of-type {\n",
       "        vertical-align: middle;\n",
       "    }\n",
       "\n",
       "    .dataframe tbody tr th {\n",
       "        vertical-align: top;\n",
       "    }\n",
       "\n",
       "    .dataframe thead th {\n",
       "        text-align: right;\n",
       "    }\n",
       "</style>\n",
       "<table border=\"1\" class=\"dataframe\">\n",
       "  <thead>\n",
       "    <tr style=\"text-align: right;\">\n",
       "      <th></th>\n",
       "      <th>Title</th>\n",
       "      <th>Points_R1_2021</th>\n",
       "      <th>Points_R1_2020</th>\n",
       "      <th>Points_R1_2019</th>\n",
       "    </tr>\n",
       "    <tr>\n",
       "      <th>Code</th>\n",
       "      <th></th>\n",
       "      <th></th>\n",
       "      <th></th>\n",
       "      <th></th>\n",
       "    </tr>\n",
       "  </thead>\n",
       "  <tbody>\n",
       "    <tr>\n",
       "      <th>AL801</th>\n",
       "      <td>Software Design for Virtual Reality and Gaming</td>\n",
       "      <td>300</td>\n",
       "      <td>303</td>\n",
       "      <td>328.0</td>\n",
       "    </tr>\n",
       "    <tr>\n",
       "      <th>AL802</th>\n",
       "      <td>Software Design in Artificial Intelligence for...</td>\n",
       "      <td>313</td>\n",
       "      <td>332</td>\n",
       "      <td>306.0</td>\n",
       "    </tr>\n",
       "    <tr>\n",
       "      <th>AL803</th>\n",
       "      <td>Software Design for Mobile Apps and Connected ...</td>\n",
       "      <td>350</td>\n",
       "      <td>337</td>\n",
       "      <td>337.0</td>\n",
       "    </tr>\n",
       "    <tr>\n",
       "      <th>AL805</th>\n",
       "      <td>Computer Engineering for Network Infrastructure</td>\n",
       "      <td>321</td>\n",
       "      <td>333</td>\n",
       "      <td>442.0</td>\n",
       "    </tr>\n",
       "    <tr>\n",
       "      <th>AL810</th>\n",
       "      <td>Quantity Surveying</td>\n",
       "      <td>328</td>\n",
       "      <td>319</td>\n",
       "      <td>349.0</td>\n",
       "    </tr>\n",
       "    <tr>\n",
       "      <th>...</th>\n",
       "      <td>...</td>\n",
       "      <td>...</td>\n",
       "      <td>...</td>\n",
       "      <td>...</td>\n",
       "    </tr>\n",
       "    <tr>\n",
       "      <th>SG441</th>\n",
       "      <td>Environmental Science</td>\n",
       "      <td>NaN</td>\n",
       "      <td>NaN</td>\n",
       "      <td>358.0</td>\n",
       "    </tr>\n",
       "    <tr>\n",
       "      <th>SG446</th>\n",
       "      <td>Applied Archaeology</td>\n",
       "      <td>NaN</td>\n",
       "      <td>NaN</td>\n",
       "      <td>290.0</td>\n",
       "    </tr>\n",
       "    <tr>\n",
       "      <th>TL803</th>\n",
       "      <td>Music Technology</td>\n",
       "      <td>NaN</td>\n",
       "      <td>NaN</td>\n",
       "      <td>288.0</td>\n",
       "    </tr>\n",
       "    <tr>\n",
       "      <th>TL812</th>\n",
       "      <td>Computing with Digital Media</td>\n",
       "      <td>NaN</td>\n",
       "      <td>NaN</td>\n",
       "      <td>369.0</td>\n",
       "    </tr>\n",
       "    <tr>\n",
       "      <th>WD148</th>\n",
       "      <td>Tourism Marketing</td>\n",
       "      <td>NaN</td>\n",
       "      <td>NaN</td>\n",
       "      <td>338.0</td>\n",
       "    </tr>\n",
       "  </tbody>\n",
       "</table>\n",
       "<p>1629 rows × 4 columns</p>\n",
       "</div>"
      ],
      "text/plain": [
       "                                                   Title Points_R1_2021  \\\n",
       "Code                                                                      \n",
       "AL801     Software Design for Virtual Reality and Gaming            300   \n",
       "AL802  Software Design in Artificial Intelligence for...            313   \n",
       "AL803  Software Design for Mobile Apps and Connected ...            350   \n",
       "AL805    Computer Engineering for Network Infrastructure            321   \n",
       "AL810                                 Quantity Surveying            328   \n",
       "...                                                  ...            ...   \n",
       "SG441                              Environmental Science            NaN   \n",
       "SG446                                Applied Archaeology            NaN   \n",
       "TL803                                   Music Technology            NaN   \n",
       "TL812                       Computing with Digital Media            NaN   \n",
       "WD148                                  Tourism Marketing            NaN   \n",
       "\n",
       "      Points_R1_2020  Points_R1_2019  \n",
       "Code                                  \n",
       "AL801            303           328.0  \n",
       "AL802            332           306.0  \n",
       "AL803            337           337.0  \n",
       "AL805            333           442.0  \n",
       "AL810            319           349.0  \n",
       "...              ...             ...  \n",
       "SG441            NaN           358.0  \n",
       "SG446            NaN           290.0  \n",
       "TL803            NaN           288.0  \n",
       "TL812            NaN           369.0  \n",
       "WD148            NaN           338.0  \n",
       "\n",
       "[1629 rows x 4 columns]"
      ]
     },
     "execution_count": 57,
     "metadata": {},
     "output_type": "execute_result"
    }
   ],
   "source": [
    "# Lets try get rid of rows that contain two NaN values in our L8 data - this is useless for comparison [15]\n",
    "allcourses_L8.dropna(subset = ['Points_R1_2021' , 'Points_R1_2020' , 'Points_R1_2019'], how = 'all', inplace = True)\n",
    "allcourses_L8"
   ]
  },
  {
   "cell_type": "markdown",
   "id": "efd39887",
   "metadata": {},
   "source": [
    "This comes across as a little 'hacky' but I believe it is necessary. We are removing rows that have essentially no values. Rows with no values serve no purpose when we are trying to compare/contrast changes in points over a certain range of years. I am aware we will still have rows that contain 1 or 2 NaN values for Level 8 Data and perhaps 1 NaN value in our Level 7/6 data."
   ]
  },
  {
   "cell_type": "code",
   "execution_count": 58,
   "id": "0bfca10f",
   "metadata": {
    "scrolled": false
   },
   "outputs": [
    {
     "name": "stdout",
     "output_type": "stream",
     "text": [
      "<class 'pandas.core.frame.DataFrame'>\n",
      "Index: 1629 entries, AL801 to WD148\n",
      "Data columns (total 4 columns):\n",
      " #   Column          Non-Null Count  Dtype  \n",
      "---  ------          --------------  -----  \n",
      " 0   Title           1629 non-null   object \n",
      " 1   Points_R1_2021  778 non-null    float64\n",
      " 2   Points_R1_2020  1387 non-null   float64\n",
      " 3   Points_R1_2019  915 non-null    float64\n",
      "dtypes: float64(3), object(1)\n",
      "memory usage: 63.6+ KB\n",
      "<class 'pandas.core.frame.DataFrame'>\n",
      "Index: 543 entries, AL605 to WD139\n",
      "Data columns (total 3 columns):\n",
      " #   Column           Non-Null Count  Dtype  \n",
      "---  ------           --------------  -----  \n",
      " 0   Title            543 non-null    object \n",
      " 1   Points_R1_2021   377 non-null    float64\n",
      " 2   Points_Mid_2019  453 non-null    float64\n",
      "dtypes: float64(2), object(1)\n",
      "memory usage: 17.0+ KB\n"
     ]
    }
   ],
   "source": [
    "# From calling the 'info' method above, it also appears we have 'objects' \n",
    "# where we would ideally have floats\n",
    "\n",
    "# Lets convert our values to floats for analysis (Developed from Reference 16)\n",
    "allcourses_L8['Points_R1_2021'] = pd.to_numeric(allcourses_L8['Points_R1_2021'], errors='coerce').astype('float')\n",
    "allcourses_L8['Points_R1_2020'] = pd.to_numeric(allcourses_L8['Points_R1_2020'], errors='coerce').astype('float')\n",
    "allcourses_L7['Points_R1_2021'] = pd.to_numeric(allcourses_L7['Points_R1_2021'], errors='coerce').astype('float')\n",
    "\n",
    "# Printing .info() again to ensure conversion occurred \n",
    "allcourses_L8.info()\n",
    "allcourses_L7.info()"
   ]
  },
  {
   "cell_type": "markdown",
   "id": "8af15828",
   "metadata": {},
   "source": [
    "<b>I now think our datasets are ready for analyses.</b>\n",
    "<br>\n",
    "<b> ** N.B ** </b> A caveat to note for this analyses is we are comparing and contrasting courses that have points assigned to them."
   ]
  },
  {
   "cell_type": "code",
   "execution_count": 59,
   "id": "f6fb868a",
   "metadata": {},
   "outputs": [
    {
     "data": {
      "text/html": [
       "<div>\n",
       "<style scoped>\n",
       "    .dataframe tbody tr th:only-of-type {\n",
       "        vertical-align: middle;\n",
       "    }\n",
       "\n",
       "    .dataframe tbody tr th {\n",
       "        vertical-align: top;\n",
       "    }\n",
       "\n",
       "    .dataframe thead th {\n",
       "        text-align: right;\n",
       "    }\n",
       "</style>\n",
       "<table border=\"1\" class=\"dataframe\">\n",
       "  <thead>\n",
       "    <tr style=\"text-align: right;\">\n",
       "      <th></th>\n",
       "      <th>Points_R1_2021</th>\n",
       "      <th>Points_R1_2020</th>\n",
       "      <th>Points_R1_2019</th>\n",
       "    </tr>\n",
       "  </thead>\n",
       "  <tbody>\n",
       "    <tr>\n",
       "      <th>count</th>\n",
       "      <td>778.000000</td>\n",
       "      <td>1387.000000</td>\n",
       "      <td>915.000000</td>\n",
       "    </tr>\n",
       "    <tr>\n",
       "      <th>mean</th>\n",
       "      <td>380.690231</td>\n",
       "      <td>350.217015</td>\n",
       "      <td>426.414208</td>\n",
       "    </tr>\n",
       "    <tr>\n",
       "      <th>std</th>\n",
       "      <td>101.273464</td>\n",
       "      <td>134.311616</td>\n",
       "      <td>133.142255</td>\n",
       "    </tr>\n",
       "    <tr>\n",
       "      <th>min</th>\n",
       "      <td>201.000000</td>\n",
       "      <td>55.000000</td>\n",
       "      <td>57.000000</td>\n",
       "    </tr>\n",
       "    <tr>\n",
       "      <th>25%</th>\n",
       "      <td>300.000000</td>\n",
       "      <td>252.000000</td>\n",
       "      <td>339.000000</td>\n",
       "    </tr>\n",
       "    <tr>\n",
       "      <th>50%</th>\n",
       "      <td>367.000000</td>\n",
       "      <td>316.000000</td>\n",
       "      <td>397.000000</td>\n",
       "    </tr>\n",
       "    <tr>\n",
       "      <th>75%</th>\n",
       "      <td>465.000000</td>\n",
       "      <td>430.500000</td>\n",
       "      <td>477.500000</td>\n",
       "    </tr>\n",
       "    <tr>\n",
       "      <th>max</th>\n",
       "      <td>613.000000</td>\n",
       "      <td>1088.000000</td>\n",
       "      <td>1073.000000</td>\n",
       "    </tr>\n",
       "  </tbody>\n",
       "</table>\n",
       "</div>"
      ],
      "text/plain": [
       "       Points_R1_2021  Points_R1_2020  Points_R1_2019\n",
       "count      778.000000     1387.000000      915.000000\n",
       "mean       380.690231      350.217015      426.414208\n",
       "std        101.273464      134.311616      133.142255\n",
       "min        201.000000       55.000000       57.000000\n",
       "25%        300.000000      252.000000      339.000000\n",
       "50%        367.000000      316.000000      397.000000\n",
       "75%        465.000000      430.500000      477.500000\n",
       "max        613.000000     1088.000000     1073.000000"
      ]
     },
     "execution_count": 59,
     "metadata": {},
     "output_type": "execute_result"
    }
   ],
   "source": [
    "# Describe method give basic statistical summaries of all numerical attributes in the dataframe.\n",
    "allcourses_L8.describe()"
   ]
  },
  {
   "cell_type": "markdown",
   "id": "8e50d3cc",
   "metadata": {},
   "source": [
    "From analysis this descriptive table, we can observe a few noteworthy points:\n",
    "* There were 846, 1387 and 915 courses with points in 2021, 2020 and 2019 respectively.\n",
    "* The mean values for courses were 393 , 350 and 426 points for courses in 2021, 2020 and 2019 respectively.\n",
    "* The courses with the least amount of required points were as follows: 2021:201 , 2020:55 and 2019:57. Lets look at these courses later as these numbers appear very low.\n",
    "* The courses with the highest amount of required points were as follows: 2021:625 , 2020:1088 and 2019:1073. Lets look at these courses later.\n",
    "* 75% of courses in 2021 are captured within 465 points and 75% of courses are captured within 431 points in 2020 and within 478 points in 2019."
   ]
  },
  {
   "cell_type": "code",
   "execution_count": 60,
   "id": "48bf3d6e",
   "metadata": {},
   "outputs": [
    {
     "data": {
      "text/html": [
       "<div>\n",
       "<style scoped>\n",
       "    .dataframe tbody tr th:only-of-type {\n",
       "        vertical-align: middle;\n",
       "    }\n",
       "\n",
       "    .dataframe tbody tr th {\n",
       "        vertical-align: top;\n",
       "    }\n",
       "\n",
       "    .dataframe thead th {\n",
       "        text-align: right;\n",
       "    }\n",
       "</style>\n",
       "<table border=\"1\" class=\"dataframe\">\n",
       "  <thead>\n",
       "    <tr style=\"text-align: right;\">\n",
       "      <th></th>\n",
       "      <th>Points_R1_2021</th>\n",
       "      <th>Points_Mid_2019</th>\n",
       "    </tr>\n",
       "  </thead>\n",
       "  <tbody>\n",
       "    <tr>\n",
       "      <th>count</th>\n",
       "      <td>377.000000</td>\n",
       "      <td>453.000000</td>\n",
       "    </tr>\n",
       "    <tr>\n",
       "      <th>mean</th>\n",
       "      <td>243.156499</td>\n",
       "      <td>345.830022</td>\n",
       "    </tr>\n",
       "    <tr>\n",
       "      <th>std</th>\n",
       "      <td>71.737883</td>\n",
       "      <td>77.590483</td>\n",
       "    </tr>\n",
       "    <tr>\n",
       "      <th>min</th>\n",
       "      <td>100.000000</td>\n",
       "      <td>146.000000</td>\n",
       "    </tr>\n",
       "    <tr>\n",
       "      <th>25%</th>\n",
       "      <td>200.000000</td>\n",
       "      <td>300.000000</td>\n",
       "    </tr>\n",
       "    <tr>\n",
       "      <th>50%</th>\n",
       "      <td>234.000000</td>\n",
       "      <td>337.000000</td>\n",
       "    </tr>\n",
       "    <tr>\n",
       "      <th>75%</th>\n",
       "      <td>279.000000</td>\n",
       "      <td>377.000000</td>\n",
       "    </tr>\n",
       "    <tr>\n",
       "      <th>max</th>\n",
       "      <td>500.000000</td>\n",
       "      <td>873.000000</td>\n",
       "    </tr>\n",
       "  </tbody>\n",
       "</table>\n",
       "</div>"
      ],
      "text/plain": [
       "       Points_R1_2021  Points_Mid_2019\n",
       "count      377.000000       453.000000\n",
       "mean       243.156499       345.830022\n",
       "std         71.737883        77.590483\n",
       "min        100.000000       146.000000\n",
       "25%        200.000000       300.000000\n",
       "50%        234.000000       337.000000\n",
       "75%        279.000000       377.000000\n",
       "max        500.000000       873.000000"
      ]
     },
     "execution_count": 60,
     "metadata": {},
     "output_type": "execute_result"
    }
   ],
   "source": [
    "# Describe method gives the basic statistical summaries of all numerical attributes in the dataframe.\n",
    "allcourses_L7.describe()"
   ]
  },
  {
   "cell_type": "markdown",
   "id": "d6c87600",
   "metadata": {},
   "source": [
    "From analysis this descriptive table, we can observe a few noteworthy points:\n",
    "* There were 377 and 453 courses with points in 2021 and 2019 respectively. This is a big drop.\n",
    "* The mean values for courses were 243 and 346 points for courses in 2021 and 2019 respectively.\n",
    "* The courses with the least amount of required points were as follows: 2021:100 and 2019:146. This already tells us that the points requirements have dropped from 2019 up to 2021.\n",
    "* The courses with the highest amount of required points were as follows: 2021:500 and 2019:873. \n",
    "* 75% of courses in 2021 are captured within 279 points and 75% of courses are captured within 377 points in 2019."
   ]
  },
  {
   "cell_type": "code",
   "execution_count": 61,
   "id": "d8d4dcb1",
   "metadata": {},
   "outputs": [
    {
     "data": {
      "text/plain": [
       "Title             0\n",
       "Points_R1_2021    0\n",
       "Points_R1_2020    0\n",
       "Points_R1_2019    0\n",
       "dtype: int64"
      ]
     },
     "execution_count": 61,
     "metadata": {},
     "output_type": "execute_result"
    }
   ],
   "source": [
    "# As a final workaround on NaN values, we can fill them with the overall mean value [17]\n",
    "allcourses_L8['Points_R1_2021'].fillna(393.287, inplace=True)\n",
    "allcourses_L8['Points_R1_2020'].fillna(350.217, inplace=True)\n",
    "allcourses_L8['Points_R1_2019'].fillna(426.414, inplace=True)\n",
    "\n",
    "# Caliing our variable to determine presence of NULL values\n",
    "allcourses_L8.isnull().sum()"
   ]
  },
  {
   "cell_type": "code",
   "execution_count": 62,
   "id": "e009c049",
   "metadata": {
    "scrolled": false
   },
   "outputs": [
    {
     "data": {
      "text/plain": [
       "Title              0\n",
       "Points_R1_2021     0\n",
       "Points_Mid_2019    0\n",
       "dtype: int64"
      ]
     },
     "execution_count": 62,
     "metadata": {},
     "output_type": "execute_result"
    }
   ],
   "source": [
    "# As a final workaround on NaN values, we can fill them with the overall mean value \n",
    "allcourses_L7['Points_R1_2021'].fillna(243.156, inplace=True)\n",
    "allcourses_L7['Points_Mid_2019'].fillna(345.830, inplace=True)\n",
    "\n",
    "# Caliing our variable to determine presence of NULL values\n",
    "allcourses_L7.isnull().sum()"
   ]
  },
  {
   "cell_type": "markdown",
   "id": "f8f4d564",
   "metadata": {},
   "source": [
    "We now have no NULL values in either dataset."
   ]
  },
  {
   "cell_type": "code",
   "execution_count": 63,
   "id": "6753e650",
   "metadata": {},
   "outputs": [
    {
     "data": {
      "text/html": [
       "<div>\n",
       "<style scoped>\n",
       "    .dataframe tbody tr th:only-of-type {\n",
       "        vertical-align: middle;\n",
       "    }\n",
       "\n",
       "    .dataframe tbody tr th {\n",
       "        vertical-align: top;\n",
       "    }\n",
       "\n",
       "    .dataframe thead th {\n",
       "        text-align: right;\n",
       "    }\n",
       "</style>\n",
       "<table border=\"1\" class=\"dataframe\">\n",
       "  <thead>\n",
       "    <tr style=\"text-align: right;\">\n",
       "      <th></th>\n",
       "      <th>Institution</th>\n",
       "    </tr>\n",
       "    <tr>\n",
       "      <th>Code</th>\n",
       "      <th></th>\n",
       "    </tr>\n",
       "  </thead>\n",
       "  <tbody>\n",
       "    <tr>\n",
       "      <th>AC</th>\n",
       "      <td>American College</td>\n",
       "    </tr>\n",
       "    <tr>\n",
       "      <th>AD</th>\n",
       "      <td>National College of Art and Design</td>\n",
       "    </tr>\n",
       "    <tr>\n",
       "      <th>AL</th>\n",
       "      <td>Athlone Institute of Technology</td>\n",
       "    </tr>\n",
       "    <tr>\n",
       "      <th>AS</th>\n",
       "      <td>St. Angela's College</td>\n",
       "    </tr>\n",
       "    <tr>\n",
       "      <th>BN</th>\n",
       "      <td>Institute of Technology, Blanchardstown</td>\n",
       "    </tr>\n",
       "    <tr>\n",
       "      <th>BY</th>\n",
       "      <td>IBAT College Dublin</td>\n",
       "    </tr>\n",
       "    <tr>\n",
       "      <th>CI</th>\n",
       "      <td>Irish College of Humanities &amp; Applied Sciences</td>\n",
       "    </tr>\n",
       "    <tr>\n",
       "      <th>CK</th>\n",
       "      <td>University College Cork (NUI)</td>\n",
       "    </tr>\n",
       "    <tr>\n",
       "      <th>CM</th>\n",
       "      <td>Marino Institute of Education</td>\n",
       "    </tr>\n",
       "    <tr>\n",
       "      <th>CR</th>\n",
       "      <td>Cork Institute of Technology</td>\n",
       "    </tr>\n",
       "    <tr>\n",
       "      <th>CT</th>\n",
       "      <td>CCT College Dublin</td>\n",
       "    </tr>\n",
       "    <tr>\n",
       "      <th>CW</th>\n",
       "      <td>Institute of Technology, Carlow</td>\n",
       "    </tr>\n",
       "    <tr>\n",
       "      <th>DB</th>\n",
       "      <td>Dublin Business School</td>\n",
       "    </tr>\n",
       "    <tr>\n",
       "      <th>DC</th>\n",
       "      <td>Dublin City University</td>\n",
       "    </tr>\n",
       "    <tr>\n",
       "      <th>DK</th>\n",
       "      <td>Dundalk Institute of Technology</td>\n",
       "    </tr>\n",
       "    <tr>\n",
       "      <th>DL</th>\n",
       "      <td>Dun Laoghaire Institute of Art, Design and Tec...</td>\n",
       "    </tr>\n",
       "    <tr>\n",
       "      <th>DN</th>\n",
       "      <td>University College Dublin (NUI)</td>\n",
       "    </tr>\n",
       "    <tr>\n",
       "      <th>DS</th>\n",
       "      <td>Dorset College</td>\n",
       "    </tr>\n",
       "    <tr>\n",
       "      <th>DT</th>\n",
       "      <td>Dublin Institute of Technology</td>\n",
       "    </tr>\n",
       "    <tr>\n",
       "      <th>GA</th>\n",
       "      <td>Galway-Mayo Institute of Technology</td>\n",
       "    </tr>\n",
       "    <tr>\n",
       "      <th>GB</th>\n",
       "      <td>Galway Business School</td>\n",
       "    </tr>\n",
       "    <tr>\n",
       "      <th>GC</th>\n",
       "      <td>Griffith College</td>\n",
       "    </tr>\n",
       "    <tr>\n",
       "      <th>GY</th>\n",
       "      <td>National University of Ireland, Galway</td>\n",
       "    </tr>\n",
       "    <tr>\n",
       "      <th>ID</th>\n",
       "      <td>ICD Business School</td>\n",
       "    </tr>\n",
       "    <tr>\n",
       "      <th>LC</th>\n",
       "      <td>Limerick Institute of Technology</td>\n",
       "    </tr>\n",
       "    <tr>\n",
       "      <th>LM</th>\n",
       "      <td>University of Limerick</td>\n",
       "    </tr>\n",
       "    <tr>\n",
       "      <th>LY</th>\n",
       "      <td>Letterkenny Institute of Technology</td>\n",
       "    </tr>\n",
       "    <tr>\n",
       "      <th>MH</th>\n",
       "      <td>Maynooth University</td>\n",
       "    </tr>\n",
       "    <tr>\n",
       "      <th>MI</th>\n",
       "      <td>Mary Immaculate College</td>\n",
       "    </tr>\n",
       "    <tr>\n",
       "      <th>MT</th>\n",
       "      <td>Munster Technological University</td>\n",
       "    </tr>\n",
       "    <tr>\n",
       "      <th>MU</th>\n",
       "      <td>Pontifical University, St Patrick's College</td>\n",
       "    </tr>\n",
       "    <tr>\n",
       "      <th>NC</th>\n",
       "      <td>National College of Ireland (NCI)</td>\n",
       "    </tr>\n",
       "    <tr>\n",
       "      <th>NM</th>\n",
       "      <td>St Nicholas Montessori College Ireland</td>\n",
       "    </tr>\n",
       "    <tr>\n",
       "      <th>PC</th>\n",
       "      <td>Carlow College, St. Patrick's</td>\n",
       "    </tr>\n",
       "    <tr>\n",
       "      <th>RC</th>\n",
       "      <td>RCSI University of Medicine &amp; Health Sciences</td>\n",
       "    </tr>\n",
       "    <tr>\n",
       "      <th>SG</th>\n",
       "      <td>Institute of Technology, Sligo</td>\n",
       "    </tr>\n",
       "    <tr>\n",
       "      <th>TA</th>\n",
       "      <td>Institute of Technology, Tallaght</td>\n",
       "    </tr>\n",
       "    <tr>\n",
       "      <th>TL</th>\n",
       "      <td>Institute of Technology, Tralee</td>\n",
       "    </tr>\n",
       "    <tr>\n",
       "      <th>TR</th>\n",
       "      <td>Trinity College Dublin</td>\n",
       "    </tr>\n",
       "    <tr>\n",
       "      <th>TU</th>\n",
       "      <td>Technological University Dublin</td>\n",
       "    </tr>\n",
       "    <tr>\n",
       "      <th>WD</th>\n",
       "      <td>Waterford Institute of Technology</td>\n",
       "    </tr>\n",
       "  </tbody>\n",
       "</table>\n",
       "</div>"
      ],
      "text/plain": [
       "                                            Institution\n",
       "Code                                                   \n",
       "AC                                     American College\n",
       "AD                   National College of Art and Design\n",
       "AL                      Athlone Institute of Technology\n",
       "AS                                 St. Angela's College\n",
       "BN              Institute of Technology, Blanchardstown\n",
       "BY                                  IBAT College Dublin\n",
       "CI       Irish College of Humanities & Applied Sciences\n",
       "CK                        University College Cork (NUI)\n",
       "CM                        Marino Institute of Education\n",
       "CR                         Cork Institute of Technology\n",
       "CT                                   CCT College Dublin\n",
       "CW                      Institute of Technology, Carlow\n",
       "DB                               Dublin Business School\n",
       "DC                               Dublin City University\n",
       "DK                      Dundalk Institute of Technology\n",
       "DL    Dun Laoghaire Institute of Art, Design and Tec...\n",
       "DN                      University College Dublin (NUI)\n",
       "DS                                       Dorset College\n",
       "DT                       Dublin Institute of Technology\n",
       "GA                  Galway-Mayo Institute of Technology\n",
       "GB                               Galway Business School\n",
       "GC                                     Griffith College\n",
       "GY               National University of Ireland, Galway\n",
       "ID                                  ICD Business School\n",
       "LC                     Limerick Institute of Technology\n",
       "LM                               University of Limerick\n",
       "LY                  Letterkenny Institute of Technology\n",
       "MH                                  Maynooth University\n",
       "MI                              Mary Immaculate College\n",
       "MT                     Munster Technological University\n",
       "MU          Pontifical University, St Patrick's College\n",
       "NC                    National College of Ireland (NCI)\n",
       "NM               St Nicholas Montessori College Ireland\n",
       "PC                        Carlow College, St. Patrick's\n",
       "RC        RCSI University of Medicine & Health Sciences\n",
       "SG                       Institute of Technology, Sligo\n",
       "TA                    Institute of Technology, Tallaght\n",
       "TL                      Institute of Technology, Tralee\n",
       "TR                               Trinity College Dublin\n",
       "TU                      Technological University Dublin\n",
       "WD                    Waterford Institute of Technology"
      ]
     },
     "execution_count": 63,
     "metadata": {},
     "output_type": "execute_result"
    }
   ],
   "source": [
    "# Let's create a dataframe with abbreviations of Institutions\n",
    "data = [['AC', 'American College'], ['AD', 'National College of Art and Design'], ['AL', 'Athlone Institute of Technology'] ,['AS', 'St. Angela\\'s College'],['BN', 'Institute of Technology, Blanchardstown'], ['BY', 'IBAT College Dublin'] ,['CI', 'Irish College of Humanities & Applied Sciences' ],['CK', 'University College Cork (NUI)'],['CM', 'Marino Institute of Education'],['CR', 'Cork Institute of Technology' ],['CT', 'CCT College Dublin'],\n",
    "        ['CW', 'Institute of Technology, Carlow'],['DB', 'Dublin Business School'],['DC', 'Dublin City University'],['DK','Dundalk Institute of Technology'],['DL', 'Dun Laoghaire Institute of Art, Design and Technology'],['DN', 'University College Dublin (NUI)'],['DS', 'Dorset College'],['DT', 'Dublin Institute of Technology'],['GA', 'Galway-Mayo Institute of Technology'],['GB', 'Galway Business School'],['GC', 'Griffith College'],\n",
    "        ['GY', 'National University of Ireland, Galway'],['ID', 'ICD Business School'],['LC', 'Limerick Institute of Technology'],['LM', 'University of Limerick'],['LY', 'Letterkenny Institute of Technology'],['MH', 'Maynooth University'],['MI', 'Mary Immaculate College'], ['MT','Munster Technological University'],['MU','Pontifical University, St Patrick\\'s College' ],['NC', 'National College of Ireland (NCI)'],['NM', 'St Nicholas Montessori College Ireland']\n",
    "       ,['PC', 'Carlow College, St. Patrick\\'s'],['RC', 'RCSI University of Medicine & Health Sciences'],['SG', 'Institute of Technology, Sligo'], ['TA', 'Institute of Technology, Tallaght'],['TL', 'Institute of Technology, Tralee'],['TR', 'Trinity College Dublin'],['TU', 'Technological University Dublin'],['WD', 'Waterford Institute of Technology']]\n",
    "  \n",
    "# Create the pandas DataFrame\n",
    "abbrev = pd.DataFrame(data, columns = ['Code', 'Institution'])\n",
    "abbrev.set_index('Code', inplace = True)\n",
    "\n",
    "# print dataframe to check\n",
    "abbrev"
   ]
  },
  {
   "cell_type": "markdown",
   "id": "34f04144",
   "metadata": {},
   "source": [
    "### Top 5 courses Points-wise"
   ]
  },
  {
   "cell_type": "code",
   "execution_count": 74,
   "id": "1ca43c53",
   "metadata": {},
   "outputs": [
    {
     "data": {
      "text/html": [
       "<div>\n",
       "<style scoped>\n",
       "    .dataframe tbody tr th:only-of-type {\n",
       "        vertical-align: middle;\n",
       "    }\n",
       "\n",
       "    .dataframe tbody tr th {\n",
       "        vertical-align: top;\n",
       "    }\n",
       "\n",
       "    .dataframe thead th {\n",
       "        text-align: right;\n",
       "    }\n",
       "</style>\n",
       "<table border=\"1\" class=\"dataframe\">\n",
       "  <thead>\n",
       "    <tr style=\"text-align: right;\">\n",
       "      <th></th>\n",
       "      <th>Title</th>\n",
       "      <th>Points_R1_2021</th>\n",
       "      <th>Points_R1_2020</th>\n",
       "      <th>Points_R1_2019</th>\n",
       "    </tr>\n",
       "    <tr>\n",
       "      <th>Code</th>\n",
       "      <th></th>\n",
       "      <th></th>\n",
       "      <th></th>\n",
       "      <th></th>\n",
       "    </tr>\n",
       "  </thead>\n",
       "  <tbody>\n",
       "    <tr>\n",
       "      <th>GY303</th>\n",
       "      <td>Biomedical Science</td>\n",
       "      <td>613.0</td>\n",
       "      <td>556.0</td>\n",
       "      <td>566.0</td>\n",
       "    </tr>\n",
       "    <tr>\n",
       "      <th>GY502</th>\n",
       "      <td>Occupational Therapy</td>\n",
       "      <td>601.0</td>\n",
       "      <td>555.0</td>\n",
       "      <td>543.0</td>\n",
       "    </tr>\n",
       "    <tr>\n",
       "      <th>DC119</th>\n",
       "      <td>Global Business (Canada)</td>\n",
       "      <td>601.0</td>\n",
       "      <td>564.0</td>\n",
       "      <td>577.0</td>\n",
       "    </tr>\n",
       "    <tr>\n",
       "      <th>TR035</th>\n",
       "      <td>Theoretical Physics</td>\n",
       "      <td>590.0</td>\n",
       "      <td>543.0</td>\n",
       "      <td>601.0</td>\n",
       "    </tr>\n",
       "    <tr>\n",
       "      <th>MI008</th>\n",
       "      <td>Education and Psychology - Primary Teaching</td>\n",
       "      <td>590.0</td>\n",
       "      <td>588.0</td>\n",
       "      <td>555.0</td>\n",
       "    </tr>\n",
       "  </tbody>\n",
       "</table>\n",
       "</div>"
      ],
      "text/plain": [
       "                                             Title  Points_R1_2021  \\\n",
       "Code                                                                 \n",
       "GY303                           Biomedical Science           613.0   \n",
       "GY502                         Occupational Therapy           601.0   \n",
       "DC119                     Global Business (Canada)           601.0   \n",
       "TR035                          Theoretical Physics           590.0   \n",
       "MI008  Education and Psychology - Primary Teaching           590.0   \n",
       "\n",
       "       Points_R1_2020  Points_R1_2019  \n",
       "Code                                   \n",
       "GY303           556.0           566.0  \n",
       "GY502           555.0           543.0  \n",
       "DC119           564.0           577.0  \n",
       "TR035           543.0           601.0  \n",
       "MI008           588.0           555.0  "
      ]
     },
     "execution_count": 74,
     "metadata": {},
     "output_type": "execute_result"
    }
   ],
   "source": [
    "# Let's plot our top 5 courses points-wise in the Level 8 data in 2021\n",
    "top_5 = allcourses_L8.sort_values(by='Points_R1_2021', ascending=False).head()\n",
    "top_5"
   ]
  },
  {
   "cell_type": "code",
   "execution_count": 82,
   "id": "811d1696",
   "metadata": {},
   "outputs": [
    {
     "data": {
      "application/vnd.plotly.v1+json": {
       "config": {
        "plotlyServerURL": "https://plot.ly"
       },
       "data": [
        {
         "name": "2021",
         "type": "bar",
         "x": [
          "Biomedical Science",
          "Occupational Therapy",
          "Global Business (Canada)",
          "Theoretical Physics",
          "Education and Psychology - Primary Teaching"
         ],
         "xaxis": "x",
         "y": [
          613,
          601,
          601,
          590,
          590
         ],
         "yaxis": "y"
        },
        {
         "name": "2020",
         "type": "bar",
         "x": [
          "Biomedical Science",
          "Occupational Therapy",
          "Global Business (Canada)",
          "Theoretical Physics",
          "Education and Psychology - Primary Teaching"
         ],
         "xaxis": "x2",
         "y": [
          556,
          555,
          564,
          543,
          588
         ],
         "yaxis": "y2"
        },
        {
         "name": "2019",
         "type": "bar",
         "x": [
          "Biomedical Science",
          "Occupational Therapy",
          "Global Business (Canada)",
          "Theoretical Physics",
          "Education and Psychology - Primary Teaching"
         ],
         "xaxis": "x3",
         "y": [
          566,
          543,
          577,
          601,
          555
         ],
         "yaxis": "y3"
        }
       ],
       "layout": {
        "annotations": [
         {
          "font": {
           "size": 16
          },
          "showarrow": false,
          "text": "2021",
          "x": 0.14444444444444446,
          "xanchor": "center",
          "xref": "paper",
          "y": 1,
          "yanchor": "bottom",
          "yref": "paper"
         },
         {
          "font": {
           "size": 16
          },
          "showarrow": false,
          "text": "2020",
          "x": 0.5,
          "xanchor": "center",
          "xref": "paper",
          "y": 1,
          "yanchor": "bottom",
          "yref": "paper"
         },
         {
          "font": {
           "size": 16
          },
          "showarrow": false,
          "text": "2019",
          "x": 0.8555555555555556,
          "xanchor": "center",
          "xref": "paper",
          "y": 1,
          "yanchor": "bottom",
          "yref": "paper"
         }
        ],
        "height": 700,
        "template": {
         "data": {
          "bar": [
           {
            "error_x": {
             "color": "#2a3f5f"
            },
            "error_y": {
             "color": "#2a3f5f"
            },
            "marker": {
             "line": {
              "color": "#E5ECF6",
              "width": 0.5
             },
             "pattern": {
              "fillmode": "overlay",
              "size": 10,
              "solidity": 0.2
             }
            },
            "type": "bar"
           }
          ],
          "barpolar": [
           {
            "marker": {
             "line": {
              "color": "#E5ECF6",
              "width": 0.5
             },
             "pattern": {
              "fillmode": "overlay",
              "size": 10,
              "solidity": 0.2
             }
            },
            "type": "barpolar"
           }
          ],
          "carpet": [
           {
            "aaxis": {
             "endlinecolor": "#2a3f5f",
             "gridcolor": "white",
             "linecolor": "white",
             "minorgridcolor": "white",
             "startlinecolor": "#2a3f5f"
            },
            "baxis": {
             "endlinecolor": "#2a3f5f",
             "gridcolor": "white",
             "linecolor": "white",
             "minorgridcolor": "white",
             "startlinecolor": "#2a3f5f"
            },
            "type": "carpet"
           }
          ],
          "choropleth": [
           {
            "colorbar": {
             "outlinewidth": 0,
             "ticks": ""
            },
            "type": "choropleth"
           }
          ],
          "contour": [
           {
            "colorbar": {
             "outlinewidth": 0,
             "ticks": ""
            },
            "colorscale": [
             [
              0,
              "#0d0887"
             ],
             [
              0.1111111111111111,
              "#46039f"
             ],
             [
              0.2222222222222222,
              "#7201a8"
             ],
             [
              0.3333333333333333,
              "#9c179e"
             ],
             [
              0.4444444444444444,
              "#bd3786"
             ],
             [
              0.5555555555555556,
              "#d8576b"
             ],
             [
              0.6666666666666666,
              "#ed7953"
             ],
             [
              0.7777777777777778,
              "#fb9f3a"
             ],
             [
              0.8888888888888888,
              "#fdca26"
             ],
             [
              1,
              "#f0f921"
             ]
            ],
            "type": "contour"
           }
          ],
          "contourcarpet": [
           {
            "colorbar": {
             "outlinewidth": 0,
             "ticks": ""
            },
            "type": "contourcarpet"
           }
          ],
          "heatmap": [
           {
            "colorbar": {
             "outlinewidth": 0,
             "ticks": ""
            },
            "colorscale": [
             [
              0,
              "#0d0887"
             ],
             [
              0.1111111111111111,
              "#46039f"
             ],
             [
              0.2222222222222222,
              "#7201a8"
             ],
             [
              0.3333333333333333,
              "#9c179e"
             ],
             [
              0.4444444444444444,
              "#bd3786"
             ],
             [
              0.5555555555555556,
              "#d8576b"
             ],
             [
              0.6666666666666666,
              "#ed7953"
             ],
             [
              0.7777777777777778,
              "#fb9f3a"
             ],
             [
              0.8888888888888888,
              "#fdca26"
             ],
             [
              1,
              "#f0f921"
             ]
            ],
            "type": "heatmap"
           }
          ],
          "heatmapgl": [
           {
            "colorbar": {
             "outlinewidth": 0,
             "ticks": ""
            },
            "colorscale": [
             [
              0,
              "#0d0887"
             ],
             [
              0.1111111111111111,
              "#46039f"
             ],
             [
              0.2222222222222222,
              "#7201a8"
             ],
             [
              0.3333333333333333,
              "#9c179e"
             ],
             [
              0.4444444444444444,
              "#bd3786"
             ],
             [
              0.5555555555555556,
              "#d8576b"
             ],
             [
              0.6666666666666666,
              "#ed7953"
             ],
             [
              0.7777777777777778,
              "#fb9f3a"
             ],
             [
              0.8888888888888888,
              "#fdca26"
             ],
             [
              1,
              "#f0f921"
             ]
            ],
            "type": "heatmapgl"
           }
          ],
          "histogram": [
           {
            "marker": {
             "pattern": {
              "fillmode": "overlay",
              "size": 10,
              "solidity": 0.2
             }
            },
            "type": "histogram"
           }
          ],
          "histogram2d": [
           {
            "colorbar": {
             "outlinewidth": 0,
             "ticks": ""
            },
            "colorscale": [
             [
              0,
              "#0d0887"
             ],
             [
              0.1111111111111111,
              "#46039f"
             ],
             [
              0.2222222222222222,
              "#7201a8"
             ],
             [
              0.3333333333333333,
              "#9c179e"
             ],
             [
              0.4444444444444444,
              "#bd3786"
             ],
             [
              0.5555555555555556,
              "#d8576b"
             ],
             [
              0.6666666666666666,
              "#ed7953"
             ],
             [
              0.7777777777777778,
              "#fb9f3a"
             ],
             [
              0.8888888888888888,
              "#fdca26"
             ],
             [
              1,
              "#f0f921"
             ]
            ],
            "type": "histogram2d"
           }
          ],
          "histogram2dcontour": [
           {
            "colorbar": {
             "outlinewidth": 0,
             "ticks": ""
            },
            "colorscale": [
             [
              0,
              "#0d0887"
             ],
             [
              0.1111111111111111,
              "#46039f"
             ],
             [
              0.2222222222222222,
              "#7201a8"
             ],
             [
              0.3333333333333333,
              "#9c179e"
             ],
             [
              0.4444444444444444,
              "#bd3786"
             ],
             [
              0.5555555555555556,
              "#d8576b"
             ],
             [
              0.6666666666666666,
              "#ed7953"
             ],
             [
              0.7777777777777778,
              "#fb9f3a"
             ],
             [
              0.8888888888888888,
              "#fdca26"
             ],
             [
              1,
              "#f0f921"
             ]
            ],
            "type": "histogram2dcontour"
           }
          ],
          "mesh3d": [
           {
            "colorbar": {
             "outlinewidth": 0,
             "ticks": ""
            },
            "type": "mesh3d"
           }
          ],
          "parcoords": [
           {
            "line": {
             "colorbar": {
              "outlinewidth": 0,
              "ticks": ""
             }
            },
            "type": "parcoords"
           }
          ],
          "pie": [
           {
            "automargin": true,
            "type": "pie"
           }
          ],
          "scatter": [
           {
            "marker": {
             "colorbar": {
              "outlinewidth": 0,
              "ticks": ""
             }
            },
            "type": "scatter"
           }
          ],
          "scatter3d": [
           {
            "line": {
             "colorbar": {
              "outlinewidth": 0,
              "ticks": ""
             }
            },
            "marker": {
             "colorbar": {
              "outlinewidth": 0,
              "ticks": ""
             }
            },
            "type": "scatter3d"
           }
          ],
          "scattercarpet": [
           {
            "marker": {
             "colorbar": {
              "outlinewidth": 0,
              "ticks": ""
             }
            },
            "type": "scattercarpet"
           }
          ],
          "scattergeo": [
           {
            "marker": {
             "colorbar": {
              "outlinewidth": 0,
              "ticks": ""
             }
            },
            "type": "scattergeo"
           }
          ],
          "scattergl": [
           {
            "marker": {
             "colorbar": {
              "outlinewidth": 0,
              "ticks": ""
             }
            },
            "type": "scattergl"
           }
          ],
          "scattermapbox": [
           {
            "marker": {
             "colorbar": {
              "outlinewidth": 0,
              "ticks": ""
             }
            },
            "type": "scattermapbox"
           }
          ],
          "scatterpolar": [
           {
            "marker": {
             "colorbar": {
              "outlinewidth": 0,
              "ticks": ""
             }
            },
            "type": "scatterpolar"
           }
          ],
          "scatterpolargl": [
           {
            "marker": {
             "colorbar": {
              "outlinewidth": 0,
              "ticks": ""
             }
            },
            "type": "scatterpolargl"
           }
          ],
          "scatterternary": [
           {
            "marker": {
             "colorbar": {
              "outlinewidth": 0,
              "ticks": ""
             }
            },
            "type": "scatterternary"
           }
          ],
          "surface": [
           {
            "colorbar": {
             "outlinewidth": 0,
             "ticks": ""
            },
            "colorscale": [
             [
              0,
              "#0d0887"
             ],
             [
              0.1111111111111111,
              "#46039f"
             ],
             [
              0.2222222222222222,
              "#7201a8"
             ],
             [
              0.3333333333333333,
              "#9c179e"
             ],
             [
              0.4444444444444444,
              "#bd3786"
             ],
             [
              0.5555555555555556,
              "#d8576b"
             ],
             [
              0.6666666666666666,
              "#ed7953"
             ],
             [
              0.7777777777777778,
              "#fb9f3a"
             ],
             [
              0.8888888888888888,
              "#fdca26"
             ],
             [
              1,
              "#f0f921"
             ]
            ],
            "type": "surface"
           }
          ],
          "table": [
           {
            "cells": {
             "fill": {
              "color": "#EBF0F8"
             },
             "line": {
              "color": "white"
             }
            },
            "header": {
             "fill": {
              "color": "#C8D4E3"
             },
             "line": {
              "color": "white"
             }
            },
            "type": "table"
           }
          ]
         },
         "layout": {
          "annotationdefaults": {
           "arrowcolor": "#2a3f5f",
           "arrowhead": 0,
           "arrowwidth": 1
          },
          "autotypenumbers": "strict",
          "coloraxis": {
           "colorbar": {
            "outlinewidth": 0,
            "ticks": ""
           }
          },
          "colorscale": {
           "diverging": [
            [
             0,
             "#8e0152"
            ],
            [
             0.1,
             "#c51b7d"
            ],
            [
             0.2,
             "#de77ae"
            ],
            [
             0.3,
             "#f1b6da"
            ],
            [
             0.4,
             "#fde0ef"
            ],
            [
             0.5,
             "#f7f7f7"
            ],
            [
             0.6,
             "#e6f5d0"
            ],
            [
             0.7,
             "#b8e186"
            ],
            [
             0.8,
             "#7fbc41"
            ],
            [
             0.9,
             "#4d9221"
            ],
            [
             1,
             "#276419"
            ]
           ],
           "sequential": [
            [
             0,
             "#0d0887"
            ],
            [
             0.1111111111111111,
             "#46039f"
            ],
            [
             0.2222222222222222,
             "#7201a8"
            ],
            [
             0.3333333333333333,
             "#9c179e"
            ],
            [
             0.4444444444444444,
             "#bd3786"
            ],
            [
             0.5555555555555556,
             "#d8576b"
            ],
            [
             0.6666666666666666,
             "#ed7953"
            ],
            [
             0.7777777777777778,
             "#fb9f3a"
            ],
            [
             0.8888888888888888,
             "#fdca26"
            ],
            [
             1,
             "#f0f921"
            ]
           ],
           "sequentialminus": [
            [
             0,
             "#0d0887"
            ],
            [
             0.1111111111111111,
             "#46039f"
            ],
            [
             0.2222222222222222,
             "#7201a8"
            ],
            [
             0.3333333333333333,
             "#9c179e"
            ],
            [
             0.4444444444444444,
             "#bd3786"
            ],
            [
             0.5555555555555556,
             "#d8576b"
            ],
            [
             0.6666666666666666,
             "#ed7953"
            ],
            [
             0.7777777777777778,
             "#fb9f3a"
            ],
            [
             0.8888888888888888,
             "#fdca26"
            ],
            [
             1,
             "#f0f921"
            ]
           ]
          },
          "colorway": [
           "#636efa",
           "#EF553B",
           "#00cc96",
           "#ab63fa",
           "#FFA15A",
           "#19d3f3",
           "#FF6692",
           "#B6E880",
           "#FF97FF",
           "#FECB52"
          ],
          "font": {
           "color": "#2a3f5f"
          },
          "geo": {
           "bgcolor": "white",
           "lakecolor": "white",
           "landcolor": "#E5ECF6",
           "showlakes": true,
           "showland": true,
           "subunitcolor": "white"
          },
          "hoverlabel": {
           "align": "left"
          },
          "hovermode": "closest",
          "mapbox": {
           "style": "light"
          },
          "paper_bgcolor": "white",
          "plot_bgcolor": "#E5ECF6",
          "polar": {
           "angularaxis": {
            "gridcolor": "white",
            "linecolor": "white",
            "ticks": ""
           },
           "bgcolor": "#E5ECF6",
           "radialaxis": {
            "gridcolor": "white",
            "linecolor": "white",
            "ticks": ""
           }
          },
          "scene": {
           "xaxis": {
            "backgroundcolor": "#E5ECF6",
            "gridcolor": "white",
            "gridwidth": 2,
            "linecolor": "white",
            "showbackground": true,
            "ticks": "",
            "zerolinecolor": "white"
           },
           "yaxis": {
            "backgroundcolor": "#E5ECF6",
            "gridcolor": "white",
            "gridwidth": 2,
            "linecolor": "white",
            "showbackground": true,
            "ticks": "",
            "zerolinecolor": "white"
           },
           "zaxis": {
            "backgroundcolor": "#E5ECF6",
            "gridcolor": "white",
            "gridwidth": 2,
            "linecolor": "white",
            "showbackground": true,
            "ticks": "",
            "zerolinecolor": "white"
           }
          },
          "shapedefaults": {
           "line": {
            "color": "#2a3f5f"
           }
          },
          "ternary": {
           "aaxis": {
            "gridcolor": "white",
            "linecolor": "white",
            "ticks": ""
           },
           "baxis": {
            "gridcolor": "white",
            "linecolor": "white",
            "ticks": ""
           },
           "bgcolor": "#E5ECF6",
           "caxis": {
            "gridcolor": "white",
            "linecolor": "white",
            "ticks": ""
           }
          },
          "title": {
           "x": 0.05
          },
          "xaxis": {
           "automargin": true,
           "gridcolor": "white",
           "linecolor": "white",
           "ticks": "",
           "title": {
            "standoff": 15
           },
           "zerolinecolor": "white",
           "zerolinewidth": 2
          },
          "yaxis": {
           "automargin": true,
           "gridcolor": "white",
           "linecolor": "white",
           "ticks": "",
           "title": {
            "standoff": 15
           },
           "zerolinecolor": "white",
           "zerolinewidth": 2
          }
         }
        },
        "title": {
         "text": "Top 5 Courses"
        },
        "xaxis": {
         "anchor": "y",
         "domain": [
          0,
          0.2888888888888889
         ],
         "title": {
          "text": "Level 8 2021"
         }
        },
        "xaxis2": {
         "anchor": "y2",
         "domain": [
          0.35555555555555557,
          0.6444444444444445
         ],
         "title": {
          "text": "Level 8/7/6 2020"
         }
        },
        "xaxis3": {
         "anchor": "y3",
         "domain": [
          0.7111111111111111,
          1
         ],
         "title": {
          "text": "Level 8 2019"
         }
        },
        "yaxis": {
         "anchor": "x",
         "domain": [
          0,
          1
         ],
         "title": {
          "text": "Points"
         }
        },
        "yaxis2": {
         "anchor": "x2",
         "domain": [
          0,
          1
         ]
        },
        "yaxis3": {
         "anchor": "x3",
         "domain": [
          0,
          1
         ]
        }
       }
      },
      "text/html": [
       "<div>                            <div id=\"42944b72-f8d8-494a-b48d-c2f0faa0aa65\" class=\"plotly-graph-div\" style=\"height:700px; width:100%;\"></div>            <script type=\"text/javascript\">                require([\"plotly\"], function(Plotly) {                    window.PLOTLYENV=window.PLOTLYENV || {};                                    if (document.getElementById(\"42944b72-f8d8-494a-b48d-c2f0faa0aa65\")) {                    Plotly.newPlot(                        \"42944b72-f8d8-494a-b48d-c2f0faa0aa65\",                        [{\"name\":\"2021\",\"x\":[\"Biomedical Science\",\"Occupational Therapy\",\"Global Business (Canada)\",\"Theoretical Physics\",\"Education and Psychology - Primary Teaching\"],\"y\":[613.0,601.0,601.0,590.0,590.0],\"type\":\"bar\",\"xaxis\":\"x\",\"yaxis\":\"y\"},{\"name\":\"2020\",\"x\":[\"Biomedical Science\",\"Occupational Therapy\",\"Global Business (Canada)\",\"Theoretical Physics\",\"Education and Psychology - Primary Teaching\"],\"y\":[556.0,555.0,564.0,543.0,588.0],\"type\":\"bar\",\"xaxis\":\"x2\",\"yaxis\":\"y2\"},{\"name\":\"2019\",\"x\":[\"Biomedical Science\",\"Occupational Therapy\",\"Global Business (Canada)\",\"Theoretical Physics\",\"Education and Psychology - Primary Teaching\"],\"y\":[566.0,543.0,577.0,601.0,555.0],\"type\":\"bar\",\"xaxis\":\"x3\",\"yaxis\":\"y3\"}],                        {\"template\":{\"data\":{\"bar\":[{\"error_x\":{\"color\":\"#2a3f5f\"},\"error_y\":{\"color\":\"#2a3f5f\"},\"marker\":{\"line\":{\"color\":\"#E5ECF6\",\"width\":0.5},\"pattern\":{\"fillmode\":\"overlay\",\"size\":10,\"solidity\":0.2}},\"type\":\"bar\"}],\"barpolar\":[{\"marker\":{\"line\":{\"color\":\"#E5ECF6\",\"width\":0.5},\"pattern\":{\"fillmode\":\"overlay\",\"size\":10,\"solidity\":0.2}},\"type\":\"barpolar\"}],\"carpet\":[{\"aaxis\":{\"endlinecolor\":\"#2a3f5f\",\"gridcolor\":\"white\",\"linecolor\":\"white\",\"minorgridcolor\":\"white\",\"startlinecolor\":\"#2a3f5f\"},\"baxis\":{\"endlinecolor\":\"#2a3f5f\",\"gridcolor\":\"white\",\"linecolor\":\"white\",\"minorgridcolor\":\"white\",\"startlinecolor\":\"#2a3f5f\"},\"type\":\"carpet\"}],\"choropleth\":[{\"colorbar\":{\"outlinewidth\":0,\"ticks\":\"\"},\"type\":\"choropleth\"}],\"contour\":[{\"colorbar\":{\"outlinewidth\":0,\"ticks\":\"\"},\"colorscale\":[[0.0,\"#0d0887\"],[0.1111111111111111,\"#46039f\"],[0.2222222222222222,\"#7201a8\"],[0.3333333333333333,\"#9c179e\"],[0.4444444444444444,\"#bd3786\"],[0.5555555555555556,\"#d8576b\"],[0.6666666666666666,\"#ed7953\"],[0.7777777777777778,\"#fb9f3a\"],[0.8888888888888888,\"#fdca26\"],[1.0,\"#f0f921\"]],\"type\":\"contour\"}],\"contourcarpet\":[{\"colorbar\":{\"outlinewidth\":0,\"ticks\":\"\"},\"type\":\"contourcarpet\"}],\"heatmap\":[{\"colorbar\":{\"outlinewidth\":0,\"ticks\":\"\"},\"colorscale\":[[0.0,\"#0d0887\"],[0.1111111111111111,\"#46039f\"],[0.2222222222222222,\"#7201a8\"],[0.3333333333333333,\"#9c179e\"],[0.4444444444444444,\"#bd3786\"],[0.5555555555555556,\"#d8576b\"],[0.6666666666666666,\"#ed7953\"],[0.7777777777777778,\"#fb9f3a\"],[0.8888888888888888,\"#fdca26\"],[1.0,\"#f0f921\"]],\"type\":\"heatmap\"}],\"heatmapgl\":[{\"colorbar\":{\"outlinewidth\":0,\"ticks\":\"\"},\"colorscale\":[[0.0,\"#0d0887\"],[0.1111111111111111,\"#46039f\"],[0.2222222222222222,\"#7201a8\"],[0.3333333333333333,\"#9c179e\"],[0.4444444444444444,\"#bd3786\"],[0.5555555555555556,\"#d8576b\"],[0.6666666666666666,\"#ed7953\"],[0.7777777777777778,\"#fb9f3a\"],[0.8888888888888888,\"#fdca26\"],[1.0,\"#f0f921\"]],\"type\":\"heatmapgl\"}],\"histogram\":[{\"marker\":{\"pattern\":{\"fillmode\":\"overlay\",\"size\":10,\"solidity\":0.2}},\"type\":\"histogram\"}],\"histogram2d\":[{\"colorbar\":{\"outlinewidth\":0,\"ticks\":\"\"},\"colorscale\":[[0.0,\"#0d0887\"],[0.1111111111111111,\"#46039f\"],[0.2222222222222222,\"#7201a8\"],[0.3333333333333333,\"#9c179e\"],[0.4444444444444444,\"#bd3786\"],[0.5555555555555556,\"#d8576b\"],[0.6666666666666666,\"#ed7953\"],[0.7777777777777778,\"#fb9f3a\"],[0.8888888888888888,\"#fdca26\"],[1.0,\"#f0f921\"]],\"type\":\"histogram2d\"}],\"histogram2dcontour\":[{\"colorbar\":{\"outlinewidth\":0,\"ticks\":\"\"},\"colorscale\":[[0.0,\"#0d0887\"],[0.1111111111111111,\"#46039f\"],[0.2222222222222222,\"#7201a8\"],[0.3333333333333333,\"#9c179e\"],[0.4444444444444444,\"#bd3786\"],[0.5555555555555556,\"#d8576b\"],[0.6666666666666666,\"#ed7953\"],[0.7777777777777778,\"#fb9f3a\"],[0.8888888888888888,\"#fdca26\"],[1.0,\"#f0f921\"]],\"type\":\"histogram2dcontour\"}],\"mesh3d\":[{\"colorbar\":{\"outlinewidth\":0,\"ticks\":\"\"},\"type\":\"mesh3d\"}],\"parcoords\":[{\"line\":{\"colorbar\":{\"outlinewidth\":0,\"ticks\":\"\"}},\"type\":\"parcoords\"}],\"pie\":[{\"automargin\":true,\"type\":\"pie\"}],\"scatter\":[{\"marker\":{\"colorbar\":{\"outlinewidth\":0,\"ticks\":\"\"}},\"type\":\"scatter\"}],\"scatter3d\":[{\"line\":{\"colorbar\":{\"outlinewidth\":0,\"ticks\":\"\"}},\"marker\":{\"colorbar\":{\"outlinewidth\":0,\"ticks\":\"\"}},\"type\":\"scatter3d\"}],\"scattercarpet\":[{\"marker\":{\"colorbar\":{\"outlinewidth\":0,\"ticks\":\"\"}},\"type\":\"scattercarpet\"}],\"scattergeo\":[{\"marker\":{\"colorbar\":{\"outlinewidth\":0,\"ticks\":\"\"}},\"type\":\"scattergeo\"}],\"scattergl\":[{\"marker\":{\"colorbar\":{\"outlinewidth\":0,\"ticks\":\"\"}},\"type\":\"scattergl\"}],\"scattermapbox\":[{\"marker\":{\"colorbar\":{\"outlinewidth\":0,\"ticks\":\"\"}},\"type\":\"scattermapbox\"}],\"scatterpolar\":[{\"marker\":{\"colorbar\":{\"outlinewidth\":0,\"ticks\":\"\"}},\"type\":\"scatterpolar\"}],\"scatterpolargl\":[{\"marker\":{\"colorbar\":{\"outlinewidth\":0,\"ticks\":\"\"}},\"type\":\"scatterpolargl\"}],\"scatterternary\":[{\"marker\":{\"colorbar\":{\"outlinewidth\":0,\"ticks\":\"\"}},\"type\":\"scatterternary\"}],\"surface\":[{\"colorbar\":{\"outlinewidth\":0,\"ticks\":\"\"},\"colorscale\":[[0.0,\"#0d0887\"],[0.1111111111111111,\"#46039f\"],[0.2222222222222222,\"#7201a8\"],[0.3333333333333333,\"#9c179e\"],[0.4444444444444444,\"#bd3786\"],[0.5555555555555556,\"#d8576b\"],[0.6666666666666666,\"#ed7953\"],[0.7777777777777778,\"#fb9f3a\"],[0.8888888888888888,\"#fdca26\"],[1.0,\"#f0f921\"]],\"type\":\"surface\"}],\"table\":[{\"cells\":{\"fill\":{\"color\":\"#EBF0F8\"},\"line\":{\"color\":\"white\"}},\"header\":{\"fill\":{\"color\":\"#C8D4E3\"},\"line\":{\"color\":\"white\"}},\"type\":\"table\"}]},\"layout\":{\"annotationdefaults\":{\"arrowcolor\":\"#2a3f5f\",\"arrowhead\":0,\"arrowwidth\":1},\"autotypenumbers\":\"strict\",\"coloraxis\":{\"colorbar\":{\"outlinewidth\":0,\"ticks\":\"\"}},\"colorscale\":{\"diverging\":[[0,\"#8e0152\"],[0.1,\"#c51b7d\"],[0.2,\"#de77ae\"],[0.3,\"#f1b6da\"],[0.4,\"#fde0ef\"],[0.5,\"#f7f7f7\"],[0.6,\"#e6f5d0\"],[0.7,\"#b8e186\"],[0.8,\"#7fbc41\"],[0.9,\"#4d9221\"],[1,\"#276419\"]],\"sequential\":[[0.0,\"#0d0887\"],[0.1111111111111111,\"#46039f\"],[0.2222222222222222,\"#7201a8\"],[0.3333333333333333,\"#9c179e\"],[0.4444444444444444,\"#bd3786\"],[0.5555555555555556,\"#d8576b\"],[0.6666666666666666,\"#ed7953\"],[0.7777777777777778,\"#fb9f3a\"],[0.8888888888888888,\"#fdca26\"],[1.0,\"#f0f921\"]],\"sequentialminus\":[[0.0,\"#0d0887\"],[0.1111111111111111,\"#46039f\"],[0.2222222222222222,\"#7201a8\"],[0.3333333333333333,\"#9c179e\"],[0.4444444444444444,\"#bd3786\"],[0.5555555555555556,\"#d8576b\"],[0.6666666666666666,\"#ed7953\"],[0.7777777777777778,\"#fb9f3a\"],[0.8888888888888888,\"#fdca26\"],[1.0,\"#f0f921\"]]},\"colorway\":[\"#636efa\",\"#EF553B\",\"#00cc96\",\"#ab63fa\",\"#FFA15A\",\"#19d3f3\",\"#FF6692\",\"#B6E880\",\"#FF97FF\",\"#FECB52\"],\"font\":{\"color\":\"#2a3f5f\"},\"geo\":{\"bgcolor\":\"white\",\"lakecolor\":\"white\",\"landcolor\":\"#E5ECF6\",\"showlakes\":true,\"showland\":true,\"subunitcolor\":\"white\"},\"hoverlabel\":{\"align\":\"left\"},\"hovermode\":\"closest\",\"mapbox\":{\"style\":\"light\"},\"paper_bgcolor\":\"white\",\"plot_bgcolor\":\"#E5ECF6\",\"polar\":{\"angularaxis\":{\"gridcolor\":\"white\",\"linecolor\":\"white\",\"ticks\":\"\"},\"bgcolor\":\"#E5ECF6\",\"radialaxis\":{\"gridcolor\":\"white\",\"linecolor\":\"white\",\"ticks\":\"\"}},\"scene\":{\"xaxis\":{\"backgroundcolor\":\"#E5ECF6\",\"gridcolor\":\"white\",\"gridwidth\":2,\"linecolor\":\"white\",\"showbackground\":true,\"ticks\":\"\",\"zerolinecolor\":\"white\"},\"yaxis\":{\"backgroundcolor\":\"#E5ECF6\",\"gridcolor\":\"white\",\"gridwidth\":2,\"linecolor\":\"white\",\"showbackground\":true,\"ticks\":\"\",\"zerolinecolor\":\"white\"},\"zaxis\":{\"backgroundcolor\":\"#E5ECF6\",\"gridcolor\":\"white\",\"gridwidth\":2,\"linecolor\":\"white\",\"showbackground\":true,\"ticks\":\"\",\"zerolinecolor\":\"white\"}},\"shapedefaults\":{\"line\":{\"color\":\"#2a3f5f\"}},\"ternary\":{\"aaxis\":{\"gridcolor\":\"white\",\"linecolor\":\"white\",\"ticks\":\"\"},\"baxis\":{\"gridcolor\":\"white\",\"linecolor\":\"white\",\"ticks\":\"\"},\"bgcolor\":\"#E5ECF6\",\"caxis\":{\"gridcolor\":\"white\",\"linecolor\":\"white\",\"ticks\":\"\"}},\"title\":{\"x\":0.05},\"xaxis\":{\"automargin\":true,\"gridcolor\":\"white\",\"linecolor\":\"white\",\"ticks\":\"\",\"title\":{\"standoff\":15},\"zerolinecolor\":\"white\",\"zerolinewidth\":2},\"yaxis\":{\"automargin\":true,\"gridcolor\":\"white\",\"linecolor\":\"white\",\"ticks\":\"\",\"title\":{\"standoff\":15},\"zerolinecolor\":\"white\",\"zerolinewidth\":2}}},\"xaxis\":{\"anchor\":\"y\",\"domain\":[0.0,0.2888888888888889],\"title\":{\"text\":\"Level 8 2021\"}},\"yaxis\":{\"anchor\":\"x\",\"domain\":[0.0,1.0],\"title\":{\"text\":\"Points\"}},\"xaxis2\":{\"anchor\":\"y2\",\"domain\":[0.35555555555555557,0.6444444444444445],\"title\":{\"text\":\"Level 8/7/6 2020\"}},\"yaxis2\":{\"anchor\":\"x2\",\"domain\":[0.0,1.0]},\"xaxis3\":{\"anchor\":\"y3\",\"domain\":[0.7111111111111111,1.0],\"title\":{\"text\":\"Level 8 2019\"}},\"yaxis3\":{\"anchor\":\"x3\",\"domain\":[0.0,1.0]},\"annotations\":[{\"font\":{\"size\":16},\"showarrow\":false,\"text\":\"2021\",\"x\":0.14444444444444446,\"xanchor\":\"center\",\"xref\":\"paper\",\"y\":1.0,\"yanchor\":\"bottom\",\"yref\":\"paper\"},{\"font\":{\"size\":16},\"showarrow\":false,\"text\":\"2020\",\"x\":0.5,\"xanchor\":\"center\",\"xref\":\"paper\",\"y\":1.0,\"yanchor\":\"bottom\",\"yref\":\"paper\"},{\"font\":{\"size\":16},\"showarrow\":false,\"text\":\"2019\",\"x\":0.8555555555555556,\"xanchor\":\"center\",\"xref\":\"paper\",\"y\":1.0,\"yanchor\":\"bottom\",\"yref\":\"paper\"}],\"title\":{\"text\":\"Top 5 Courses\"},\"height\":700},                        {\"responsive\": true}                    ).then(function(){\n",
       "                            \n",
       "var gd = document.getElementById('42944b72-f8d8-494a-b48d-c2f0faa0aa65');\n",
       "var x = new MutationObserver(function (mutations, observer) {{\n",
       "        var display = window.getComputedStyle(gd).display;\n",
       "        if (!display || display === 'none') {{\n",
       "            console.log([gd, 'removed!']);\n",
       "            Plotly.purge(gd);\n",
       "            observer.disconnect();\n",
       "        }}\n",
       "}});\n",
       "\n",
       "// Listen for the removal of the full notebook cells\n",
       "var notebookContainer = gd.closest('#notebook-container');\n",
       "if (notebookContainer) {{\n",
       "    x.observe(notebookContainer, {childList: true});\n",
       "}}\n",
       "\n",
       "// Listen for the clearing of the current output cell\n",
       "var outputEl = gd.closest('.output');\n",
       "if (outputEl) {{\n",
       "    x.observe(outputEl, {childList: true});\n",
       "}}\n",
       "\n",
       "                        })                };                });            </script>        </div>"
      ]
     },
     "metadata": {},
     "output_type": "display_data"
    }
   ],
   "source": [
    "# Lets plot this for each year using Plotly [20]\n",
    "\n",
    "# Initialize figure with subplots\n",
    "fig = make_subplots(\n",
    "    rows=1, cols=3, subplot_titles=('2021', '2020', '2019')\n",
    ")\n",
    "\n",
    "# Add traces\n",
    "fig.add_trace(go.Bar(x=top_5['Title'], y=top_5['Points_R1_2021'], name = '2021'), row=1, col=1)\n",
    "fig.add_trace(go.Bar(x=top_5['Title'], y=top_5['Points_R1_2020'], name = '2020'), row=1, col=2)\n",
    "fig.add_trace(go.Bar(x=top_5['Title'], y=top_5['Points_R1_2019'], name = '2019'), row=1, col=3)\n",
    "\n",
    "# Update xaxis properties\n",
    "fig.update_xaxes(title_text='Level 8 2021', row=1, col=1)\n",
    "fig.update_xaxes(title_text='Level 8/7/6 2020', row=1, col=2)\n",
    "fig.update_xaxes(title_text='Level 8 2019', row=1, col=3)\n",
    "\n",
    "# Update yaxis properties\n",
    "fig.update_yaxes(title_text='Points', row=1, col=1)\n",
    "\n",
    "\n",
    "# Update title and height\n",
    "fig.update_layout(title_text='Top 5 Courses', height=700)\n",
    "\n",
    "fig.show()"
   ]
  },
  {
   "cell_type": "code",
   "execution_count": 83,
   "id": "e4735fa2",
   "metadata": {},
   "outputs": [
    {
     "data": {
      "text/html": [
       "<div>\n",
       "<style scoped>\n",
       "    .dataframe tbody tr th:only-of-type {\n",
       "        vertical-align: middle;\n",
       "    }\n",
       "\n",
       "    .dataframe tbody tr th {\n",
       "        vertical-align: top;\n",
       "    }\n",
       "\n",
       "    .dataframe thead th {\n",
       "        text-align: right;\n",
       "    }\n",
       "</style>\n",
       "<table border=\"1\" class=\"dataframe\">\n",
       "  <thead>\n",
       "    <tr style=\"text-align: right;\">\n",
       "      <th></th>\n",
       "      <th>Title</th>\n",
       "      <th>Points_R1_2021</th>\n",
       "      <th>Points_R1_2020</th>\n",
       "      <th>Points_R1_2019</th>\n",
       "    </tr>\n",
       "    <tr>\n",
       "      <th>Code</th>\n",
       "      <th></th>\n",
       "      <th></th>\n",
       "      <th></th>\n",
       "      <th></th>\n",
       "    </tr>\n",
       "  </thead>\n",
       "  <tbody>\n",
       "    <tr>\n",
       "      <th>GY303</th>\n",
       "      <td>Biomedical Science</td>\n",
       "      <td>613.0</td>\n",
       "      <td>556.0</td>\n",
       "      <td>566.0</td>\n",
       "    </tr>\n",
       "    <tr>\n",
       "      <th>GY502</th>\n",
       "      <td>Occupational Therapy</td>\n",
       "      <td>601.0</td>\n",
       "      <td>555.0</td>\n",
       "      <td>543.0</td>\n",
       "    </tr>\n",
       "    <tr>\n",
       "      <th>DC119</th>\n",
       "      <td>Global Business (Canada)</td>\n",
       "      <td>601.0</td>\n",
       "      <td>564.0</td>\n",
       "      <td>577.0</td>\n",
       "    </tr>\n",
       "    <tr>\n",
       "      <th>TR035</th>\n",
       "      <td>Theoretical Physics</td>\n",
       "      <td>590.0</td>\n",
       "      <td>543.0</td>\n",
       "      <td>601.0</td>\n",
       "    </tr>\n",
       "    <tr>\n",
       "      <th>MI008</th>\n",
       "      <td>Education and Psychology - Primary Teaching</td>\n",
       "      <td>590.0</td>\n",
       "      <td>588.0</td>\n",
       "      <td>555.0</td>\n",
       "    </tr>\n",
       "  </tbody>\n",
       "</table>\n",
       "</div>"
      ],
      "text/plain": [
       "                                             Title  Points_R1_2021  \\\n",
       "Code                                                                 \n",
       "GY303                           Biomedical Science           613.0   \n",
       "GY502                         Occupational Therapy           601.0   \n",
       "DC119                     Global Business (Canada)           601.0   \n",
       "TR035                          Theoretical Physics           590.0   \n",
       "MI008  Education and Psychology - Primary Teaching           590.0   \n",
       "\n",
       "       Points_R1_2020  Points_R1_2019  \n",
       "Code                                   \n",
       "GY303           556.0           566.0  \n",
       "GY502           555.0           543.0  \n",
       "DC119           564.0           577.0  \n",
       "TR035           543.0           601.0  \n",
       "MI008           588.0           555.0  "
      ]
     },
     "execution_count": 83,
     "metadata": {},
     "output_type": "execute_result"
    },
    {
     "data": {
      "image/png": "[encoded data removed]",
      "text/plain": [
       "<Figure size 432x288 with 1 Axes>"
      ]
     },
     "metadata": {
      "needs_background": "light"
     },
     "output_type": "display_data"
    }
   ],
   "source": [
    "# Let's plot this result on the same plot [19] and grouped by each course\n",
    "top_5.plot(kind='barh', x = 'Title')\n",
    "plt.yticks( \n",
    "    horizontalalignment='right', # ensure Title does not overlap on plot\n",
    "    fontsize = 14)\n",
    "plt.xticks(\n",
    "    fontsize = 14)\n",
    "plt.legend(loc='center left', bbox_to_anchor=(1, 1.0)) # Position legend outside of plot\n",
    "plt.xlabel('Points')\n",
    "top_5\n",
    "\n"
   ]
  },
  {
   "cell_type": "markdown",
   "id": "a414d126",
   "metadata": {
    "scrolled": false
   },
   "source": [
    "The top result appears to be GY303- Biomedical Science. Let's call on our Abbreviations table to determine what institution offers this course and also the other courses in our result."
   ]
  },
  {
   "cell_type": "code",
   "execution_count": 78,
   "id": "782da53a",
   "metadata": {
    "scrolled": false
   },
   "outputs": [
    {
     "data": {
      "text/html": [
       "<div>\n",
       "<style scoped>\n",
       "    .dataframe tbody tr th:only-of-type {\n",
       "        vertical-align: middle;\n",
       "    }\n",
       "\n",
       "    .dataframe tbody tr th {\n",
       "        vertical-align: top;\n",
       "    }\n",
       "\n",
       "    .dataframe thead th {\n",
       "        text-align: right;\n",
       "    }\n",
       "</style>\n",
       "<table border=\"1\" class=\"dataframe\">\n",
       "  <thead>\n",
       "    <tr style=\"text-align: right;\">\n",
       "      <th></th>\n",
       "      <th>Institution</th>\n",
       "    </tr>\n",
       "    <tr>\n",
       "      <th>Code</th>\n",
       "      <th></th>\n",
       "    </tr>\n",
       "  </thead>\n",
       "  <tbody>\n",
       "    <tr>\n",
       "      <th>GY</th>\n",
       "      <td>National University of Ireland, Galway</td>\n",
       "    </tr>\n",
       "    <tr>\n",
       "      <th>MI</th>\n",
       "      <td>Mary Immaculate College</td>\n",
       "    </tr>\n",
       "    <tr>\n",
       "      <th>TR</th>\n",
       "      <td>Trinity College Dublin</td>\n",
       "    </tr>\n",
       "    <tr>\n",
       "      <th>DC</th>\n",
       "      <td>Dublin City University</td>\n",
       "    </tr>\n",
       "  </tbody>\n",
       "</table>\n",
       "</div>"
      ],
      "text/plain": [
       "                                 Institution\n",
       "Code                                        \n",
       "GY    National University of Ireland, Galway\n",
       "MI                   Mary Immaculate College\n",
       "TR                    Trinity College Dublin\n",
       "DC                    Dublin City University"
      ]
     },
     "execution_count": 78,
     "metadata": {},
     "output_type": "execute_result"
    }
   ],
   "source": [
    " # let's find out where these courses are offered (Based on reference 18)\n",
    "top_5_courses = abbrev.loc[['GY', 'MI', 'TR', 'DC']]\n",
    "top_5_courses"
   ]
  },
  {
   "cell_type": "markdown",
   "id": "4ffe9bf8",
   "metadata": {},
   "source": [
    "We can see from the above body of work some differences in points from the top 5 courses in 2021. Biomedical Science in NUIG has increased 57 points from 2020. This was the hghest jump betwen the 5 courses in 2021. Global Business (Canada) from DCU has been consistently high during this period but there was also quite a jump in points requirements (37 points) between 2020 and 2021. Primary Teaching in Mary Immaculate is consistently high. It was interesting to see Mary Immaculate in this list as I was not expecting this. "
   ]
  },
  {
   "cell_type": "markdown",
   "id": "4710a391",
   "metadata": {},
   "source": [
    "### Courses within a certain Points-range"
   ]
  },
  {
   "cell_type": "code",
   "execution_count": 124,
   "id": "f27f4f40",
   "metadata": {},
   "outputs": [
    {
     "name": "stdout",
     "output_type": "stream",
     "text": [
      "The number of courses requiring over 550 points and up to 625 points in 2021 are: 50\n",
      "The number of courses requiring over 550 points and up to 625 points in 2020 are: 31\n",
      "The number of courses requiring over 550 points and up to 625 points in 2019 are: 49\n"
     ]
    },
    {
     "name": "stderr",
     "output_type": "stream",
     "text": [
      "<ipython-input-124-bc1518e37752>:13: UserWarning:\n",
      "\n",
      "Boolean Series key will be reindexed to match DataFrame index.\n",
      "\n"
     ]
    }
   ],
   "source": [
    "# Lets determine how many courses required over 550 points each year\n",
    "# Researched using Reference 21\n",
    "\n",
    "#2021\n",
    "top_courses_2021 = allcourses_L8[[ 'Title', 'Points_R1_2021']] # Isolate what we want\n",
    "# Setting limits\n",
    "top_courses_2021 = top_courses_2021[(top_courses_2021['Points_R1_2021'] > 550)\n",
    "                                    & (top_courses_2021['Points_R1_2021'] < 626) ].sort_values('Points_R1_2021')\n",
    "\n",
    "#2020\n",
    "top_courses_2020 = allcourses_L8[[ 'Title', 'Points_R1_2020']] # Isolate what we want\n",
    "#Setting limits\n",
    "top_courses_2020 = top_courses_2020[(top_courses_2020['Points_R1_2020'] > 550) \n",
    "                                    & (top_courses_2019['Points_R1_2019'] < 626) ].sort_values('Points_R1_2020')\n",
    "\n",
    "#2019\n",
    "top_courses_2019 = allcourses_L8[[ 'Title', 'Points_R1_2019']] # Isolate what we want\n",
    "# Setting limits\n",
    "top_courses_2019 = top_courses_2019[(top_courses_2019['Points_R1_2019'] > 550) \n",
    "                                    & (top_courses_2019['Points_R1_2019'] < 626) ].sort_values('Points_R1_2019')\n",
    "\n",
    "\n",
    "print('The number of courses requiring over 550 points and up to 625 points in 2021 are:',\n",
    "      top_courses_2021['Points_R1_2021'].count())\n",
    "print('The number of courses requiring over 550 points and up to 625 points in 2020 are:', \n",
    "      top_courses_2020['Points_R1_2020'].count())\n",
    "print('The number of courses requiring over 550 points and up to 625 points in 2019 are:', \n",
    "      top_courses_2019['Points_R1_2019'].count())\n"
   ]
  },
  {
   "cell_type": "markdown",
   "id": "88f4ad50",
   "metadata": {},
   "source": [
    "This is a very interesting result. We are exploring how many courses are in the upper ranges of available points. There is a considerable drop-off in points requirements in 2020. I would be curious to know whether this is an effect of COVID-19 i.e less people travelling to cities for University resulting in a drop off in number of applicants and thereby a reduction in points across the board. I would need data on applicant numbers to confirm this but it is an interesting theory. The numbers for 2021 and 2019 are almost identical. I set an upper limit as I wanted to exclude courses that contained additional requirements such as portfolios, extra tests, auditions etc. I only wanted to look at 'sit-down exams'."
   ]
  },
  {
   "cell_type": "markdown",
   "id": "8122b6b7",
   "metadata": {},
   "source": [
    "### Which college offers the most Courses? "
   ]
  },
  {
   "cell_type": "code",
   "execution_count": null,
   "id": "b721ae9a",
   "metadata": {},
   "outputs": [],
   "source": []
  },
  {
   "cell_type": "code",
   "execution_count": null,
   "id": "7ccc3596",
   "metadata": {},
   "outputs": [],
   "source": []
  },
  {
   "cell_type": "code",
   "execution_count": null,
   "id": "3df607cd",
   "metadata": {
    "scrolled": false
   },
   "outputs": [],
   "source": [
    "#data[((data['Year'] >= 2010) & (data['Year'] <= 2016))\n",
    "  #    & (data['Rating'] < 6.0)\n",
    "     # & (data['Revenue (Millions)'] > data['Revenue (Millions)'].quantile(0.95))]"
   ]
  },
  {
   "cell_type": "markdown",
   "id": "9830a1de",
   "metadata": {
    "scrolled": false
   },
   "source": []
  },
  {
   "cell_type": "code",
   "execution_count": null,
   "id": "df6c2c10",
   "metadata": {
    "scrolled": false
   },
   "outputs": [],
   "source": []
  },
  {
   "cell_type": "code",
   "execution_count": null,
   "id": "f6398095",
   "metadata": {
    "scrolled": false
   },
   "outputs": [],
   "source": []
  },
  {
   "cell_type": "code",
   "execution_count": null,
   "id": "7981a9bb",
   "metadata": {
    "scrolled": false
   },
   "outputs": [],
   "source": []
  },
  {
   "cell_type": "code",
   "execution_count": null,
   "id": "d1b0d826",
   "metadata": {
    "scrolled": false
   },
   "outputs": [],
   "source": []
  },
  {
   "cell_type": "code",
   "execution_count": null,
   "id": "2775a1f4",
   "metadata": {
    "scrolled": false
   },
   "outputs": [],
   "source": []
  },
  {
   "cell_type": "code",
   "execution_count": null,
   "id": "06ba1907",
   "metadata": {
    "scrolled": false
   },
   "outputs": [],
   "source": [
    "# Ideas"
   ]
  },
  {
   "cell_type": "markdown",
   "id": "85f2eaed",
   "metadata": {},
   "source": [
    " least points\n",
    "Biggest change year on year (between all)\n",
    "Which college offers most course\n",
    "How many courses offer placements in title\n",
    "how many courses had Round 2\n",
    "which courses accepted anyone\n",
    "Level 7 no points for some courses\n",
    "\n",
    "What colleges had most points for engineering in title, science in title\n",
    "did any courses cease operating YOY"
   ]
  },
  {
   "cell_type": "code",
   "execution_count": null,
   "id": "eb4327e5",
   "metadata": {
    "scrolled": false
   },
   "outputs": [],
   "source": []
  },
  {
   "cell_type": "code",
   "execution_count": null,
   "id": "111020b3",
   "metadata": {
    "scrolled": false
   },
   "outputs": [],
   "source": []
  },
  {
   "cell_type": "code",
   "execution_count": null,
   "id": "e0d7cc75",
   "metadata": {
    "scrolled": false
   },
   "outputs": [],
   "source": []
  },
  {
   "cell_type": "code",
   "execution_count": null,
   "id": "309ee102",
   "metadata": {
    "scrolled": false
   },
   "outputs": [],
   "source": []
  }
 ],
 "metadata": {
  "kernelspec": {
   "display_name": "Python 3",
   "language": "python",
   "name": "python3"
  },
  "language_info": {
   "codemirror_mode": {
    "name": "ipython",
    "version": 3
   },
   "file_extension": ".py",
   "mimetype": "text/x-python",
   "name": "python",
   "nbconvert_exporter": "python",
   "pygments_lexer": "ipython3",
   "version": "3.8.8"
  }
 },
 "nbformat": 4,
 "nbformat_minor": 5
}
